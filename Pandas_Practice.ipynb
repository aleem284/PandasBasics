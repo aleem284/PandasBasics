{
 "cells": [
  {
   "cell_type": "markdown",
   "metadata": {},
   "source": [
    "# Pandas Series"
   ]
  },
  {
   "cell_type": "code",
   "execution_count": 6,
   "metadata": {},
   "outputs": [
    {
     "name": "stdout",
     "output_type": "stream",
     "text": [
      "0    4\n",
      "1    8\n",
      "2    3\n",
      "3    7\n",
      "dtype: int64\n"
     ]
    }
   ],
   "source": [
    "import pandas as pd\n",
    "a1=pd.Series([4,8,3,7])\n",
    "print(a1)"
   ]
  },
  {
   "cell_type": "markdown",
   "metadata": {},
   "source": [
    "# Pandas Series has Values and Indexes"
   ]
  },
  {
   "cell_type": "code",
   "execution_count": 12,
   "metadata": {},
   "outputs": [
    {
     "name": "stdout",
     "output_type": "stream",
     "text": [
      "Values [40 80 30 70]\n",
      "Indexes RangeIndex(start=0, stop=4, step=1)\n"
     ]
    },
    {
     "data": {
      "text/plain": [
       "0    40\n",
       "1    80\n",
       "2    30\n",
       "3    70\n",
       "dtype: int64"
      ]
     },
     "execution_count": 12,
     "metadata": {},
     "output_type": "execute_result"
    }
   ],
   "source": [
    "import pandas as pd\n",
    "a1=pd.Series([40,80,30,70])\n",
    "print('Values',a1.values)\n",
    "print('Indexes',a1.index)\n",
    "a1"
   ]
  },
  {
   "cell_type": "markdown",
   "metadata": {},
   "source": [
    "# Non Numeric Index"
   ]
  },
  {
   "cell_type": "code",
   "execution_count": 15,
   "metadata": {},
   "outputs": [
    {
     "name": "stdout",
     "output_type": "stream",
     "text": [
      "Values [40 80 30 70]\n",
      "Indexes Index(['Jan', 'Feb', 'Mar', 'Apr'], dtype='object')\n"
     ]
    },
    {
     "data": {
      "text/plain": [
       "Jan    40\n",
       "Feb    80\n",
       "Mar    30\n",
       "Apr    70\n",
       "dtype: int64"
      ]
     },
     "execution_count": 15,
     "metadata": {},
     "output_type": "execute_result"
    }
   ],
   "source": [
    "a1=pd.Series([40,80,30,70],index=['Jan','Feb','Mar','Apr'])\n",
    "print('Values',a1.values)\n",
    "print('Indexes',a1.index)\n",
    "a1"
   ]
  },
  {
   "cell_type": "code",
   "execution_count": 18,
   "metadata": {},
   "outputs": [
    {
     "name": "stdout",
     "output_type": "stream",
     "text": [
      "Values [40 80 30 70]\n",
      "Indexes Index(['Jan', 'Feb', 'Mar', 'Apr'], dtype='object')\n"
     ]
    },
    {
     "data": {
      "text/plain": [
       "Jan    40\n",
       "Feb    80\n",
       "Mar    30\n",
       "Apr    70\n",
       "Name: Generate Random Data, dtype: int64"
      ]
     },
     "execution_count": 18,
     "metadata": {},
     "output_type": "execute_result"
    }
   ],
   "source": [
    "a1=pd.Series([40,80,30,70],index=['Jan','Feb','Mar','Apr'],name='Generate Random Data') #Adding Name\n",
    "print('Values',a1.values)\n",
    "print('Indexes',a1.index)\n",
    "a1"
   ]
  },
  {
   "cell_type": "code",
   "execution_count": 22,
   "metadata": {},
   "outputs": [
    {
     "data": {
      "text/plain": [
       "Mon      10\n",
       "Tues     15\n",
       "Wed       7\n",
       "Thurs    18\n",
       "Fri      11\n",
       "Sat       9\n",
       "Sun       0\n",
       "Name: Canteen weekly data of Switches Sales, dtype: int64"
      ]
     },
     "execution_count": 22,
     "metadata": {},
     "output_type": "execute_result"
    }
   ],
   "source": [
    "a2=pd.Series([10,15,7,18,11,9,0],\n",
    "             index=['Mon','Tues','Wed','Thurs','Fri','Sat','Sun'],\n",
    "             name='Canteen weekly data of Switches Sales')\n",
    "a2"
   ]
  },
  {
   "cell_type": "code",
   "execution_count": 23,
   "metadata": {},
   "outputs": [
    {
     "name": "stdout",
     "output_type": "stream",
     "text": [
      "7\n",
      "7\n"
     ]
    }
   ],
   "source": [
    "print(a2['Wed'])   #pick data by name and by index\n",
    "print(a2[2])     "
   ]
  },
  {
   "cell_type": "code",
   "execution_count": 28,
   "metadata": {},
   "outputs": [
    {
     "name": "stdout",
     "output_type": "stream",
     "text": [
      "Wed     7\n",
      "Fri    11\n",
      "Name: Canteen weekly data of Switches Sales, dtype: int64\n",
      "Sun    0\n",
      "Sat    9\n",
      "Name: Canteen weekly data of Switches Sales, dtype: int64\n"
     ]
    }
   ],
   "source": [
    "print(a2[[2,4]]) #multipl selection\n",
    "print(a2[['Sun','Sat']])\n"
   ]
  },
  {
   "cell_type": "code",
   "execution_count": 30,
   "metadata": {},
   "outputs": [
    {
     "name": "stdout",
     "output_type": "stream",
     "text": [
      "Tues     15\n",
      "Thurs    18\n",
      "Fri      11\n",
      "Name: Canteen weekly data of Switches Sales, dtype: int64\n"
     ]
    }
   ],
   "source": [
    "print(a2[a2>10]) #Condition apply"
   ]
  },
  {
   "cell_type": "code",
   "execution_count": 32,
   "metadata": {},
   "outputs": [
    {
     "name": "stdout",
     "output_type": "stream",
     "text": [
      "Mon      10\n",
      "Tues     15\n",
      "Wed       7\n",
      "Thurs    18\n",
      "Fri      11\n",
      "Sat       9\n",
      "Sun       0\n",
      "Name: Canteen weekly data of Switches Sales, dtype: int64\n"
     ]
    },
    {
     "data": {
      "text/plain": [
       "Mon      20\n",
       "Tues     30\n",
       "Wed      14\n",
       "Thurs    36\n",
       "Fri      22\n",
       "Sat      18\n",
       "Sun       0\n",
       "Name: Canteen weekly data of Switches Sales, dtype: int64"
      ]
     },
     "execution_count": 32,
     "metadata": {},
     "output_type": "execute_result"
    }
   ],
   "source": [
    "a3=a2*2    #values multiply by 2\n",
    "print(a2)\n",
    "a3"
   ]
  },
  {
   "cell_type": "code",
   "execution_count": 33,
   "metadata": {},
   "outputs": [
    {
     "data": {
      "text/plain": [
       "Mon      10.0\n",
       "Tues     15.0\n",
       "Wed       7.0\n",
       "Thurs    18.0\n",
       "Fri      11.0\n",
       "Sat       9.0\n",
       "Sun       0.0\n",
       "Name: Canteen weekly data of Switches Sales, dtype: float64"
      ]
     },
     "execution_count": 33,
     "metadata": {},
     "output_type": "execute_result"
    }
   ],
   "source": [
    "a3/2  #we can also perform arithmatic operation"
   ]
  },
  {
   "cell_type": "code",
   "execution_count": 34,
   "metadata": {},
   "outputs": [
    {
     "data": {
      "text/plain": [
       "True"
      ]
     },
     "execution_count": 34,
     "metadata": {},
     "output_type": "execute_result"
    }
   ],
   "source": [
    "'Fri' in a2  #find whether the index is in series or not"
   ]
  },
  {
   "cell_type": "markdown",
   "metadata": {},
   "source": [
    "# Create Panda Series by using array "
   ]
  },
  {
   "cell_type": "code",
   "execution_count": 36,
   "metadata": {},
   "outputs": [
    {
     "data": {
      "text/plain": [
       "a    3\n",
       "b    5\n",
       "c    0\n",
       "d    7\n",
       "e    1\n",
       "dtype: int32"
      ]
     },
     "execution_count": 36,
     "metadata": {},
     "output_type": "execute_result"
    }
   ],
   "source": [
    "import numpy as np\n",
    "val=np.array([3,5,0,7,1])\n",
    "ind=np.array(['a','b','c','d','e'])\n",
    "a4=pd.Series(val,index=ind)\n",
    "a4"
   ]
  },
  {
   "cell_type": "markdown",
   "metadata": {},
   "source": [
    "# Pandas Series by Dictionary"
   ]
  },
  {
   "cell_type": "code",
   "execution_count": 40,
   "metadata": {},
   "outputs": [
    {
     "name": "stdout",
     "output_type": "stream",
     "text": [
      "Sindh          30000\n",
      "Punjab         20000\n",
      "KPK            15000\n",
      "Balochistan     7000\n",
      "dtype: int64\n",
      "Index(['Sindh', 'Punjab', 'KPK', 'Balochistan'], dtype='object')\n"
     ]
    }
   ],
   "source": [
    "sdata={'Sindh':30000, 'Punjab':20000,'KPK':15000,'Balochistan':7000}\n",
    "a5=pd.Series(sdata)\n",
    "print(a5)\n",
    "print(a5.index)"
   ]
  },
  {
   "cell_type": "code",
   "execution_count": 41,
   "metadata": {},
   "outputs": [
    {
     "name": "stdout",
     "output_type": "stream",
     "text": [
      "Balochistan     7000\n",
      "Sindh          30000\n",
      "Punjab         20000\n",
      "KPK            15000\n",
      "dtype: int64\n",
      "Index(['Balochistan', 'Sindh', 'Punjab', 'KPK'], dtype='object')\n"
     ]
    }
   ],
   "source": [
    "sdata={'Sindh':30000, 'Punjab':20000,'KPK':15000,'Balochistan':7000}\n",
    "a5=pd.Series(sdata, index=['Balochistan', 'Sindh','Punjab','KPK'])   #Index Shuffle but data same\n",
    "print(a5)\n",
    "print(a5.index)"
   ]
  },
  {
   "cell_type": "code",
   "execution_count": 45,
   "metadata": {},
   "outputs": [
    {
     "name": "stdout",
     "output_type": "stream",
     "text": [
      "Balochistan     7000.0\n",
      "Sindh          30000.0\n",
      "Punjab         20000.0\n",
      "KPK            15000.0\n",
      "Gilgit             NaN\n",
      "dtype: float64\n",
      "Index(['Balochistan', 'Sindh', 'Punjab', 'KPK', 'Gilgit'], dtype='object')\n"
     ]
    },
    {
     "data": {
      "text/plain": [
       "Balochistan    False\n",
       "Sindh          False\n",
       "Punjab         False\n",
       "KPK            False\n",
       "Gilgit          True\n",
       "dtype: bool"
      ]
     },
     "execution_count": 45,
     "metadata": {},
     "output_type": "execute_result"
    }
   ],
   "source": [
    "sdata={'Sindh':30000, 'Punjab':20000,'KPK':15000,'Balochistan':7000}\n",
    "a5=pd.Series(sdata, index=['Balochistan', 'Sindh','Punjab','KPK','Gilgit'])   #Mising data we increased 1 index\n",
    "print(a5)\n",
    "print(a5.index)\n",
    "#print(pd.isnull(a5))  #Check the null values it give true when NaN is available. Null is value which is not present in series\n",
    "a5.isnull()  #Both commands are same pd.isnull is function and a5.isnull is a method"
   ]
  },
  {
   "cell_type": "code",
   "execution_count": 48,
   "metadata": {},
   "outputs": [
    {
     "name": "stdout",
     "output_type": "stream",
     "text": [
      "State Names\n",
      "Balochistan     7000.0\n",
      "Sindh          30000.0\n",
      "Punjab         20000.0\n",
      "KPK            15000.0\n",
      "Gilgit             NaN\n",
      "Name: Tax paying state, dtype: float64\n"
     ]
    }
   ],
   "source": [
    "a5.name='Tax paying state'\n",
    "a5.index.name='State Names'  #update index name\n",
    "print(a5)"
   ]
  },
  {
   "cell_type": "code",
   "execution_count": 49,
   "metadata": {},
   "outputs": [
    {
     "name": "stdout",
     "output_type": "stream",
     "text": [
      "B     7000.0\n",
      "S    30000.0\n",
      "P    20000.0\n",
      "K    15000.0\n",
      "G        NaN\n",
      "Name: Tax paying state, dtype: float64\n"
     ]
    }
   ],
   "source": [
    "a5.index=['B','S','P','K','G']  #Index update\n",
    "print(a5)"
   ]
  },
  {
   "cell_type": "code",
   "execution_count": null,
   "metadata": {},
   "outputs": [],
   "source": []
  }
 ],
 "metadata": {
  "kernelspec": {
   "display_name": "Python 3",
   "language": "python",
   "name": "python3"
  },
  "language_info": {
   "codemirror_mode": {
    "name": "ipython",
    "version": 3
   },
   "file_extension": ".py",
   "mimetype": "text/x-python",
   "name": "python",
   "nbconvert_exporter": "python",
   "pygments_lexer": "ipython3",
   "version": "3.7.3"
  }
 },
 "nbformat": 4,
 "nbformat_minor": 2
}
