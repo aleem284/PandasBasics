{
 "cells": [
  {
   "cell_type": "markdown",
   "metadata": {},
   "source": [
    "# Pandas Series"
   ]
  },
  {
   "cell_type": "code",
   "execution_count": 6,
   "metadata": {},
   "outputs": [
    {
     "name": "stdout",
     "output_type": "stream",
     "text": [
      "0    4\n",
      "1    8\n",
      "2    3\n",
      "3    7\n",
      "dtype: int64\n"
     ]
    }
   ],
   "source": [
    "import pandas as pd\n",
    "a1=pd.Series([4,8,3,7])\n",
    "print(a1)"
   ]
  },
  {
   "cell_type": "markdown",
   "metadata": {},
   "source": [
    "# Pandas Series has Values and Indexes"
   ]
  },
  {
   "cell_type": "code",
   "execution_count": 12,
   "metadata": {},
   "outputs": [
    {
     "name": "stdout",
     "output_type": "stream",
     "text": [
      "Values [40 80 30 70]\n",
      "Indexes RangeIndex(start=0, stop=4, step=1)\n"
     ]
    },
    {
     "data": {
      "text/plain": [
       "0    40\n",
       "1    80\n",
       "2    30\n",
       "3    70\n",
       "dtype: int64"
      ]
     },
     "execution_count": 12,
     "metadata": {},
     "output_type": "execute_result"
    }
   ],
   "source": [
    "import pandas as pd\n",
    "a1=pd.Series([40,80,30,70])\n",
    "print('Values',a1.values)\n",
    "print('Indexes',a1.index)\n",
    "a1"
   ]
  },
  {
   "cell_type": "markdown",
   "metadata": {},
   "source": [
    "# Non Numeric Index"
   ]
  },
  {
   "cell_type": "code",
   "execution_count": 15,
   "metadata": {},
   "outputs": [
    {
     "name": "stdout",
     "output_type": "stream",
     "text": [
      "Values [40 80 30 70]\n",
      "Indexes Index(['Jan', 'Feb', 'Mar', 'Apr'], dtype='object')\n"
     ]
    },
    {
     "data": {
      "text/plain": [
       "Jan    40\n",
       "Feb    80\n",
       "Mar    30\n",
       "Apr    70\n",
       "dtype: int64"
      ]
     },
     "execution_count": 15,
     "metadata": {},
     "output_type": "execute_result"
    }
   ],
   "source": [
    "a1=pd.Series([40,80,30,70],index=['Jan','Feb','Mar','Apr'])\n",
    "print('Values',a1.values)\n",
    "print('Indexes',a1.index)\n",
    "a1"
   ]
  },
  {
   "cell_type": "code",
   "execution_count": 18,
   "metadata": {},
   "outputs": [
    {
     "name": "stdout",
     "output_type": "stream",
     "text": [
      "Values [40 80 30 70]\n",
      "Indexes Index(['Jan', 'Feb', 'Mar', 'Apr'], dtype='object')\n"
     ]
    },
    {
     "data": {
      "text/plain": [
       "Jan    40\n",
       "Feb    80\n",
       "Mar    30\n",
       "Apr    70\n",
       "Name: Generate Random Data, dtype: int64"
      ]
     },
     "execution_count": 18,
     "metadata": {},
     "output_type": "execute_result"
    }
   ],
   "source": [
    "a1=pd.Series([40,80,30,70],index=['Jan','Feb','Mar','Apr'],name='Generate Random Data') #Adding Name\n",
    "print('Values',a1.values)\n",
    "print('Indexes',a1.index)\n",
    "a1"
   ]
  },
  {
   "cell_type": "code",
   "execution_count": 22,
   "metadata": {},
   "outputs": [
    {
     "data": {
      "text/plain": [
       "Mon      10\n",
       "Tues     15\n",
       "Wed       7\n",
       "Thurs    18\n",
       "Fri      11\n",
       "Sat       9\n",
       "Sun       0\n",
       "Name: Canteen weekly data of Switches Sales, dtype: int64"
      ]
     },
     "execution_count": 22,
     "metadata": {},
     "output_type": "execute_result"
    }
   ],
   "source": [
    "a2=pd.Series([10,15,7,18,11,9,0],\n",
    "             index=['Mon','Tues','Wed','Thurs','Fri','Sat','Sun'],\n",
    "             name='Canteen weekly data of Switches Sales')\n",
    "a2"
   ]
  },
  {
   "cell_type": "code",
   "execution_count": 23,
   "metadata": {},
   "outputs": [
    {
     "name": "stdout",
     "output_type": "stream",
     "text": [
      "7\n",
      "7\n"
     ]
    }
   ],
   "source": [
    "print(a2['Wed'])   #pick data by name and by index\n",
    "print(a2[2])     "
   ]
  },
  {
   "cell_type": "code",
   "execution_count": 28,
   "metadata": {},
   "outputs": [
    {
     "name": "stdout",
     "output_type": "stream",
     "text": [
      "Wed     7\n",
      "Fri    11\n",
      "Name: Canteen weekly data of Switches Sales, dtype: int64\n",
      "Sun    0\n",
      "Sat    9\n",
      "Name: Canteen weekly data of Switches Sales, dtype: int64\n"
     ]
    }
   ],
   "source": [
    "print(a2[[2,4]]) #multipl selection\n",
    "print(a2[['Sun','Sat']])\n"
   ]
  },
  {
   "cell_type": "code",
   "execution_count": 30,
   "metadata": {},
   "outputs": [
    {
     "name": "stdout",
     "output_type": "stream",
     "text": [
      "Tues     15\n",
      "Thurs    18\n",
      "Fri      11\n",
      "Name: Canteen weekly data of Switches Sales, dtype: int64\n"
     ]
    }
   ],
   "source": [
    "print(a2[a2>10]) #Condition apply"
   ]
  },
  {
   "cell_type": "code",
   "execution_count": 32,
   "metadata": {},
   "outputs": [
    {
     "name": "stdout",
     "output_type": "stream",
     "text": [
      "Mon      10\n",
      "Tues     15\n",
      "Wed       7\n",
      "Thurs    18\n",
      "Fri      11\n",
      "Sat       9\n",
      "Sun       0\n",
      "Name: Canteen weekly data of Switches Sales, dtype: int64\n"
     ]
    },
    {
     "data": {
      "text/plain": [
       "Mon      20\n",
       "Tues     30\n",
       "Wed      14\n",
       "Thurs    36\n",
       "Fri      22\n",
       "Sat      18\n",
       "Sun       0\n",
       "Name: Canteen weekly data of Switches Sales, dtype: int64"
      ]
     },
     "execution_count": 32,
     "metadata": {},
     "output_type": "execute_result"
    }
   ],
   "source": [
    "a3=a2*2    #values multiply by 2\n",
    "print(a2)\n",
    "a3"
   ]
  },
  {
   "cell_type": "code",
   "execution_count": 33,
   "metadata": {},
   "outputs": [
    {
     "data": {
      "text/plain": [
       "Mon      10.0\n",
       "Tues     15.0\n",
       "Wed       7.0\n",
       "Thurs    18.0\n",
       "Fri      11.0\n",
       "Sat       9.0\n",
       "Sun       0.0\n",
       "Name: Canteen weekly data of Switches Sales, dtype: float64"
      ]
     },
     "execution_count": 33,
     "metadata": {},
     "output_type": "execute_result"
    }
   ],
   "source": [
    "a3/2  #we can also perform arithmatic operation"
   ]
  },
  {
   "cell_type": "code",
   "execution_count": 34,
   "metadata": {},
   "outputs": [
    {
     "data": {
      "text/plain": [
       "True"
      ]
     },
     "execution_count": 34,
     "metadata": {},
     "output_type": "execute_result"
    }
   ],
   "source": [
    "'Fri' in a2  #find whether the index is in series or not"
   ]
  },
  {
   "cell_type": "markdown",
   "metadata": {},
   "source": [
    "# Create Panda Series by using array "
   ]
  },
  {
   "cell_type": "code",
   "execution_count": 36,
   "metadata": {},
   "outputs": [
    {
     "data": {
      "text/plain": [
       "a    3\n",
       "b    5\n",
       "c    0\n",
       "d    7\n",
       "e    1\n",
       "dtype: int32"
      ]
     },
     "execution_count": 36,
     "metadata": {},
     "output_type": "execute_result"
    }
   ],
   "source": [
    "import numpy as np\n",
    "val=np.array([3,5,0,7,1])\n",
    "ind=np.array(['a','b','c','d','e'])\n",
    "a4=pd.Series(val,index=ind)\n",
    "a4"
   ]
  },
  {
   "cell_type": "markdown",
   "metadata": {},
   "source": [
    "# Pandas Series by Dictionary"
   ]
  },
  {
   "cell_type": "code",
   "execution_count": 40,
   "metadata": {},
   "outputs": [
    {
     "name": "stdout",
     "output_type": "stream",
     "text": [
      "Sindh          30000\n",
      "Punjab         20000\n",
      "KPK            15000\n",
      "Balochistan     7000\n",
      "dtype: int64\n",
      "Index(['Sindh', 'Punjab', 'KPK', 'Balochistan'], dtype='object')\n"
     ]
    }
   ],
   "source": [
    "sdata={'Sindh':30000, 'Punjab':20000,'KPK':15000,'Balochistan':7000}\n",
    "a5=pd.Series(sdata)\n",
    "print(a5)\n",
    "print(a5.index)"
   ]
  },
  {
   "cell_type": "code",
   "execution_count": 41,
   "metadata": {},
   "outputs": [
    {
     "name": "stdout",
     "output_type": "stream",
     "text": [
      "Balochistan     7000\n",
      "Sindh          30000\n",
      "Punjab         20000\n",
      "KPK            15000\n",
      "dtype: int64\n",
      "Index(['Balochistan', 'Sindh', 'Punjab', 'KPK'], dtype='object')\n"
     ]
    }
   ],
   "source": [
    "sdata={'Sindh':30000, 'Punjab':20000,'KPK':15000,'Balochistan':7000}\n",
    "a5=pd.Series(sdata, index=['Balochistan', 'Sindh','Punjab','KPK'])   #Index Shuffle but data same\n",
    "print(a5)\n",
    "print(a5.index)"
   ]
  },
  {
   "cell_type": "code",
   "execution_count": 45,
   "metadata": {},
   "outputs": [
    {
     "name": "stdout",
     "output_type": "stream",
     "text": [
      "Balochistan     7000.0\n",
      "Sindh          30000.0\n",
      "Punjab         20000.0\n",
      "KPK            15000.0\n",
      "Gilgit             NaN\n",
      "dtype: float64\n",
      "Index(['Balochistan', 'Sindh', 'Punjab', 'KPK', 'Gilgit'], dtype='object')\n"
     ]
    },
    {
     "data": {
      "text/plain": [
       "Balochistan    False\n",
       "Sindh          False\n",
       "Punjab         False\n",
       "KPK            False\n",
       "Gilgit          True\n",
       "dtype: bool"
      ]
     },
     "execution_count": 45,
     "metadata": {},
     "output_type": "execute_result"
    }
   ],
   "source": [
    "sdata={'Sindh':30000, 'Punjab':20000,'KPK':15000,'Balochistan':7000}\n",
    "a5=pd.Series(sdata, index=['Balochistan', 'Sindh','Punjab','KPK','Gilgit'])   #Mising data we increased 1 index\n",
    "print(a5)\n",
    "print(a5.index)\n",
    "#print(pd.isnull(a5))  #Check the null values it give true when NaN is available. Null is value which is not present in series\n",
    "a5.isnull()  #Both commands are same pd.isnull is function and a5.isnull is a method"
   ]
  },
  {
   "cell_type": "code",
   "execution_count": 48,
   "metadata": {},
   "outputs": [
    {
     "name": "stdout",
     "output_type": "stream",
     "text": [
      "State Names\n",
      "Balochistan     7000.0\n",
      "Sindh          30000.0\n",
      "Punjab         20000.0\n",
      "KPK            15000.0\n",
      "Gilgit             NaN\n",
      "Name: Tax paying state, dtype: float64\n"
     ]
    }
   ],
   "source": [
    "a5.name='Tax paying state'\n",
    "a5.index.name='State Names'  #update index name\n",
    "print(a5)"
   ]
  },
  {
   "cell_type": "code",
   "execution_count": 49,
   "metadata": {},
   "outputs": [
    {
     "name": "stdout",
     "output_type": "stream",
     "text": [
      "B     7000.0\n",
      "S    30000.0\n",
      "P    20000.0\n",
      "K    15000.0\n",
      "G        NaN\n",
      "Name: Tax paying state, dtype: float64\n"
     ]
    }
   ],
   "source": [
    "a5.index=['B','S','P','K','G']  #Index update\n",
    "print(a5)"
   ]
  },
  {
   "cell_type": "markdown",
   "metadata": {},
   "source": [
    "# Pandas DataFrame"
   ]
  },
  {
   "cell_type": "code",
   "execution_count": 3,
   "metadata": {},
   "outputs": [
    {
     "name": "stdout",
     "output_type": "stream",
     "text": [
      "           No.of Boys  No.of Girls\n",
      "Class I            15           13\n",
      "Class II           18           11\n",
      "Class III          25           15\n",
      "Class IV           30           20\n"
     ]
    }
   ],
   "source": [
    "import pandas as pd\n",
    "boy=pd.Series([15,18,25,30],index=['Class I','Class II','Class III','Class IV'])  #length of Both Series Indexes should be the same\n",
    "girl=pd.Series([13,11,15,20],index=['Class I','Class II','Class III','Class IV'])\n",
    "data={'No.of Boys':boy,'No.of Girls':girl}\n",
    "final_data=pd.DataFrame(data)\n",
    "print(final_data)"
   ]
  },
  {
   "cell_type": "code",
   "execution_count": 32,
   "metadata": {},
   "outputs": [
    {
     "data": {
      "text/html": [
       "<div>\n",
       "<style scoped>\n",
       "    .dataframe tbody tr th:only-of-type {\n",
       "        vertical-align: middle;\n",
       "    }\n",
       "\n",
       "    .dataframe tbody tr th {\n",
       "        vertical-align: top;\n",
       "    }\n",
       "\n",
       "    .dataframe thead th {\n",
       "        text-align: right;\n",
       "    }\n",
       "</style>\n",
       "<table border=\"1\" class=\"dataframe\">\n",
       "  <thead>\n",
       "    <tr style=\"text-align: right;\">\n",
       "      <th></th>\n",
       "      <th>Country</th>\n",
       "      <th>Year</th>\n",
       "      <th>Literacy</th>\n",
       "    </tr>\n",
       "  </thead>\n",
       "  <tbody>\n",
       "    <tr>\n",
       "      <th>1st</th>\n",
       "      <td>England</td>\n",
       "      <td>2005</td>\n",
       "      <td>75.0</td>\n",
       "    </tr>\n",
       "    <tr>\n",
       "      <th>2nd</th>\n",
       "      <td>China</td>\n",
       "      <td>2006</td>\n",
       "      <td>85.5</td>\n",
       "    </tr>\n",
       "    <tr>\n",
       "      <th>3rd</th>\n",
       "      <td>USA</td>\n",
       "      <td>2007</td>\n",
       "      <td>95.2</td>\n",
       "    </tr>\n",
       "    <tr>\n",
       "      <th>4th</th>\n",
       "      <td>France</td>\n",
       "      <td>2008</td>\n",
       "      <td>83.7</td>\n",
       "    </tr>\n",
       "    <tr>\n",
       "      <th>5th</th>\n",
       "      <td>Germany</td>\n",
       "      <td>2009</td>\n",
       "      <td>88.6</td>\n",
       "    </tr>\n",
       "    <tr>\n",
       "      <th>6th</th>\n",
       "      <td>India</td>\n",
       "      <td>2010</td>\n",
       "      <td>90.1</td>\n",
       "    </tr>\n",
       "    <tr>\n",
       "      <th>7th</th>\n",
       "      <td>Canada</td>\n",
       "      <td>2011</td>\n",
       "      <td>96.2</td>\n",
       "    </tr>\n",
       "  </tbody>\n",
       "</table>\n",
       "</div>"
      ],
      "text/plain": [
       "     Country  Year  Literacy\n",
       "1st  England  2005      75.0\n",
       "2nd    China  2006      85.5\n",
       "3rd      USA  2007      95.2\n",
       "4th   France  2008      83.7\n",
       "5th  Germany  2009      88.6\n",
       "6th    India  2010      90.1\n",
       "7th   Canada  2011      96.2"
      ]
     },
     "metadata": {},
     "output_type": "display_data"
    }
   ],
   "source": [
    "data={'Country':['England','China','USA','France','Germany','India','Canada'], 'Year':[2005,2006,2007,2008,2009,2010,2011],\n",
    "      'Literacy':[75,85.5,95.2,83.7,88.6,90.1,96.2]}\n",
    "frame=pd.DataFrame(data, index=['1st','2nd','3rd','4th','5th','6th','7th'])\n",
    "display(frame)"
   ]
  },
  {
   "cell_type": "code",
   "execution_count": 42,
   "metadata": {},
   "outputs": [
    {
     "data": {
      "text/html": [
       "<div>\n",
       "<style scoped>\n",
       "    .dataframe tbody tr th:only-of-type {\n",
       "        vertical-align: middle;\n",
       "    }\n",
       "\n",
       "    .dataframe tbody tr th {\n",
       "        vertical-align: top;\n",
       "    }\n",
       "\n",
       "    .dataframe thead th {\n",
       "        text-align: right;\n",
       "    }\n",
       "</style>\n",
       "<table border=\"1\" class=\"dataframe\">\n",
       "  <thead>\n",
       "    <tr style=\"text-align: right;\">\n",
       "      <th></th>\n",
       "      <th>Country</th>\n",
       "      <th>Year</th>\n",
       "      <th>Literacy</th>\n",
       "    </tr>\n",
       "  </thead>\n",
       "  <tbody>\n",
       "    <tr>\n",
       "      <th>1st</th>\n",
       "      <td>England</td>\n",
       "      <td>2005</td>\n",
       "      <td>75.0</td>\n",
       "    </tr>\n",
       "    <tr>\n",
       "      <th>2nd</th>\n",
       "      <td>China</td>\n",
       "      <td>2006</td>\n",
       "      <td>85.5</td>\n",
       "    </tr>\n",
       "    <tr>\n",
       "      <th>3rd</th>\n",
       "      <td>USA</td>\n",
       "      <td>2007</td>\n",
       "      <td>95.2</td>\n",
       "    </tr>\n",
       "    <tr>\n",
       "      <th>4th</th>\n",
       "      <td>France</td>\n",
       "      <td>2008</td>\n",
       "      <td>83.7</td>\n",
       "    </tr>\n",
       "    <tr>\n",
       "      <th>5th</th>\n",
       "      <td>Germany</td>\n",
       "      <td>2009</td>\n",
       "      <td>88.6</td>\n",
       "    </tr>\n",
       "  </tbody>\n",
       "</table>\n",
       "</div>"
      ],
      "text/plain": [
       "     Country  Year  Literacy\n",
       "1st  England  2005      75.0\n",
       "2nd    China  2006      85.5\n",
       "3rd      USA  2007      95.2\n",
       "4th   France  2008      83.7\n",
       "5th  Germany  2009      88.6"
      ]
     },
     "execution_count": 42,
     "metadata": {},
     "output_type": "execute_result"
    }
   ],
   "source": [
    "frame.head() #it print the first five rows of ur data"
   ]
  },
  {
   "cell_type": "code",
   "execution_count": 43,
   "metadata": {},
   "outputs": [
    {
     "data": {
      "text/html": [
       "<div>\n",
       "<style scoped>\n",
       "    .dataframe tbody tr th:only-of-type {\n",
       "        vertical-align: middle;\n",
       "    }\n",
       "\n",
       "    .dataframe tbody tr th {\n",
       "        vertical-align: top;\n",
       "    }\n",
       "\n",
       "    .dataframe thead th {\n",
       "        text-align: right;\n",
       "    }\n",
       "</style>\n",
       "<table border=\"1\" class=\"dataframe\">\n",
       "  <thead>\n",
       "    <tr style=\"text-align: right;\">\n",
       "      <th></th>\n",
       "      <th>Year</th>\n",
       "      <th>Literacy</th>\n",
       "      <th>Country</th>\n",
       "    </tr>\n",
       "  </thead>\n",
       "  <tbody>\n",
       "    <tr>\n",
       "      <th>1st</th>\n",
       "      <td>2005</td>\n",
       "      <td>75.0</td>\n",
       "      <td>England</td>\n",
       "    </tr>\n",
       "    <tr>\n",
       "      <th>2nd</th>\n",
       "      <td>2006</td>\n",
       "      <td>85.5</td>\n",
       "      <td>China</td>\n",
       "    </tr>\n",
       "    <tr>\n",
       "      <th>3rd</th>\n",
       "      <td>2007</td>\n",
       "      <td>95.2</td>\n",
       "      <td>USA</td>\n",
       "    </tr>\n",
       "    <tr>\n",
       "      <th>4th</th>\n",
       "      <td>2008</td>\n",
       "      <td>83.7</td>\n",
       "      <td>France</td>\n",
       "    </tr>\n",
       "    <tr>\n",
       "      <th>5th</th>\n",
       "      <td>2009</td>\n",
       "      <td>88.6</td>\n",
       "      <td>Germany</td>\n",
       "    </tr>\n",
       "    <tr>\n",
       "      <th>6th</th>\n",
       "      <td>2010</td>\n",
       "      <td>90.1</td>\n",
       "      <td>India</td>\n",
       "    </tr>\n",
       "    <tr>\n",
       "      <th>7th</th>\n",
       "      <td>2011</td>\n",
       "      <td>96.2</td>\n",
       "      <td>Canada</td>\n",
       "    </tr>\n",
       "  </tbody>\n",
       "</table>\n",
       "</div>"
      ],
      "text/plain": [
       "     Year  Literacy  Country\n",
       "1st  2005      75.0  England\n",
       "2nd  2006      85.5    China\n",
       "3rd  2007      95.2      USA\n",
       "4th  2008      83.7   France\n",
       "5th  2009      88.6  Germany\n",
       "6th  2010      90.1    India\n",
       "7th  2011      96.2   Canada"
      ]
     },
     "execution_count": 43,
     "metadata": {},
     "output_type": "execute_result"
    }
   ],
   "source": [
    "frame4=pd.DataFrame(data,columns=['Year','Literacy','Country'],index=['1st','2nd','3rd','4th','5th','6th','7th']) #we can change the position as well\n",
    "frame4"
   ]
  },
  {
   "cell_type": "code",
   "execution_count": 46,
   "metadata": {},
   "outputs": [
    {
     "data": {
      "text/html": [
       "<div>\n",
       "<style scoped>\n",
       "    .dataframe tbody tr th:only-of-type {\n",
       "        vertical-align: middle;\n",
       "    }\n",
       "\n",
       "    .dataframe tbody tr th {\n",
       "        vertical-align: top;\n",
       "    }\n",
       "\n",
       "    .dataframe thead th {\n",
       "        text-align: right;\n",
       "    }\n",
       "</style>\n",
       "<table border=\"1\" class=\"dataframe\">\n",
       "  <thead>\n",
       "    <tr style=\"text-align: right;\">\n",
       "      <th></th>\n",
       "      <th>Year</th>\n",
       "      <th>Literacy</th>\n",
       "      <th>Country</th>\n",
       "      <th>Economy</th>\n",
       "    </tr>\n",
       "  </thead>\n",
       "  <tbody>\n",
       "    <tr>\n",
       "      <th>1st</th>\n",
       "      <td>2005</td>\n",
       "      <td>75.0</td>\n",
       "      <td>England</td>\n",
       "      <td>NaN</td>\n",
       "    </tr>\n",
       "    <tr>\n",
       "      <th>2nd</th>\n",
       "      <td>2006</td>\n",
       "      <td>85.5</td>\n",
       "      <td>China</td>\n",
       "      <td>NaN</td>\n",
       "    </tr>\n",
       "    <tr>\n",
       "      <th>3rd</th>\n",
       "      <td>2007</td>\n",
       "      <td>95.2</td>\n",
       "      <td>USA</td>\n",
       "      <td>NaN</td>\n",
       "    </tr>\n",
       "    <tr>\n",
       "      <th>4th</th>\n",
       "      <td>2008</td>\n",
       "      <td>83.7</td>\n",
       "      <td>France</td>\n",
       "      <td>NaN</td>\n",
       "    </tr>\n",
       "    <tr>\n",
       "      <th>5th</th>\n",
       "      <td>2009</td>\n",
       "      <td>88.6</td>\n",
       "      <td>Germany</td>\n",
       "      <td>NaN</td>\n",
       "    </tr>\n",
       "    <tr>\n",
       "      <th>6th</th>\n",
       "      <td>2010</td>\n",
       "      <td>90.1</td>\n",
       "      <td>India</td>\n",
       "      <td>NaN</td>\n",
       "    </tr>\n",
       "    <tr>\n",
       "      <th>7th</th>\n",
       "      <td>2011</td>\n",
       "      <td>96.2</td>\n",
       "      <td>Canada</td>\n",
       "      <td>NaN</td>\n",
       "    </tr>\n",
       "  </tbody>\n",
       "</table>\n",
       "</div>"
      ],
      "text/plain": [
       "     Year  Literacy  Country Economy\n",
       "1st  2005      75.0  England     NaN\n",
       "2nd  2006      85.5    China     NaN\n",
       "3rd  2007      95.2      USA     NaN\n",
       "4th  2008      83.7   France     NaN\n",
       "5th  2009      88.6  Germany     NaN\n",
       "6th  2010      90.1    India     NaN\n",
       "7th  2011      96.2   Canada     NaN"
      ]
     },
     "execution_count": 46,
     "metadata": {},
     "output_type": "execute_result"
    }
   ],
   "source": [
    "frame1=pd.DataFrame(data,columns=['Year','Literacy','Country','Economy'],index=['1st','2nd','3rd','4th','5th','6th','7th']) #adding new column\n",
    "frame1"
   ]
  },
  {
   "cell_type": "code",
   "execution_count": 47,
   "metadata": {},
   "outputs": [
    {
     "name": "stdout",
     "output_type": "stream",
     "text": [
      "Index(['Year', 'Literacy', 'Country', 'Economy'], dtype='object')\n",
      "Index(['1st', '2nd', '3rd', '4th', '5th', '6th', '7th'], dtype='object')\n"
     ]
    }
   ],
   "source": [
    "print(frame1.columns)\n",
    "print(frame1.index)"
   ]
  },
  {
   "cell_type": "code",
   "execution_count": 48,
   "metadata": {},
   "outputs": [
    {
     "data": {
      "text/plain": [
       "1st    2005\n",
       "2nd    2006\n",
       "3rd    2007\n",
       "4th    2008\n",
       "5th    2009\n",
       "6th    2010\n",
       "7th    2011\n",
       "Name: Year, dtype: int64"
      ]
     },
     "execution_count": 48,
     "metadata": {},
     "output_type": "execute_result"
    }
   ],
   "source": [
    "#print(data)\n",
    "#data['Country']  #Dictionary like notation to access data\n",
    "frame1['Year'] #Dataframe column data"
   ]
  },
  {
   "cell_type": "code",
   "execution_count": 49,
   "metadata": {},
   "outputs": [
    {
     "data": {
      "text/plain": [
       "1st    England\n",
       "2nd      China\n",
       "3rd        USA\n",
       "4th     France\n",
       "5th    Germany\n",
       "6th      India\n",
       "7th     Canada\n",
       "Name: Country, dtype: object"
      ]
     },
     "execution_count": 49,
     "metadata": {},
     "output_type": "execute_result"
    }
   ],
   "source": [
    "frame1.Country #attribute style"
   ]
  },
  {
   "cell_type": "code",
   "execution_count": 54,
   "metadata": {},
   "outputs": [
    {
     "data": {
      "text/plain": [
       "'China'"
      ]
     },
     "execution_count": 54,
     "metadata": {},
     "output_type": "execute_result"
    }
   ],
   "source": [
    "frame1.loc['2nd','Country'] # f.loc(row,columm)\n",
    "#frame1.loc['2nd',['Literacy','Year']] #give row index name which we want to access bcz loc function allows row name instead of default index like (0,1,2...) . "
   ]
  },
  {
   "cell_type": "code",
   "execution_count": 56,
   "metadata": {},
   "outputs": [
    {
     "data": {
      "text/html": [
       "<div>\n",
       "<style scoped>\n",
       "    .dataframe tbody tr th:only-of-type {\n",
       "        vertical-align: middle;\n",
       "    }\n",
       "\n",
       "    .dataframe tbody tr th {\n",
       "        vertical-align: top;\n",
       "    }\n",
       "\n",
       "    .dataframe thead th {\n",
       "        text-align: right;\n",
       "    }\n",
       "</style>\n",
       "<table border=\"1\" class=\"dataframe\">\n",
       "  <thead>\n",
       "    <tr style=\"text-align: right;\">\n",
       "      <th></th>\n",
       "      <th>Year</th>\n",
       "      <th>Literacy</th>\n",
       "      <th>Country</th>\n",
       "      <th>Economy</th>\n",
       "    </tr>\n",
       "  </thead>\n",
       "  <tbody>\n",
       "    <tr>\n",
       "      <th>3rd</th>\n",
       "      <td>2007</td>\n",
       "      <td>95.2</td>\n",
       "      <td>USA</td>\n",
       "      <td>NaN</td>\n",
       "    </tr>\n",
       "    <tr>\n",
       "      <th>5th</th>\n",
       "      <td>2009</td>\n",
       "      <td>88.6</td>\n",
       "      <td>Germany</td>\n",
       "      <td>NaN</td>\n",
       "    </tr>\n",
       "  </tbody>\n",
       "</table>\n",
       "</div>"
      ],
      "text/plain": [
       "     Year  Literacy  Country Economy\n",
       "3rd  2007      95.2      USA     NaN\n",
       "5th  2009      88.6  Germany     NaN"
      ]
     },
     "execution_count": 56,
     "metadata": {},
     "output_type": "execute_result"
    }
   ],
   "source": [
    "frame1.loc['3rd':'6th':2] #just like slicing they give row between 2 to 6 and step size 2 (frame.loc[start:end:stepsize])"
   ]
  },
  {
   "cell_type": "code",
   "execution_count": 71,
   "metadata": {},
   "outputs": [
    {
     "data": {
      "text/html": [
       "<div>\n",
       "<style scoped>\n",
       "    .dataframe tbody tr th:only-of-type {\n",
       "        vertical-align: middle;\n",
       "    }\n",
       "\n",
       "    .dataframe tbody tr th {\n",
       "        vertical-align: top;\n",
       "    }\n",
       "\n",
       "    .dataframe thead th {\n",
       "        text-align: right;\n",
       "    }\n",
       "</style>\n",
       "<table border=\"1\" class=\"dataframe\">\n",
       "  <thead>\n",
       "    <tr style=\"text-align: right;\">\n",
       "      <th></th>\n",
       "      <th>Literacy</th>\n",
       "      <th>Country</th>\n",
       "    </tr>\n",
       "  </thead>\n",
       "  <tbody>\n",
       "    <tr>\n",
       "      <th>3rd</th>\n",
       "      <td>95.2</td>\n",
       "      <td>USA</td>\n",
       "    </tr>\n",
       "    <tr>\n",
       "      <th>4th</th>\n",
       "      <td>83.7</td>\n",
       "      <td>France</td>\n",
       "    </tr>\n",
       "    <tr>\n",
       "      <th>5th</th>\n",
       "      <td>88.6</td>\n",
       "      <td>Germany</td>\n",
       "    </tr>\n",
       "  </tbody>\n",
       "</table>\n",
       "</div>"
      ],
      "text/plain": [
       "     Literacy  Country\n",
       "3rd      95.2      USA\n",
       "4th      83.7   France\n",
       "5th      88.6  Germany"
      ]
     },
     "execution_count": 71,
     "metadata": {},
     "output_type": "execute_result"
    }
   ],
   "source": [
    "frame1.iloc[1:4]    #in iloc function u can access data through its default index\n",
    "frame1.iloc[2:5:1,1:3:1]  "
   ]
  },
  {
   "cell_type": "code",
   "execution_count": 23,
   "metadata": {},
   "outputs": [
    {
     "name": "stdout",
     "output_type": "stream",
     "text": [
      "7\n"
     ]
    }
   ],
   "source": [
    "print(len(frame1)) #it give the total number of rows"
   ]
  },
  {
   "cell_type": "code",
   "execution_count": 28,
   "metadata": {},
   "outputs": [
    {
     "data": {
      "text/html": [
       "<div>\n",
       "<style scoped>\n",
       "    .dataframe tbody tr th:only-of-type {\n",
       "        vertical-align: middle;\n",
       "    }\n",
       "\n",
       "    .dataframe tbody tr th {\n",
       "        vertical-align: top;\n",
       "    }\n",
       "\n",
       "    .dataframe thead th {\n",
       "        text-align: right;\n",
       "    }\n",
       "</style>\n",
       "<table border=\"1\" class=\"dataframe\">\n",
       "  <thead>\n",
       "    <tr style=\"text-align: right;\">\n",
       "      <th></th>\n",
       "      <th>Year</th>\n",
       "      <th>Literacy</th>\n",
       "      <th>Country</th>\n",
       "      <th>Economy</th>\n",
       "      <th>debt</th>\n",
       "    </tr>\n",
       "  </thead>\n",
       "  <tbody>\n",
       "    <tr>\n",
       "      <th>0</th>\n",
       "      <td>2005</td>\n",
       "      <td>75.0</td>\n",
       "      <td>England</td>\n",
       "      <td>NaN</td>\n",
       "      <td>0</td>\n",
       "    </tr>\n",
       "    <tr>\n",
       "      <th>1</th>\n",
       "      <td>2006</td>\n",
       "      <td>85.5</td>\n",
       "      <td>China</td>\n",
       "      <td>NaN</td>\n",
       "      <td>1</td>\n",
       "    </tr>\n",
       "    <tr>\n",
       "      <th>2</th>\n",
       "      <td>2007</td>\n",
       "      <td>95.2</td>\n",
       "      <td>USA</td>\n",
       "      <td>NaN</td>\n",
       "      <td>2</td>\n",
       "    </tr>\n",
       "    <tr>\n",
       "      <th>3</th>\n",
       "      <td>2008</td>\n",
       "      <td>83.7</td>\n",
       "      <td>France</td>\n",
       "      <td>NaN</td>\n",
       "      <td>3</td>\n",
       "    </tr>\n",
       "    <tr>\n",
       "      <th>4</th>\n",
       "      <td>2009</td>\n",
       "      <td>88.6</td>\n",
       "      <td>Germany</td>\n",
       "      <td>NaN</td>\n",
       "      <td>4</td>\n",
       "    </tr>\n",
       "    <tr>\n",
       "      <th>5</th>\n",
       "      <td>2010</td>\n",
       "      <td>90.1</td>\n",
       "      <td>India</td>\n",
       "      <td>NaN</td>\n",
       "      <td>5</td>\n",
       "    </tr>\n",
       "    <tr>\n",
       "      <th>6</th>\n",
       "      <td>2011</td>\n",
       "      <td>96.2</td>\n",
       "      <td>Canada</td>\n",
       "      <td>NaN</td>\n",
       "      <td>6</td>\n",
       "    </tr>\n",
       "  </tbody>\n",
       "</table>\n",
       "</div>"
      ],
      "text/plain": [
       "   Year  Literacy  Country Economy  debt\n",
       "0  2005      75.0  England     NaN     0\n",
       "1  2006      85.5    China     NaN     1\n",
       "2  2007      95.2      USA     NaN     2\n",
       "3  2008      83.7   France     NaN     3\n",
       "4  2009      88.6  Germany     NaN     4\n",
       "5  2010      90.1    India     NaN     5\n",
       "6  2011      96.2   Canada     NaN     6"
      ]
     },
     "execution_count": 28,
     "metadata": {},
     "output_type": "execute_result"
    }
   ],
   "source": [
    "#Add New column through numpy array\n",
    "import numpy as np\n",
    "ln=len(frame1)\n",
    "rang=np.arange(ln)\n",
    "frame1['debt']=rang\n",
    "frame1\n"
   ]
  },
  {
   "cell_type": "code",
   "execution_count": 34,
   "metadata": {},
   "outputs": [
    {
     "data": {
      "text/html": [
       "<div>\n",
       "<style scoped>\n",
       "    .dataframe tbody tr th:only-of-type {\n",
       "        vertical-align: middle;\n",
       "    }\n",
       "\n",
       "    .dataframe tbody tr th {\n",
       "        vertical-align: top;\n",
       "    }\n",
       "\n",
       "    .dataframe thead th {\n",
       "        text-align: right;\n",
       "    }\n",
       "</style>\n",
       "<table border=\"1\" class=\"dataframe\">\n",
       "  <thead>\n",
       "    <tr style=\"text-align: right;\">\n",
       "      <th></th>\n",
       "      <th>Year</th>\n",
       "      <th>Literacy</th>\n",
       "      <th>Country</th>\n",
       "      <th>Economy</th>\n",
       "      <th>debt</th>\n",
       "    </tr>\n",
       "  </thead>\n",
       "  <tbody>\n",
       "    <tr>\n",
       "      <th>0</th>\n",
       "      <td>2005</td>\n",
       "      <td>75.0</td>\n",
       "      <td>England</td>\n",
       "      <td>NaN</td>\n",
       "      <td>1.5</td>\n",
       "    </tr>\n",
       "    <tr>\n",
       "      <th>1</th>\n",
       "      <td>2006</td>\n",
       "      <td>85.5</td>\n",
       "      <td>China</td>\n",
       "      <td>NaN</td>\n",
       "      <td>-0.3</td>\n",
       "    </tr>\n",
       "    <tr>\n",
       "      <th>2</th>\n",
       "      <td>2007</td>\n",
       "      <td>95.2</td>\n",
       "      <td>USA</td>\n",
       "      <td>NaN</td>\n",
       "      <td>5.4</td>\n",
       "    </tr>\n",
       "    <tr>\n",
       "      <th>3</th>\n",
       "      <td>2008</td>\n",
       "      <td>83.7</td>\n",
       "      <td>France</td>\n",
       "      <td>NaN</td>\n",
       "      <td>-7.7</td>\n",
       "    </tr>\n",
       "    <tr>\n",
       "      <th>4</th>\n",
       "      <td>2009</td>\n",
       "      <td>88.6</td>\n",
       "      <td>Germany</td>\n",
       "      <td>NaN</td>\n",
       "      <td>-1.4</td>\n",
       "    </tr>\n",
       "    <tr>\n",
       "      <th>5</th>\n",
       "      <td>2010</td>\n",
       "      <td>90.1</td>\n",
       "      <td>India</td>\n",
       "      <td>NaN</td>\n",
       "      <td>2.6</td>\n",
       "    </tr>\n",
       "    <tr>\n",
       "      <th>6</th>\n",
       "      <td>2011</td>\n",
       "      <td>96.2</td>\n",
       "      <td>Canada</td>\n",
       "      <td>NaN</td>\n",
       "      <td>3.5</td>\n",
       "    </tr>\n",
       "  </tbody>\n",
       "</table>\n",
       "</div>"
      ],
      "text/plain": [
       "   Year  Literacy  Country Economy  debt\n",
       "0  2005      75.0  England     NaN   1.5\n",
       "1  2006      85.5    China     NaN  -0.3\n",
       "2  2007      95.2      USA     NaN   5.4\n",
       "3  2008      83.7   France     NaN  -7.7\n",
       "4  2009      88.6  Germany     NaN  -1.4\n",
       "5  2010      90.1    India     NaN   2.6\n",
       "6  2011      96.2   Canada     NaN   3.5"
      ]
     },
     "execution_count": 34,
     "metadata": {},
     "output_type": "execute_result"
    }
   ],
   "source": [
    "val=pd.Series([1.5,-0.3,5.4,-7.7,-1.4,2.6,3.5],\n",
    "              index=[0,1,2,3,4,5,6]) #Dataframe index and Series index must be the same name and same in length\n",
    "frame1['debt']=val\n",
    "frame1"
   ]
  },
  {
   "cell_type": "code",
   "execution_count": 35,
   "metadata": {},
   "outputs": [
    {
     "data": {
      "text/html": [
       "<div>\n",
       "<style scoped>\n",
       "    .dataframe tbody tr th:only-of-type {\n",
       "        vertical-align: middle;\n",
       "    }\n",
       "\n",
       "    .dataframe tbody tr th {\n",
       "        vertical-align: top;\n",
       "    }\n",
       "\n",
       "    .dataframe thead th {\n",
       "        text-align: right;\n",
       "    }\n",
       "</style>\n",
       "<table border=\"1\" class=\"dataframe\">\n",
       "  <thead>\n",
       "    <tr style=\"text-align: right;\">\n",
       "      <th></th>\n",
       "      <th>Year</th>\n",
       "      <th>Literacy</th>\n",
       "      <th>Country</th>\n",
       "      <th>Economy</th>\n",
       "      <th>debt</th>\n",
       "    </tr>\n",
       "  </thead>\n",
       "  <tbody>\n",
       "    <tr>\n",
       "      <th>0</th>\n",
       "      <td>2005</td>\n",
       "      <td>75.0</td>\n",
       "      <td>England</td>\n",
       "      <td>NaN</td>\n",
       "      <td>1.5</td>\n",
       "    </tr>\n",
       "    <tr>\n",
       "      <th>1</th>\n",
       "      <td>2006</td>\n",
       "      <td>85.5</td>\n",
       "      <td>China</td>\n",
       "      <td>NaN</td>\n",
       "      <td>-0.3</td>\n",
       "    </tr>\n",
       "    <tr>\n",
       "      <th>2</th>\n",
       "      <td>2007</td>\n",
       "      <td>95.2</td>\n",
       "      <td>USA</td>\n",
       "      <td>NaN</td>\n",
       "      <td>5.4</td>\n",
       "    </tr>\n",
       "    <tr>\n",
       "      <th>3</th>\n",
       "      <td>2008</td>\n",
       "      <td>83.7</td>\n",
       "      <td>France</td>\n",
       "      <td>NaN</td>\n",
       "      <td>-7.7</td>\n",
       "    </tr>\n",
       "    <tr>\n",
       "      <th>4</th>\n",
       "      <td>2009</td>\n",
       "      <td>88.6</td>\n",
       "      <td>Germany</td>\n",
       "      <td>NaN</td>\n",
       "      <td>-1.4</td>\n",
       "    </tr>\n",
       "    <tr>\n",
       "      <th>5</th>\n",
       "      <td>2010</td>\n",
       "      <td>90.1</td>\n",
       "      <td>India</td>\n",
       "      <td>NaN</td>\n",
       "      <td>2.6</td>\n",
       "    </tr>\n",
       "    <tr>\n",
       "      <th>6</th>\n",
       "      <td>2011</td>\n",
       "      <td>96.2</td>\n",
       "      <td>Canada</td>\n",
       "      <td>NaN</td>\n",
       "      <td>NaN</td>\n",
       "    </tr>\n",
       "  </tbody>\n",
       "</table>\n",
       "</div>"
      ],
      "text/plain": [
       "   Year  Literacy  Country Economy  debt\n",
       "0  2005      75.0  England     NaN   1.5\n",
       "1  2006      85.5    China     NaN  -0.3\n",
       "2  2007      95.2      USA     NaN   5.4\n",
       "3  2008      83.7   France     NaN  -7.7\n",
       "4  2009      88.6  Germany     NaN  -1.4\n",
       "5  2010      90.1    India     NaN   2.6\n",
       "6  2011      96.2   Canada     NaN   NaN"
      ]
     },
     "execution_count": 35,
     "metadata": {},
     "output_type": "execute_result"
    }
   ],
   "source": [
    "val=pd.Series([1.5,-0.3,5.4,-7.7,-1.4,2.6,3.5],\n",
    "              index=[0,1,2,3,4,5,'six']) #Dataframe index and Series index must be the same name and same in length\n",
    "frame1['debt']=val              #If we change the name of any index but same in lenth then it give NaN value at that position\n",
    "frame1"
   ]
  },
  {
   "cell_type": "markdown",
   "metadata": {},
   "source": [
    "# Function, Application and Mapping of Pandas"
   ]
  },
  {
   "cell_type": "code",
   "execution_count": 31,
   "metadata": {},
   "outputs": [
    {
     "name": "stdout",
     "output_type": "stream",
     "text": [
      "               a         b         c\n",
      "utah   -0.010115 -0.839829 -0.260866\n",
      "Ohio    1.236570  0.431994 -0.416330\n",
      "Texas   0.412390  0.582440 -0.666989\n",
      "oregon  0.061670  1.810654 -0.610383\n",
      "a    1.246685\n",
      "b    2.650483\n",
      "c    0.406123\n",
      "dtype: float64\n",
      "                a         b         c\n",
      "min-min  1.246685  2.650483  0.406123\n"
     ]
    }
   ],
   "source": [
    "import numpy as np\n",
    "import pandas as pd\n",
    "frame=pd.DataFrame(np.random.randn(4,3),columns=list('abc'),index=['utah','Ohio','Texas','oregon'])\n",
    "print(frame)\n",
    "#print(frame['a'].min())\n",
    "#print(frame['a'].max())\n",
    "#print(frame['a'].max()-frame['a'].min())\n",
    "\n",
    "f=lambda x:x.max()-x.min() #By Lambda function and apply command #for subracted valye of a,b and c\n",
    "df=frame.apply(f)\n",
    "df1=frame.apply(f,axis=0) \n",
    "print(df1)\n",
    "\n",
    "def min_max(x):   #By normal function\n",
    "    minimum=x.min()\n",
    "    maximum=x.max()\n",
    "    return pd.Series([x.max()-x.min()], index=['min-min'])\n",
    "df3=frame.apply(min_max)\n",
    "print(df3)"
   ]
  },
  {
   "cell_type": "markdown",
   "metadata": {},
   "source": [
    "# Arithmetic Operation on Dataframe"
   ]
  },
  {
   "cell_type": "code",
   "execution_count": 72,
   "metadata": {},
   "outputs": [
    {
     "name": "stdout",
     "output_type": "stream",
     "text": [
      "          b  c  d\n",
      "Ohio      0  1  2\n",
      "Texas     3  4  5\n",
      "Colorado  6  7  8\n",
      "        b   d   e\n",
      "Utah    0   1   2\n",
      "Ohio    3   4   5\n",
      "Texas   6   7   8\n",
      "Oregon  9  10  11\n",
      "            b   c     d   e\n",
      "Colorado  NaN NaN   NaN NaN\n",
      "Ohio      3.0 NaN   6.0 NaN\n",
      "Oregon    NaN NaN   NaN NaN\n",
      "Texas     9.0 NaN  12.0 NaN\n",
      "Utah      NaN NaN   NaN NaN\n"
     ]
    }
   ],
   "source": [
    "df=pd.DataFrame(np.arange(9).reshape((3,3)),columns=list('bcd'),index=['Ohio','Texas','Colorado'])\n",
    "df1=pd.DataFrame(np.arange(12).reshape((4,3)),columns=list('bde'),index=['Utah','Ohio','Texas','Oregon'])\n",
    "print(df)\n",
    "print(df1)\n",
    "df2=df1+df  #Every index of first df have to be added in index of second df, those index which is not common in both df gives the NaN value\n",
    "print(df2)"
   ]
  },
  {
   "cell_type": "markdown",
   "metadata": {},
   "source": [
    "# Arithmetic Operation with Fill values"
   ]
  },
  {
   "cell_type": "code",
   "execution_count": 76,
   "metadata": {},
   "outputs": [
    {
     "name": "stdout",
     "output_type": "stream",
     "text": [
      "   a  b   c   d\n",
      "0  0  1   2   3\n",
      "1  4  5   6   7\n",
      "2  8  9  10  11\n",
      "    a   b   c   d   e\n",
      "0   0   1   2   3   4\n",
      "1   5   6   7   8   9\n",
      "2  10  11  12  13  14\n",
      "3  15  16  17  18  19\n",
      "Addition using a method with replacing NaN is 0\n",
      "      a     b     c     d     e\n",
      "0   0.0   2.0   4.0   6.0   4.0\n",
      "1   9.0  11.0  13.0  15.0   9.0\n",
      "2  18.0  20.0  22.0  24.0  14.0\n",
      "3  15.0  16.0  17.0  18.0  19.0\n"
     ]
    }
   ],
   "source": [
    "df=pd.DataFrame(np.arange(12).reshape((3,4)),columns=list('abcd'))\n",
    "df1=pd.DataFrame(np.arange(20).reshape((4,5)),columns=list('abcde'))\n",
    "print(df)\n",
    "print(df1)\n",
    "#df1.loc[1,'b']=np.nan\n",
    "#print(df1)\n",
    "\n",
    "print('Addition using a method with replacing NaN is 0')\n",
    "df2=df.add(df1,fill_value=0) #this value replace NaN value to zero and then add\n",
    "print(df2)\n"
   ]
  },
  {
   "cell_type": "markdown",
   "metadata": {},
   "source": [
    "# Arithmetic Operation between Dataframe and Series"
   ]
  },
  {
   "cell_type": "code",
   "execution_count": 77,
   "metadata": {},
   "outputs": [
    {
     "name": "stdout",
     "output_type": "stream",
     "text": [
      "        b   d   e\n",
      "Utah    0   1   2\n",
      "Ohio    3   4   5\n",
      "Texas   6   7   8\n",
      "Oregon  9  10  11\n",
      "Using New Series\n",
      "[1 2 3] Index(['b', 'd', 'e'], dtype='object')\n",
      "        b  d  e\n",
      "Utah   -1 -1 -1\n",
      "Ohio    2  2  2\n",
      "Texas   5  5  5\n",
      "Oregon  8  8  8\n"
     ]
    }
   ],
   "source": [
    "df5=pd.DataFrame(np.arange(12).reshape((4,3)),columns=list('bde'),index=['Utah','Ohio','Texas','Oregon'])\n",
    "print(df5)\n",
    "print('Using New Series')\n",
    "series=pd.Series([1,2,3],index=list('bde'))\n",
    "print(series.values,series.index)\n",
    "a=df5-series\n",
    "print(a)"
   ]
  },
  {
   "cell_type": "code",
   "execution_count": null,
   "metadata": {},
   "outputs": [],
   "source": []
  }
 ],
 "metadata": {
  "kernelspec": {
   "display_name": "Python 3",
   "language": "python",
   "name": "python3"
  },
  "language_info": {
   "codemirror_mode": {
    "name": "ipython",
    "version": 3
   },
   "file_extension": ".py",
   "mimetype": "text/x-python",
   "name": "python",
   "nbconvert_exporter": "python",
   "pygments_lexer": "ipython3",
   "version": "3.7.3"
  }
 },
 "nbformat": 4,
 "nbformat_minor": 2
}
