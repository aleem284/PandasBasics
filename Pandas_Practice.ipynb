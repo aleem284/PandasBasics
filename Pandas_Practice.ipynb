{
 "cells": [
  {
   "cell_type": "markdown",
   "metadata": {},
   "source": [
    "# Pandas Series"
   ]
  },
  {
   "cell_type": "code",
   "execution_count": 6,
   "metadata": {},
   "outputs": [
    {
     "name": "stdout",
     "output_type": "stream",
     "text": [
      "0    4\n",
      "1    8\n",
      "2    3\n",
      "3    7\n",
      "dtype: int64\n"
     ]
    }
   ],
   "source": [
    "import pandas as pd\n",
    "a1=pd.Series([4,8,3,7])\n",
    "print(a1)"
   ]
  },
  {
   "cell_type": "markdown",
   "metadata": {},
   "source": [
    "# Pandas Series has Values and Indexes"
   ]
  },
  {
   "cell_type": "code",
   "execution_count": 12,
   "metadata": {},
   "outputs": [
    {
     "name": "stdout",
     "output_type": "stream",
     "text": [
      "Values [40 80 30 70]\n",
      "Indexes RangeIndex(start=0, stop=4, step=1)\n"
     ]
    },
    {
     "data": {
      "text/plain": [
       "0    40\n",
       "1    80\n",
       "2    30\n",
       "3    70\n",
       "dtype: int64"
      ]
     },
     "execution_count": 12,
     "metadata": {},
     "output_type": "execute_result"
    }
   ],
   "source": [
    "import pandas as pd\n",
    "a1=pd.Series([40,80,30,70])\n",
    "print('Values',a1.values)\n",
    "print('Indexes',a1.index)\n",
    "a1"
   ]
  },
  {
   "cell_type": "markdown",
   "metadata": {},
   "source": [
    "# Non Numeric Index"
   ]
  },
  {
   "cell_type": "code",
   "execution_count": 15,
   "metadata": {},
   "outputs": [
    {
     "name": "stdout",
     "output_type": "stream",
     "text": [
      "Values [40 80 30 70]\n",
      "Indexes Index(['Jan', 'Feb', 'Mar', 'Apr'], dtype='object')\n"
     ]
    },
    {
     "data": {
      "text/plain": [
       "Jan    40\n",
       "Feb    80\n",
       "Mar    30\n",
       "Apr    70\n",
       "dtype: int64"
      ]
     },
     "execution_count": 15,
     "metadata": {},
     "output_type": "execute_result"
    }
   ],
   "source": [
    "a1=pd.Series([40,80,30,70],index=['Jan','Feb','Mar','Apr'])\n",
    "print('Values',a1.values)\n",
    "print('Indexes',a1.index)\n",
    "a1"
   ]
  },
  {
   "cell_type": "code",
   "execution_count": 18,
   "metadata": {},
   "outputs": [
    {
     "name": "stdout",
     "output_type": "stream",
     "text": [
      "Values [40 80 30 70]\n",
      "Indexes Index(['Jan', 'Feb', 'Mar', 'Apr'], dtype='object')\n"
     ]
    },
    {
     "data": {
      "text/plain": [
       "Jan    40\n",
       "Feb    80\n",
       "Mar    30\n",
       "Apr    70\n",
       "Name: Generate Random Data, dtype: int64"
      ]
     },
     "execution_count": 18,
     "metadata": {},
     "output_type": "execute_result"
    }
   ],
   "source": [
    "a1=pd.Series([40,80,30,70],index=['Jan','Feb','Mar','Apr'],name='Generate Random Data') #Adding Name\n",
    "print('Values',a1.values)\n",
    "print('Indexes',a1.index)\n",
    "a1"
   ]
  },
  {
   "cell_type": "code",
   "execution_count": 22,
   "metadata": {},
   "outputs": [
    {
     "data": {
      "text/plain": [
       "Mon      10\n",
       "Tues     15\n",
       "Wed       7\n",
       "Thurs    18\n",
       "Fri      11\n",
       "Sat       9\n",
       "Sun       0\n",
       "Name: Canteen weekly data of Switches Sales, dtype: int64"
      ]
     },
     "execution_count": 22,
     "metadata": {},
     "output_type": "execute_result"
    }
   ],
   "source": [
    "a2=pd.Series([10,15,7,18,11,9,0],\n",
    "             index=['Mon','Tues','Wed','Thurs','Fri','Sat','Sun'],\n",
    "             name='Canteen weekly data of Switches Sales')\n",
    "a2"
   ]
  },
  {
   "cell_type": "code",
   "execution_count": 23,
   "metadata": {},
   "outputs": [
    {
     "name": "stdout",
     "output_type": "stream",
     "text": [
      "7\n",
      "7\n"
     ]
    }
   ],
   "source": [
    "print(a2['Wed'])   #pick data by name and by index\n",
    "print(a2[2])     "
   ]
  },
  {
   "cell_type": "code",
   "execution_count": 28,
   "metadata": {},
   "outputs": [
    {
     "name": "stdout",
     "output_type": "stream",
     "text": [
      "Wed     7\n",
      "Fri    11\n",
      "Name: Canteen weekly data of Switches Sales, dtype: int64\n",
      "Sun    0\n",
      "Sat    9\n",
      "Name: Canteen weekly data of Switches Sales, dtype: int64\n"
     ]
    }
   ],
   "source": [
    "print(a2[[2,4]]) #multipl selection\n",
    "print(a2[['Sun','Sat']])\n"
   ]
  },
  {
   "cell_type": "code",
   "execution_count": 30,
   "metadata": {},
   "outputs": [
    {
     "name": "stdout",
     "output_type": "stream",
     "text": [
      "Tues     15\n",
      "Thurs    18\n",
      "Fri      11\n",
      "Name: Canteen weekly data of Switches Sales, dtype: int64\n"
     ]
    }
   ],
   "source": [
    "print(a2[a2>10]) #Condition apply"
   ]
  },
  {
   "cell_type": "code",
   "execution_count": 32,
   "metadata": {},
   "outputs": [
    {
     "name": "stdout",
     "output_type": "stream",
     "text": [
      "Mon      10\n",
      "Tues     15\n",
      "Wed       7\n",
      "Thurs    18\n",
      "Fri      11\n",
      "Sat       9\n",
      "Sun       0\n",
      "Name: Canteen weekly data of Switches Sales, dtype: int64\n"
     ]
    },
    {
     "data": {
      "text/plain": [
       "Mon      20\n",
       "Tues     30\n",
       "Wed      14\n",
       "Thurs    36\n",
       "Fri      22\n",
       "Sat      18\n",
       "Sun       0\n",
       "Name: Canteen weekly data of Switches Sales, dtype: int64"
      ]
     },
     "execution_count": 32,
     "metadata": {},
     "output_type": "execute_result"
    }
   ],
   "source": [
    "a3=a2*2    #values multiply by 2\n",
    "print(a2)\n",
    "a3"
   ]
  },
  {
   "cell_type": "code",
   "execution_count": 33,
   "metadata": {},
   "outputs": [
    {
     "data": {
      "text/plain": [
       "Mon      10.0\n",
       "Tues     15.0\n",
       "Wed       7.0\n",
       "Thurs    18.0\n",
       "Fri      11.0\n",
       "Sat       9.0\n",
       "Sun       0.0\n",
       "Name: Canteen weekly data of Switches Sales, dtype: float64"
      ]
     },
     "execution_count": 33,
     "metadata": {},
     "output_type": "execute_result"
    }
   ],
   "source": [
    "a3/2  #we can also perform arithmatic operation"
   ]
  },
  {
   "cell_type": "code",
   "execution_count": 34,
   "metadata": {},
   "outputs": [
    {
     "data": {
      "text/plain": [
       "True"
      ]
     },
     "execution_count": 34,
     "metadata": {},
     "output_type": "execute_result"
    }
   ],
   "source": [
    "'Fri' in a2  #find whether the index is in series or not"
   ]
  },
  {
   "cell_type": "markdown",
   "metadata": {},
   "source": [
    "# Create Panda Series by using array "
   ]
  },
  {
   "cell_type": "code",
   "execution_count": 36,
   "metadata": {},
   "outputs": [
    {
     "data": {
      "text/plain": [
       "a    3\n",
       "b    5\n",
       "c    0\n",
       "d    7\n",
       "e    1\n",
       "dtype: int32"
      ]
     },
     "execution_count": 36,
     "metadata": {},
     "output_type": "execute_result"
    }
   ],
   "source": [
    "import numpy as np\n",
    "val=np.array([3,5,0,7,1])\n",
    "ind=np.array(['a','b','c','d','e'])\n",
    "a4=pd.Series(val,index=ind)\n",
    "a4"
   ]
  },
  {
   "cell_type": "markdown",
   "metadata": {},
   "source": [
    "# Pandas Series by Dictionary"
   ]
  },
  {
   "cell_type": "code",
   "execution_count": 40,
   "metadata": {},
   "outputs": [
    {
     "name": "stdout",
     "output_type": "stream",
     "text": [
      "Sindh          30000\n",
      "Punjab         20000\n",
      "KPK            15000\n",
      "Balochistan     7000\n",
      "dtype: int64\n",
      "Index(['Sindh', 'Punjab', 'KPK', 'Balochistan'], dtype='object')\n"
     ]
    }
   ],
   "source": [
    "sdata={'Sindh':30000, 'Punjab':20000,'KPK':15000,'Balochistan':7000}\n",
    "a5=pd.Series(sdata)\n",
    "print(a5)\n",
    "print(a5.index)"
   ]
  },
  {
   "cell_type": "code",
   "execution_count": 41,
   "metadata": {},
   "outputs": [
    {
     "name": "stdout",
     "output_type": "stream",
     "text": [
      "Balochistan     7000\n",
      "Sindh          30000\n",
      "Punjab         20000\n",
      "KPK            15000\n",
      "dtype: int64\n",
      "Index(['Balochistan', 'Sindh', 'Punjab', 'KPK'], dtype='object')\n"
     ]
    }
   ],
   "source": [
    "sdata={'Sindh':30000, 'Punjab':20000,'KPK':15000,'Balochistan':7000}\n",
    "a5=pd.Series(sdata, index=['Balochistan', 'Sindh','Punjab','KPK'])   #Index Shuffle but data same\n",
    "print(a5)\n",
    "print(a5.index)"
   ]
  },
  {
   "cell_type": "code",
   "execution_count": 45,
   "metadata": {},
   "outputs": [
    {
     "name": "stdout",
     "output_type": "stream",
     "text": [
      "Balochistan     7000.0\n",
      "Sindh          30000.0\n",
      "Punjab         20000.0\n",
      "KPK            15000.0\n",
      "Gilgit             NaN\n",
      "dtype: float64\n",
      "Index(['Balochistan', 'Sindh', 'Punjab', 'KPK', 'Gilgit'], dtype='object')\n"
     ]
    },
    {
     "data": {
      "text/plain": [
       "Balochistan    False\n",
       "Sindh          False\n",
       "Punjab         False\n",
       "KPK            False\n",
       "Gilgit          True\n",
       "dtype: bool"
      ]
     },
     "execution_count": 45,
     "metadata": {},
     "output_type": "execute_result"
    }
   ],
   "source": [
    "sdata={'Sindh':30000, 'Punjab':20000,'KPK':15000,'Balochistan':7000}\n",
    "a5=pd.Series(sdata, index=['Balochistan', 'Sindh','Punjab','KPK','Gilgit'])   #Mising data we increased 1 index\n",
    "print(a5)\n",
    "print(a5.index)\n",
    "#print(pd.isnull(a5))  #Check the null values it give true when NaN is available. Null is value which is not present in series\n",
    "a5.isnull()  #Both commands are same pd.isnull is function and a5.isnull is a method"
   ]
  },
  {
   "cell_type": "code",
   "execution_count": 48,
   "metadata": {},
   "outputs": [
    {
     "name": "stdout",
     "output_type": "stream",
     "text": [
      "State Names\n",
      "Balochistan     7000.0\n",
      "Sindh          30000.0\n",
      "Punjab         20000.0\n",
      "KPK            15000.0\n",
      "Gilgit             NaN\n",
      "Name: Tax paying state, dtype: float64\n"
     ]
    }
   ],
   "source": [
    "a5.name='Tax paying state'\n",
    "a5.index.name='State Names'  #update index name\n",
    "print(a5)"
   ]
  },
  {
   "cell_type": "code",
   "execution_count": 49,
   "metadata": {},
   "outputs": [
    {
     "name": "stdout",
     "output_type": "stream",
     "text": [
      "B     7000.0\n",
      "S    30000.0\n",
      "P    20000.0\n",
      "K    15000.0\n",
      "G        NaN\n",
      "Name: Tax paying state, dtype: float64\n"
     ]
    }
   ],
   "source": [
    "a5.index=['B','S','P','K','G']  #Index update\n",
    "print(a5)"
   ]
  },
  {
   "cell_type": "markdown",
   "metadata": {},
   "source": [
    "# Pandas DataFrame"
   ]
  },
  {
   "cell_type": "code",
   "execution_count": 3,
   "metadata": {},
   "outputs": [
    {
     "name": "stdout",
     "output_type": "stream",
     "text": [
      "           No.of Boys  No.of Girls\n",
      "Class I            15           13\n",
      "Class II           18           11\n",
      "Class III          25           15\n",
      "Class IV           30           20\n"
     ]
    }
   ],
   "source": [
    "import pandas as pd\n",
    "boy=pd.Series([15,18,25,30],index=['Class I','Class II','Class III','Class IV'])  #length of Both Series Indexes should be the same\n",
    "girl=pd.Series([13,11,15,20],index=['Class I','Class II','Class III','Class IV'])\n",
    "data={'No.of Boys':boy,'No.of Girls':girl}\n",
    "final_data=pd.DataFrame(data)\n",
    "print(final_data)"
   ]
  },
  {
   "cell_type": "code",
   "execution_count": 32,
   "metadata": {},
   "outputs": [
    {
     "data": {
      "text/html": [
       "<div>\n",
       "<style scoped>\n",
       "    .dataframe tbody tr th:only-of-type {\n",
       "        vertical-align: middle;\n",
       "    }\n",
       "\n",
       "    .dataframe tbody tr th {\n",
       "        vertical-align: top;\n",
       "    }\n",
       "\n",
       "    .dataframe thead th {\n",
       "        text-align: right;\n",
       "    }\n",
       "</style>\n",
       "<table border=\"1\" class=\"dataframe\">\n",
       "  <thead>\n",
       "    <tr style=\"text-align: right;\">\n",
       "      <th></th>\n",
       "      <th>Country</th>\n",
       "      <th>Year</th>\n",
       "      <th>Literacy</th>\n",
       "    </tr>\n",
       "  </thead>\n",
       "  <tbody>\n",
       "    <tr>\n",
       "      <th>1st</th>\n",
       "      <td>England</td>\n",
       "      <td>2005</td>\n",
       "      <td>75.0</td>\n",
       "    </tr>\n",
       "    <tr>\n",
       "      <th>2nd</th>\n",
       "      <td>China</td>\n",
       "      <td>2006</td>\n",
       "      <td>85.5</td>\n",
       "    </tr>\n",
       "    <tr>\n",
       "      <th>3rd</th>\n",
       "      <td>USA</td>\n",
       "      <td>2007</td>\n",
       "      <td>95.2</td>\n",
       "    </tr>\n",
       "    <tr>\n",
       "      <th>4th</th>\n",
       "      <td>France</td>\n",
       "      <td>2008</td>\n",
       "      <td>83.7</td>\n",
       "    </tr>\n",
       "    <tr>\n",
       "      <th>5th</th>\n",
       "      <td>Germany</td>\n",
       "      <td>2009</td>\n",
       "      <td>88.6</td>\n",
       "    </tr>\n",
       "    <tr>\n",
       "      <th>6th</th>\n",
       "      <td>India</td>\n",
       "      <td>2010</td>\n",
       "      <td>90.1</td>\n",
       "    </tr>\n",
       "    <tr>\n",
       "      <th>7th</th>\n",
       "      <td>Canada</td>\n",
       "      <td>2011</td>\n",
       "      <td>96.2</td>\n",
       "    </tr>\n",
       "  </tbody>\n",
       "</table>\n",
       "</div>"
      ],
      "text/plain": [
       "     Country  Year  Literacy\n",
       "1st  England  2005      75.0\n",
       "2nd    China  2006      85.5\n",
       "3rd      USA  2007      95.2\n",
       "4th   France  2008      83.7\n",
       "5th  Germany  2009      88.6\n",
       "6th    India  2010      90.1\n",
       "7th   Canada  2011      96.2"
      ]
     },
     "metadata": {},
     "output_type": "display_data"
    }
   ],
   "source": [
    "data={'Country':['England','China','USA','France','Germany','India','Canada'], 'Year':[2005,2006,2007,2008,2009,2010,2011],\n",
    "      'Literacy':[75,85.5,95.2,83.7,88.6,90.1,96.2]}\n",
    "frame=pd.DataFrame(data, index=['1st','2nd','3rd','4th','5th','6th','7th'])\n",
    "display(frame)"
   ]
  },
  {
   "cell_type": "code",
   "execution_count": 42,
   "metadata": {},
   "outputs": [
    {
     "data": {
      "text/html": [
       "<div>\n",
       "<style scoped>\n",
       "    .dataframe tbody tr th:only-of-type {\n",
       "        vertical-align: middle;\n",
       "    }\n",
       "\n",
       "    .dataframe tbody tr th {\n",
       "        vertical-align: top;\n",
       "    }\n",
       "\n",
       "    .dataframe thead th {\n",
       "        text-align: right;\n",
       "    }\n",
       "</style>\n",
       "<table border=\"1\" class=\"dataframe\">\n",
       "  <thead>\n",
       "    <tr style=\"text-align: right;\">\n",
       "      <th></th>\n",
       "      <th>Country</th>\n",
       "      <th>Year</th>\n",
       "      <th>Literacy</th>\n",
       "    </tr>\n",
       "  </thead>\n",
       "  <tbody>\n",
       "    <tr>\n",
       "      <th>1st</th>\n",
       "      <td>England</td>\n",
       "      <td>2005</td>\n",
       "      <td>75.0</td>\n",
       "    </tr>\n",
       "    <tr>\n",
       "      <th>2nd</th>\n",
       "      <td>China</td>\n",
       "      <td>2006</td>\n",
       "      <td>85.5</td>\n",
       "    </tr>\n",
       "    <tr>\n",
       "      <th>3rd</th>\n",
       "      <td>USA</td>\n",
       "      <td>2007</td>\n",
       "      <td>95.2</td>\n",
       "    </tr>\n",
       "    <tr>\n",
       "      <th>4th</th>\n",
       "      <td>France</td>\n",
       "      <td>2008</td>\n",
       "      <td>83.7</td>\n",
       "    </tr>\n",
       "    <tr>\n",
       "      <th>5th</th>\n",
       "      <td>Germany</td>\n",
       "      <td>2009</td>\n",
       "      <td>88.6</td>\n",
       "    </tr>\n",
       "  </tbody>\n",
       "</table>\n",
       "</div>"
      ],
      "text/plain": [
       "     Country  Year  Literacy\n",
       "1st  England  2005      75.0\n",
       "2nd    China  2006      85.5\n",
       "3rd      USA  2007      95.2\n",
       "4th   France  2008      83.7\n",
       "5th  Germany  2009      88.6"
      ]
     },
     "execution_count": 42,
     "metadata": {},
     "output_type": "execute_result"
    }
   ],
   "source": [
    "frame.head() #it print the first five rows of ur data"
   ]
  },
  {
   "cell_type": "code",
   "execution_count": 43,
   "metadata": {},
   "outputs": [
    {
     "data": {
      "text/html": [
       "<div>\n",
       "<style scoped>\n",
       "    .dataframe tbody tr th:only-of-type {\n",
       "        vertical-align: middle;\n",
       "    }\n",
       "\n",
       "    .dataframe tbody tr th {\n",
       "        vertical-align: top;\n",
       "    }\n",
       "\n",
       "    .dataframe thead th {\n",
       "        text-align: right;\n",
       "    }\n",
       "</style>\n",
       "<table border=\"1\" class=\"dataframe\">\n",
       "  <thead>\n",
       "    <tr style=\"text-align: right;\">\n",
       "      <th></th>\n",
       "      <th>Year</th>\n",
       "      <th>Literacy</th>\n",
       "      <th>Country</th>\n",
       "    </tr>\n",
       "  </thead>\n",
       "  <tbody>\n",
       "    <tr>\n",
       "      <th>1st</th>\n",
       "      <td>2005</td>\n",
       "      <td>75.0</td>\n",
       "      <td>England</td>\n",
       "    </tr>\n",
       "    <tr>\n",
       "      <th>2nd</th>\n",
       "      <td>2006</td>\n",
       "      <td>85.5</td>\n",
       "      <td>China</td>\n",
       "    </tr>\n",
       "    <tr>\n",
       "      <th>3rd</th>\n",
       "      <td>2007</td>\n",
       "      <td>95.2</td>\n",
       "      <td>USA</td>\n",
       "    </tr>\n",
       "    <tr>\n",
       "      <th>4th</th>\n",
       "      <td>2008</td>\n",
       "      <td>83.7</td>\n",
       "      <td>France</td>\n",
       "    </tr>\n",
       "    <tr>\n",
       "      <th>5th</th>\n",
       "      <td>2009</td>\n",
       "      <td>88.6</td>\n",
       "      <td>Germany</td>\n",
       "    </tr>\n",
       "    <tr>\n",
       "      <th>6th</th>\n",
       "      <td>2010</td>\n",
       "      <td>90.1</td>\n",
       "      <td>India</td>\n",
       "    </tr>\n",
       "    <tr>\n",
       "      <th>7th</th>\n",
       "      <td>2011</td>\n",
       "      <td>96.2</td>\n",
       "      <td>Canada</td>\n",
       "    </tr>\n",
       "  </tbody>\n",
       "</table>\n",
       "</div>"
      ],
      "text/plain": [
       "     Year  Literacy  Country\n",
       "1st  2005      75.0  England\n",
       "2nd  2006      85.5    China\n",
       "3rd  2007      95.2      USA\n",
       "4th  2008      83.7   France\n",
       "5th  2009      88.6  Germany\n",
       "6th  2010      90.1    India\n",
       "7th  2011      96.2   Canada"
      ]
     },
     "execution_count": 43,
     "metadata": {},
     "output_type": "execute_result"
    }
   ],
   "source": [
    "frame4=pd.DataFrame(data,columns=['Year','Literacy','Country'],index=['1st','2nd','3rd','4th','5th','6th','7th']) #we can change the position as well\n",
    "frame4"
   ]
  },
  {
   "cell_type": "code",
   "execution_count": 46,
   "metadata": {},
   "outputs": [
    {
     "data": {
      "text/html": [
       "<div>\n",
       "<style scoped>\n",
       "    .dataframe tbody tr th:only-of-type {\n",
       "        vertical-align: middle;\n",
       "    }\n",
       "\n",
       "    .dataframe tbody tr th {\n",
       "        vertical-align: top;\n",
       "    }\n",
       "\n",
       "    .dataframe thead th {\n",
       "        text-align: right;\n",
       "    }\n",
       "</style>\n",
       "<table border=\"1\" class=\"dataframe\">\n",
       "  <thead>\n",
       "    <tr style=\"text-align: right;\">\n",
       "      <th></th>\n",
       "      <th>Year</th>\n",
       "      <th>Literacy</th>\n",
       "      <th>Country</th>\n",
       "      <th>Economy</th>\n",
       "    </tr>\n",
       "  </thead>\n",
       "  <tbody>\n",
       "    <tr>\n",
       "      <th>1st</th>\n",
       "      <td>2005</td>\n",
       "      <td>75.0</td>\n",
       "      <td>England</td>\n",
       "      <td>NaN</td>\n",
       "    </tr>\n",
       "    <tr>\n",
       "      <th>2nd</th>\n",
       "      <td>2006</td>\n",
       "      <td>85.5</td>\n",
       "      <td>China</td>\n",
       "      <td>NaN</td>\n",
       "    </tr>\n",
       "    <tr>\n",
       "      <th>3rd</th>\n",
       "      <td>2007</td>\n",
       "      <td>95.2</td>\n",
       "      <td>USA</td>\n",
       "      <td>NaN</td>\n",
       "    </tr>\n",
       "    <tr>\n",
       "      <th>4th</th>\n",
       "      <td>2008</td>\n",
       "      <td>83.7</td>\n",
       "      <td>France</td>\n",
       "      <td>NaN</td>\n",
       "    </tr>\n",
       "    <tr>\n",
       "      <th>5th</th>\n",
       "      <td>2009</td>\n",
       "      <td>88.6</td>\n",
       "      <td>Germany</td>\n",
       "      <td>NaN</td>\n",
       "    </tr>\n",
       "    <tr>\n",
       "      <th>6th</th>\n",
       "      <td>2010</td>\n",
       "      <td>90.1</td>\n",
       "      <td>India</td>\n",
       "      <td>NaN</td>\n",
       "    </tr>\n",
       "    <tr>\n",
       "      <th>7th</th>\n",
       "      <td>2011</td>\n",
       "      <td>96.2</td>\n",
       "      <td>Canada</td>\n",
       "      <td>NaN</td>\n",
       "    </tr>\n",
       "  </tbody>\n",
       "</table>\n",
       "</div>"
      ],
      "text/plain": [
       "     Year  Literacy  Country Economy\n",
       "1st  2005      75.0  England     NaN\n",
       "2nd  2006      85.5    China     NaN\n",
       "3rd  2007      95.2      USA     NaN\n",
       "4th  2008      83.7   France     NaN\n",
       "5th  2009      88.6  Germany     NaN\n",
       "6th  2010      90.1    India     NaN\n",
       "7th  2011      96.2   Canada     NaN"
      ]
     },
     "execution_count": 46,
     "metadata": {},
     "output_type": "execute_result"
    }
   ],
   "source": [
    "frame1=pd.DataFrame(data,columns=['Year','Literacy','Country','Economy'],index=['1st','2nd','3rd','4th','5th','6th','7th']) #adding new column\n",
    "frame1"
   ]
  },
  {
   "cell_type": "code",
   "execution_count": 47,
   "metadata": {},
   "outputs": [
    {
     "name": "stdout",
     "output_type": "stream",
     "text": [
      "Index(['Year', 'Literacy', 'Country', 'Economy'], dtype='object')\n",
      "Index(['1st', '2nd', '3rd', '4th', '5th', '6th', '7th'], dtype='object')\n"
     ]
    }
   ],
   "source": [
    "print(frame1.columns)\n",
    "print(frame1.index)"
   ]
  },
  {
   "cell_type": "code",
   "execution_count": 48,
   "metadata": {},
   "outputs": [
    {
     "data": {
      "text/plain": [
       "1st    2005\n",
       "2nd    2006\n",
       "3rd    2007\n",
       "4th    2008\n",
       "5th    2009\n",
       "6th    2010\n",
       "7th    2011\n",
       "Name: Year, dtype: int64"
      ]
     },
     "execution_count": 48,
     "metadata": {},
     "output_type": "execute_result"
    }
   ],
   "source": [
    "#print(data)\n",
    "#data['Country']  #Dictionary like notation to access data\n",
    "frame1['Year'] #Dataframe column data"
   ]
  },
  {
   "cell_type": "code",
   "execution_count": 49,
   "metadata": {},
   "outputs": [
    {
     "data": {
      "text/plain": [
       "1st    England\n",
       "2nd      China\n",
       "3rd        USA\n",
       "4th     France\n",
       "5th    Germany\n",
       "6th      India\n",
       "7th     Canada\n",
       "Name: Country, dtype: object"
      ]
     },
     "execution_count": 49,
     "metadata": {},
     "output_type": "execute_result"
    }
   ],
   "source": [
    "frame1.Country #attribute style"
   ]
  },
  {
   "cell_type": "code",
   "execution_count": 54,
   "metadata": {},
   "outputs": [
    {
     "data": {
      "text/plain": [
       "'China'"
      ]
     },
     "execution_count": 54,
     "metadata": {},
     "output_type": "execute_result"
    }
   ],
   "source": [
    "frame1.loc['2nd','Country'] # f.loc(row,columm)\n",
    "#frame1.loc['2nd',['Literacy','Year']] #give row index name which we want to access bcz loc function allows row name instead of default index like (0,1,2...) . "
   ]
  },
  {
   "cell_type": "code",
   "execution_count": 56,
   "metadata": {},
   "outputs": [
    {
     "data": {
      "text/html": [
       "<div>\n",
       "<style scoped>\n",
       "    .dataframe tbody tr th:only-of-type {\n",
       "        vertical-align: middle;\n",
       "    }\n",
       "\n",
       "    .dataframe tbody tr th {\n",
       "        vertical-align: top;\n",
       "    }\n",
       "\n",
       "    .dataframe thead th {\n",
       "        text-align: right;\n",
       "    }\n",
       "</style>\n",
       "<table border=\"1\" class=\"dataframe\">\n",
       "  <thead>\n",
       "    <tr style=\"text-align: right;\">\n",
       "      <th></th>\n",
       "      <th>Year</th>\n",
       "      <th>Literacy</th>\n",
       "      <th>Country</th>\n",
       "      <th>Economy</th>\n",
       "    </tr>\n",
       "  </thead>\n",
       "  <tbody>\n",
       "    <tr>\n",
       "      <th>3rd</th>\n",
       "      <td>2007</td>\n",
       "      <td>95.2</td>\n",
       "      <td>USA</td>\n",
       "      <td>NaN</td>\n",
       "    </tr>\n",
       "    <tr>\n",
       "      <th>5th</th>\n",
       "      <td>2009</td>\n",
       "      <td>88.6</td>\n",
       "      <td>Germany</td>\n",
       "      <td>NaN</td>\n",
       "    </tr>\n",
       "  </tbody>\n",
       "</table>\n",
       "</div>"
      ],
      "text/plain": [
       "     Year  Literacy  Country Economy\n",
       "3rd  2007      95.2      USA     NaN\n",
       "5th  2009      88.6  Germany     NaN"
      ]
     },
     "execution_count": 56,
     "metadata": {},
     "output_type": "execute_result"
    }
   ],
   "source": [
    "frame1.loc['3rd':'6th':2] #just like slicing they give row between 2 to 6 and step size 2 (frame.loc[start:end:stepsize])"
   ]
  },
  {
   "cell_type": "code",
   "execution_count": 71,
   "metadata": {},
   "outputs": [
    {
     "data": {
      "text/html": [
       "<div>\n",
       "<style scoped>\n",
       "    .dataframe tbody tr th:only-of-type {\n",
       "        vertical-align: middle;\n",
       "    }\n",
       "\n",
       "    .dataframe tbody tr th {\n",
       "        vertical-align: top;\n",
       "    }\n",
       "\n",
       "    .dataframe thead th {\n",
       "        text-align: right;\n",
       "    }\n",
       "</style>\n",
       "<table border=\"1\" class=\"dataframe\">\n",
       "  <thead>\n",
       "    <tr style=\"text-align: right;\">\n",
       "      <th></th>\n",
       "      <th>Literacy</th>\n",
       "      <th>Country</th>\n",
       "    </tr>\n",
       "  </thead>\n",
       "  <tbody>\n",
       "    <tr>\n",
       "      <th>3rd</th>\n",
       "      <td>95.2</td>\n",
       "      <td>USA</td>\n",
       "    </tr>\n",
       "    <tr>\n",
       "      <th>4th</th>\n",
       "      <td>83.7</td>\n",
       "      <td>France</td>\n",
       "    </tr>\n",
       "    <tr>\n",
       "      <th>5th</th>\n",
       "      <td>88.6</td>\n",
       "      <td>Germany</td>\n",
       "    </tr>\n",
       "  </tbody>\n",
       "</table>\n",
       "</div>"
      ],
      "text/plain": [
       "     Literacy  Country\n",
       "3rd      95.2      USA\n",
       "4th      83.7   France\n",
       "5th      88.6  Germany"
      ]
     },
     "execution_count": 71,
     "metadata": {},
     "output_type": "execute_result"
    }
   ],
   "source": [
    "frame1.iloc[1:4]    #in iloc function u can access data through its default index\n",
    "frame1.iloc[2:5:1,1:3:1]  "
   ]
  },
  {
   "cell_type": "code",
   "execution_count": 23,
   "metadata": {},
   "outputs": [
    {
     "name": "stdout",
     "output_type": "stream",
     "text": [
      "7\n"
     ]
    }
   ],
   "source": [
    "print(len(frame1)) #it give the total number of rows"
   ]
  },
  {
   "cell_type": "code",
   "execution_count": 28,
   "metadata": {},
   "outputs": [
    {
     "data": {
      "text/html": [
       "<div>\n",
       "<style scoped>\n",
       "    .dataframe tbody tr th:only-of-type {\n",
       "        vertical-align: middle;\n",
       "    }\n",
       "\n",
       "    .dataframe tbody tr th {\n",
       "        vertical-align: top;\n",
       "    }\n",
       "\n",
       "    .dataframe thead th {\n",
       "        text-align: right;\n",
       "    }\n",
       "</style>\n",
       "<table border=\"1\" class=\"dataframe\">\n",
       "  <thead>\n",
       "    <tr style=\"text-align: right;\">\n",
       "      <th></th>\n",
       "      <th>Year</th>\n",
       "      <th>Literacy</th>\n",
       "      <th>Country</th>\n",
       "      <th>Economy</th>\n",
       "      <th>debt</th>\n",
       "    </tr>\n",
       "  </thead>\n",
       "  <tbody>\n",
       "    <tr>\n",
       "      <th>0</th>\n",
       "      <td>2005</td>\n",
       "      <td>75.0</td>\n",
       "      <td>England</td>\n",
       "      <td>NaN</td>\n",
       "      <td>0</td>\n",
       "    </tr>\n",
       "    <tr>\n",
       "      <th>1</th>\n",
       "      <td>2006</td>\n",
       "      <td>85.5</td>\n",
       "      <td>China</td>\n",
       "      <td>NaN</td>\n",
       "      <td>1</td>\n",
       "    </tr>\n",
       "    <tr>\n",
       "      <th>2</th>\n",
       "      <td>2007</td>\n",
       "      <td>95.2</td>\n",
       "      <td>USA</td>\n",
       "      <td>NaN</td>\n",
       "      <td>2</td>\n",
       "    </tr>\n",
       "    <tr>\n",
       "      <th>3</th>\n",
       "      <td>2008</td>\n",
       "      <td>83.7</td>\n",
       "      <td>France</td>\n",
       "      <td>NaN</td>\n",
       "      <td>3</td>\n",
       "    </tr>\n",
       "    <tr>\n",
       "      <th>4</th>\n",
       "      <td>2009</td>\n",
       "      <td>88.6</td>\n",
       "      <td>Germany</td>\n",
       "      <td>NaN</td>\n",
       "      <td>4</td>\n",
       "    </tr>\n",
       "    <tr>\n",
       "      <th>5</th>\n",
       "      <td>2010</td>\n",
       "      <td>90.1</td>\n",
       "      <td>India</td>\n",
       "      <td>NaN</td>\n",
       "      <td>5</td>\n",
       "    </tr>\n",
       "    <tr>\n",
       "      <th>6</th>\n",
       "      <td>2011</td>\n",
       "      <td>96.2</td>\n",
       "      <td>Canada</td>\n",
       "      <td>NaN</td>\n",
       "      <td>6</td>\n",
       "    </tr>\n",
       "  </tbody>\n",
       "</table>\n",
       "</div>"
      ],
      "text/plain": [
       "   Year  Literacy  Country Economy  debt\n",
       "0  2005      75.0  England     NaN     0\n",
       "1  2006      85.5    China     NaN     1\n",
       "2  2007      95.2      USA     NaN     2\n",
       "3  2008      83.7   France     NaN     3\n",
       "4  2009      88.6  Germany     NaN     4\n",
       "5  2010      90.1    India     NaN     5\n",
       "6  2011      96.2   Canada     NaN     6"
      ]
     },
     "execution_count": 28,
     "metadata": {},
     "output_type": "execute_result"
    }
   ],
   "source": [
    "#Add New column through numpy array\n",
    "import numpy as np\n",
    "ln=len(frame1)\n",
    "rang=np.arange(ln)\n",
    "frame1['debt']=rang\n",
    "frame1\n"
   ]
  },
  {
   "cell_type": "code",
   "execution_count": 34,
   "metadata": {},
   "outputs": [
    {
     "data": {
      "text/html": [
       "<div>\n",
       "<style scoped>\n",
       "    .dataframe tbody tr th:only-of-type {\n",
       "        vertical-align: middle;\n",
       "    }\n",
       "\n",
       "    .dataframe tbody tr th {\n",
       "        vertical-align: top;\n",
       "    }\n",
       "\n",
       "    .dataframe thead th {\n",
       "        text-align: right;\n",
       "    }\n",
       "</style>\n",
       "<table border=\"1\" class=\"dataframe\">\n",
       "  <thead>\n",
       "    <tr style=\"text-align: right;\">\n",
       "      <th></th>\n",
       "      <th>Year</th>\n",
       "      <th>Literacy</th>\n",
       "      <th>Country</th>\n",
       "      <th>Economy</th>\n",
       "      <th>debt</th>\n",
       "    </tr>\n",
       "  </thead>\n",
       "  <tbody>\n",
       "    <tr>\n",
       "      <th>0</th>\n",
       "      <td>2005</td>\n",
       "      <td>75.0</td>\n",
       "      <td>England</td>\n",
       "      <td>NaN</td>\n",
       "      <td>1.5</td>\n",
       "    </tr>\n",
       "    <tr>\n",
       "      <th>1</th>\n",
       "      <td>2006</td>\n",
       "      <td>85.5</td>\n",
       "      <td>China</td>\n",
       "      <td>NaN</td>\n",
       "      <td>-0.3</td>\n",
       "    </tr>\n",
       "    <tr>\n",
       "      <th>2</th>\n",
       "      <td>2007</td>\n",
       "      <td>95.2</td>\n",
       "      <td>USA</td>\n",
       "      <td>NaN</td>\n",
       "      <td>5.4</td>\n",
       "    </tr>\n",
       "    <tr>\n",
       "      <th>3</th>\n",
       "      <td>2008</td>\n",
       "      <td>83.7</td>\n",
       "      <td>France</td>\n",
       "      <td>NaN</td>\n",
       "      <td>-7.7</td>\n",
       "    </tr>\n",
       "    <tr>\n",
       "      <th>4</th>\n",
       "      <td>2009</td>\n",
       "      <td>88.6</td>\n",
       "      <td>Germany</td>\n",
       "      <td>NaN</td>\n",
       "      <td>-1.4</td>\n",
       "    </tr>\n",
       "    <tr>\n",
       "      <th>5</th>\n",
       "      <td>2010</td>\n",
       "      <td>90.1</td>\n",
       "      <td>India</td>\n",
       "      <td>NaN</td>\n",
       "      <td>2.6</td>\n",
       "    </tr>\n",
       "    <tr>\n",
       "      <th>6</th>\n",
       "      <td>2011</td>\n",
       "      <td>96.2</td>\n",
       "      <td>Canada</td>\n",
       "      <td>NaN</td>\n",
       "      <td>3.5</td>\n",
       "    </tr>\n",
       "  </tbody>\n",
       "</table>\n",
       "</div>"
      ],
      "text/plain": [
       "   Year  Literacy  Country Economy  debt\n",
       "0  2005      75.0  England     NaN   1.5\n",
       "1  2006      85.5    China     NaN  -0.3\n",
       "2  2007      95.2      USA     NaN   5.4\n",
       "3  2008      83.7   France     NaN  -7.7\n",
       "4  2009      88.6  Germany     NaN  -1.4\n",
       "5  2010      90.1    India     NaN   2.6\n",
       "6  2011      96.2   Canada     NaN   3.5"
      ]
     },
     "execution_count": 34,
     "metadata": {},
     "output_type": "execute_result"
    }
   ],
   "source": [
    "val=pd.Series([1.5,-0.3,5.4,-7.7,-1.4,2.6,3.5],\n",
    "              index=[0,1,2,3,4,5,6]) #Dataframe index and Series index must be the same name and same in length\n",
    "frame1['debt']=val\n",
    "frame1"
   ]
  },
  {
   "cell_type": "code",
   "execution_count": 35,
   "metadata": {},
   "outputs": [
    {
     "data": {
      "text/html": [
       "<div>\n",
       "<style scoped>\n",
       "    .dataframe tbody tr th:only-of-type {\n",
       "        vertical-align: middle;\n",
       "    }\n",
       "\n",
       "    .dataframe tbody tr th {\n",
       "        vertical-align: top;\n",
       "    }\n",
       "\n",
       "    .dataframe thead th {\n",
       "        text-align: right;\n",
       "    }\n",
       "</style>\n",
       "<table border=\"1\" class=\"dataframe\">\n",
       "  <thead>\n",
       "    <tr style=\"text-align: right;\">\n",
       "      <th></th>\n",
       "      <th>Year</th>\n",
       "      <th>Literacy</th>\n",
       "      <th>Country</th>\n",
       "      <th>Economy</th>\n",
       "      <th>debt</th>\n",
       "    </tr>\n",
       "  </thead>\n",
       "  <tbody>\n",
       "    <tr>\n",
       "      <th>0</th>\n",
       "      <td>2005</td>\n",
       "      <td>75.0</td>\n",
       "      <td>England</td>\n",
       "      <td>NaN</td>\n",
       "      <td>1.5</td>\n",
       "    </tr>\n",
       "    <tr>\n",
       "      <th>1</th>\n",
       "      <td>2006</td>\n",
       "      <td>85.5</td>\n",
       "      <td>China</td>\n",
       "      <td>NaN</td>\n",
       "      <td>-0.3</td>\n",
       "    </tr>\n",
       "    <tr>\n",
       "      <th>2</th>\n",
       "      <td>2007</td>\n",
       "      <td>95.2</td>\n",
       "      <td>USA</td>\n",
       "      <td>NaN</td>\n",
       "      <td>5.4</td>\n",
       "    </tr>\n",
       "    <tr>\n",
       "      <th>3</th>\n",
       "      <td>2008</td>\n",
       "      <td>83.7</td>\n",
       "      <td>France</td>\n",
       "      <td>NaN</td>\n",
       "      <td>-7.7</td>\n",
       "    </tr>\n",
       "    <tr>\n",
       "      <th>4</th>\n",
       "      <td>2009</td>\n",
       "      <td>88.6</td>\n",
       "      <td>Germany</td>\n",
       "      <td>NaN</td>\n",
       "      <td>-1.4</td>\n",
       "    </tr>\n",
       "    <tr>\n",
       "      <th>5</th>\n",
       "      <td>2010</td>\n",
       "      <td>90.1</td>\n",
       "      <td>India</td>\n",
       "      <td>NaN</td>\n",
       "      <td>2.6</td>\n",
       "    </tr>\n",
       "    <tr>\n",
       "      <th>6</th>\n",
       "      <td>2011</td>\n",
       "      <td>96.2</td>\n",
       "      <td>Canada</td>\n",
       "      <td>NaN</td>\n",
       "      <td>NaN</td>\n",
       "    </tr>\n",
       "  </tbody>\n",
       "</table>\n",
       "</div>"
      ],
      "text/plain": [
       "   Year  Literacy  Country Economy  debt\n",
       "0  2005      75.0  England     NaN   1.5\n",
       "1  2006      85.5    China     NaN  -0.3\n",
       "2  2007      95.2      USA     NaN   5.4\n",
       "3  2008      83.7   France     NaN  -7.7\n",
       "4  2009      88.6  Germany     NaN  -1.4\n",
       "5  2010      90.1    India     NaN   2.6\n",
       "6  2011      96.2   Canada     NaN   NaN"
      ]
     },
     "execution_count": 35,
     "metadata": {},
     "output_type": "execute_result"
    }
   ],
   "source": [
    "val=pd.Series([1.5,-0.3,5.4,-7.7,-1.4,2.6,3.5],\n",
    "              index=[0,1,2,3,4,5,'six']) #Dataframe index and Series index must be the same name and same in length\n",
    "frame1['debt']=val              #If we change the name of any index but same in lenth then it give NaN value at that position\n",
    "frame1"
   ]
  },
  {
   "cell_type": "markdown",
   "metadata": {},
   "source": [
    "# Function, Application and Mapping of Pandas"
   ]
  },
  {
   "cell_type": "code",
   "execution_count": 16,
   "metadata": {},
   "outputs": [
    {
     "name": "stdout",
     "output_type": "stream",
     "text": [
      "               a         b         c\n",
      "utah   -0.398180 -2.146426  1.023517\n",
      "Ohio   -0.186619 -2.169313 -1.015500\n",
      "Texas   0.090668 -0.495406 -0.722356\n",
      "oregon -0.995263  2.258865  0.202664\n",
      "a    1.085931\n",
      "b    4.428178\n",
      "c    2.039016\n",
      "dtype: float64\n",
      "            a         b         c\n",
      "min  0.090668  2.258865  1.023517\n",
      "max -0.995263 -2.169313 -1.015500\n"
     ]
    }
   ],
   "source": [
    "import numpy as np\n",
    "import pandas as pd\n",
    "frame=pd.DataFrame(np.random.randn(4,3),columns=list('abc'),index=['utah','Ohio','Texas','oregon'])\n",
    "print(frame)\n",
    "#print(frame['a'].min())\n",
    "#print(frame['a'].max())\n",
    "#print(frame['a'].max()-frame['a'].min())\n",
    "\n",
    "f=lambda x:x.max()-x.min() #By Lambda function and apply command #for subracted valye of a,b and c\n",
    "df=frame.apply(f)\n",
    "df1=frame.apply(f,axis=0) \n",
    "print(df1)\n",
    "\n",
    "def min_max(x):   #By normal function\n",
    "    minimum=x.min()\n",
    "    maximum=x.max()\n",
    "    return pd.Series([maximum,minimum], index=['min','max'])\n",
    "df3=frame.apply(min_max)\n",
    "print(df3)"
   ]
  },
  {
   "cell_type": "markdown",
   "metadata": {},
   "source": [
    "# Arithmetic Operation on Dataframe"
   ]
  },
  {
   "cell_type": "code",
   "execution_count": 72,
   "metadata": {},
   "outputs": [
    {
     "name": "stdout",
     "output_type": "stream",
     "text": [
      "          b  c  d\n",
      "Ohio      0  1  2\n",
      "Texas     3  4  5\n",
      "Colorado  6  7  8\n",
      "        b   d   e\n",
      "Utah    0   1   2\n",
      "Ohio    3   4   5\n",
      "Texas   6   7   8\n",
      "Oregon  9  10  11\n",
      "            b   c     d   e\n",
      "Colorado  NaN NaN   NaN NaN\n",
      "Ohio      3.0 NaN   6.0 NaN\n",
      "Oregon    NaN NaN   NaN NaN\n",
      "Texas     9.0 NaN  12.0 NaN\n",
      "Utah      NaN NaN   NaN NaN\n"
     ]
    }
   ],
   "source": [
    "df=pd.DataFrame(np.arange(9).reshape((3,3)),columns=list('bcd'),index=['Ohio','Texas','Colorado'])\n",
    "df1=pd.DataFrame(np.arange(12).reshape((4,3)),columns=list('bde'),index=['Utah','Ohio','Texas','Oregon'])\n",
    "print(df)\n",
    "print(df1)\n",
    "df2=df1+df  #Every index of first df have to be added in index of second df, those index which is not common in both df gives the NaN value\n",
    "print(df2)"
   ]
  },
  {
   "cell_type": "markdown",
   "metadata": {},
   "source": [
    "# Arithmetic Operation with Fill values"
   ]
  },
  {
   "cell_type": "code",
   "execution_count": 76,
   "metadata": {},
   "outputs": [
    {
     "name": "stdout",
     "output_type": "stream",
     "text": [
      "   a  b   c   d\n",
      "0  0  1   2   3\n",
      "1  4  5   6   7\n",
      "2  8  9  10  11\n",
      "    a   b   c   d   e\n",
      "0   0   1   2   3   4\n",
      "1   5   6   7   8   9\n",
      "2  10  11  12  13  14\n",
      "3  15  16  17  18  19\n",
      "Addition using a method with replacing NaN is 0\n",
      "      a     b     c     d     e\n",
      "0   0.0   2.0   4.0   6.0   4.0\n",
      "1   9.0  11.0  13.0  15.0   9.0\n",
      "2  18.0  20.0  22.0  24.0  14.0\n",
      "3  15.0  16.0  17.0  18.0  19.0\n"
     ]
    }
   ],
   "source": [
    "df=pd.DataFrame(np.arange(12).reshape((3,4)),columns=list('abcd'))\n",
    "df1=pd.DataFrame(np.arange(20).reshape((4,5)),columns=list('abcde'))\n",
    "print(df)\n",
    "print(df1)\n",
    "#df1.loc[1,'b']=np.nan\n",
    "#print(df1)\n",
    "\n",
    "print('Addition using a method with replacing NaN is 0')\n",
    "df2=df.add(df1,fill_value=0) #this value replace NaN value to zero and then add\n",
    "print(df2)\n"
   ]
  },
  {
   "cell_type": "markdown",
   "metadata": {},
   "source": [
    "# Arithmetic Operation between Dataframe and Series"
   ]
  },
  {
   "cell_type": "code",
   "execution_count": 77,
   "metadata": {},
   "outputs": [
    {
     "name": "stdout",
     "output_type": "stream",
     "text": [
      "        b   d   e\n",
      "Utah    0   1   2\n",
      "Ohio    3   4   5\n",
      "Texas   6   7   8\n",
      "Oregon  9  10  11\n",
      "Using New Series\n",
      "[1 2 3] Index(['b', 'd', 'e'], dtype='object')\n",
      "        b  d  e\n",
      "Utah   -1 -1 -1\n",
      "Ohio    2  2  2\n",
      "Texas   5  5  5\n",
      "Oregon  8  8  8\n"
     ]
    }
   ],
   "source": [
    "df5=pd.DataFrame(np.arange(12).reshape((4,3)),columns=list('bde'),index=['Utah','Ohio','Texas','Oregon'])\n",
    "print(df5)\n",
    "print('Using New Series')\n",
    "series=pd.Series([1,2,3],index=list('bde'))\n",
    "print(series.values,series.index)\n",
    "a=df5-series\n",
    "print(a)"
   ]
  },
  {
   "cell_type": "markdown",
   "metadata": {},
   "source": [
    "# Deleting Data from DataFrame"
   ]
  },
  {
   "cell_type": "code",
   "execution_count": null,
   "metadata": {},
   "outputs": [],
   "source": [
    "import numpy as np\n",
    "import pandas as pd\n",
    "df6=pd.DataFrame(np.arange(16).reshape((4,4)),columns=['one','two','three','four']\n",
    "                 ,index=['Ohio','Colorado','Utah','New york'])\n",
    "print(df6)\n",
    "#df6=df6.drop('three',axis=1) #when you delete any column you used axis 1\n",
    "df6.drop('three',axis=1,inplace=True) #Both commands doing same thing deleteing the column  you can execute one  \n",
    "print(df6)\n",
    "df7=df6.drop('Colorado',axis=0)  # #when you delete any row you used axis 0\n",
    "df7"
   ]
  },
  {
   "cell_type": "markdown",
   "metadata": {},
   "source": [
    "# Indexing, Selection and Filtering"
   ]
  },
  {
   "cell_type": "code",
   "execution_count": 9,
   "metadata": {},
   "outputs": [
    {
     "name": "stdout",
     "output_type": "stream",
     "text": [
      "          one  two  three  four\n",
      "Ohio        0    1      2     3\n",
      "Colorado    4    5      6     7\n",
      "Utah        8    9     10    11\n",
      "New york   12   13     14    15\n",
      "\n",
      "          two  three\n",
      "Ohio        1      2\n",
      "Colorado    5      6\n",
      "Utah        9     10\n",
      "New york   13     14\n",
      "\n",
      "          one  two  three  four\n",
      "Utah        8    9     10    11\n",
      "New york   12   13     14    15\n",
      "\n",
      "Colorado     6\n",
      "Utah        10\n",
      "Name: three, dtype: int32\n",
      "\n",
      "Ohio        2\n",
      "Colorado    6\n",
      "Name: three, dtype: int32\n",
      "Ohio        False\n",
      "Colorado    False\n",
      "Utah         True\n",
      "New york     True\n",
      "Name: two, dtype: bool\n"
     ]
    }
   ],
   "source": [
    "import numpy as np\n",
    "import pandas as pd\n",
    "df7=pd.DataFrame(np.arange(16).reshape((4,4)),columns=['one','two','three','four']\n",
    "                 ,index=['Ohio','Colorado','Utah','New york'])\n",
    "print(df7)\n",
    "print()\n",
    "print(df7[['two','three']]) #you can select data from dataframe\n",
    "print()\n",
    "print(df7[2:]) #like numpy style\n",
    "print()\n",
    "print(df7.three[1:3]) #Attribute style . it can access 1 column and 2  rows\n",
    "print()\n",
    "print(df7['three'][:2]) #Dictionary style\n",
    "\n",
    "#Conditional Selection\n",
    "#df7[df7['three']>8]  #print only column three values which are greater than 3\n",
    "df1=df7['two']>5 #Boolean style\n",
    "print(df1)\n",
    "\n"
   ]
  },
  {
   "cell_type": "markdown",
   "metadata": {},
   "source": [
    "# Sorting and Ranking"
   ]
  },
  {
   "cell_type": "code",
   "execution_count": 24,
   "metadata": {},
   "outputs": [
    {
     "name": "stdout",
     "output_type": "stream",
     "text": [
      "       d  a  b  c\n",
      "three  0  1  2  3\n",
      "one    4  5  6  7\n",
      "\n",
      "       d  c  b  a\n",
      "three  0  3  2  1\n",
      "one    4  7  6  5\n",
      "       a  b  c  d\n",
      "three  1  2  3  0\n",
      "one    5  6  7  4\n",
      "       d  a  b  c\n",
      "three  0  1  2  3\n",
      "one    4  5  6  7\n",
      "       d  a  b  c\n",
      "one    4  5  6  7\n",
      "three  0  1  2  3\n",
      "       d  a  b  c\n",
      "one    4  5  6  7\n",
      "three  0  1  2  3\n"
     ]
    }
   ],
   "source": [
    "import numpy as np\n",
    "import pandas as pd\n",
    "df7=pd.DataFrame(np.arange(8).reshape((2,4)),columns=['d','a','b','c']\n",
    "                 ,index=['three','one'])\n",
    "print(df7)\n",
    "print()\n",
    "\n",
    "#Sort details by INDEX\n",
    "print(df7.sort_index(axis=1, ascending=False))\n",
    "print(df7.sort_index(axis=1, ascending=True))\n",
    "print(df7.sort_index(axis=0, ascending=False))\n",
    "print(df7.sort_index(axis=0, ascending=True)) \n",
    "\n",
    "#by default it take axis=0(row) and ascending=True\n",
    "print(df7.sort_index())\n"
   ]
  },
  {
   "cell_type": "code",
   "execution_count": 36,
   "metadata": {},
   "outputs": [
    {
     "name": "stdout",
     "output_type": "stream",
     "text": [
      "       d  a  b  c\n",
      "three  0  1  2  3\n",
      "one    4  5  6  7\n",
      "         d    a    b    c\n",
      "three  2.0  2.0  2.0  2.0\n",
      "one    1.0  1.0  1.0  1.0\n",
      "         d    a    b    c\n",
      "three  1.0  1.0  1.0  1.0\n",
      "one    2.0  2.0  2.0  2.0\n",
      "         d    a    b    c\n",
      "three  1.0  2.0  3.0  4.0\n",
      "one    1.0  2.0  3.0  4.0\n"
     ]
    }
   ],
   "source": [
    "#Sort Details by Values\n",
    "print(df7.sort_values(by='b')) #Sort values only in column 'b'\n",
    "print(df7.rank(ascending=False, method='max'))\n",
    "print(df7.rank(ascending=True, method='min'))\n",
    "print(df7.rank(axis='columns'))\n"
   ]
  },
  {
   "cell_type": "code",
   "execution_count": 43,
   "metadata": {},
   "outputs": [
    {
     "name": "stdout",
     "output_type": "stream",
     "text": [
      "    one  two\n",
      "a  1.40  NaN\n",
      "b  7.10 -4.5\n",
      "c   NaN  NaN\n",
      "d  0.75 -1.3\n",
      "one    9.25\n",
      "two   -5.80\n",
      "dtype: float64\n",
      "a    1.40\n",
      "b    2.60\n",
      "c    0.00\n",
      "d   -0.55\n",
      "dtype: float64\n"
     ]
    }
   ],
   "source": [
    "df8=pd.DataFrame([[1.4,np.nan],[7.1,-4.5],[np.nan,np.nan],[0.75,-1.3]],\n",
    "                 index=['a','b','c','d'],columns=['one','two'])\n",
    "print(df8)\n",
    "print(df8.sum()) #Sum on entire dataframe column wise\n",
    "print(df8.sum(axis='columns'))  #Sum on entire dataframe row wise\n"
   ]
  },
  {
   "cell_type": "code",
   "execution_count": 46,
   "metadata": {},
   "outputs": [
    {
     "name": "stdout",
     "output_type": "stream",
     "text": [
      "    one  two\n",
      "a  1.40  NaN\n",
      "b  7.10 -4.5\n",
      "c   NaN  NaN\n",
      "d  0.75 -1.3\n",
      "a      NaN\n",
      "b    1.300\n",
      "c      NaN\n",
      "d   -0.275\n",
      "dtype: float64\n"
     ]
    }
   ],
   "source": [
    "print(df8)\n",
    "x=df8.mean(axis='columns', skipna=False) #Skipna false includes the Nan value in mean and vice versa.\n",
    "print(x)"
   ]
  },
  {
   "cell_type": "code",
   "execution_count": 49,
   "metadata": {},
   "outputs": [
    {
     "name": "stdout",
     "output_type": "stream",
     "text": [
      "    one  two  three  four\n",
      "a  1.40  NaN   7.10  -4.5\n",
      "b  7.10 -4.5    NaN   NaN\n",
      "c  1.40  NaN   0.75  -1.3\n",
      "d  0.75 -1.3   1.40   NaN\n",
      "[1.4  7.1  0.75] [ nan -4.5 -1.3]\n"
     ]
    },
    {
     "data": {
      "text/plain": [
       "1.40    2\n",
       "0.75    1\n",
       "7.10    1\n",
       "Name: one, dtype: int64"
      ]
     },
     "execution_count": 49,
     "metadata": {},
     "output_type": "execute_result"
    }
   ],
   "source": [
    "df9=pd.DataFrame([[1.4,np.nan,7.1,-4.5],[7.1,-4.5,np.nan,np.nan],[1.4,np.nan,0.75,-1.3],[0.75,-1.3,1.4,np.nan]],\n",
    "                 index=['a','b','c','d'],columns=['one','two','three','four'])\n",
    "print(df9)\n",
    "print(df9['one'].unique(),df9['two'].unique()) #it gives the unique value of these 2 columns\n",
    "df9['one'].value_counts()  #it gives the total number of counts of unique values"
   ]
  },
  {
   "cell_type": "markdown",
   "metadata": {},
   "source": [
    "# Reindexing"
   ]
  },
  {
   "cell_type": "code",
   "execution_count": 61,
   "metadata": {},
   "outputs": [
    {
     "name": "stdout",
     "output_type": "stream",
     "text": [
      "0      Blue\n",
      "3    Yellow\n",
      "6     Green\n",
      "dtype: object\n",
      "\n",
      "0      Blue\n",
      "1       NaN\n",
      "2       NaN\n",
      "3    Yellow\n",
      "4       NaN\n",
      "5       NaN\n",
      "6     Green\n",
      "7       NaN\n",
      "8       NaN\n",
      "dtype: object\n",
      "\n",
      "0      Blue\n",
      "1      Blue\n",
      "2      Blue\n",
      "3    Yellow\n",
      "4    Yellow\n",
      "5    Yellow\n",
      "6     Green\n",
      "7     Green\n",
      "8     Green\n",
      "dtype: object\n"
     ]
    }
   ],
   "source": [
    "#Reindex is a  method of Dataframe and 'method' is a parameter of reindexing\n",
    "df10=pd.Series(['Blue','Yellow','Green'],index=[0,3,6])\n",
    "print(df10)\n",
    "print()\n",
    "df12=df10.reindex(range(9)) #reindex between 0-9\n",
    "print(df12)\n",
    "print()\n",
    "df11=df10.reindex(range(9),method='ffill')  #ffill is forward fill method it fills the previous  value to the next NaN location\n",
    "print(df11)"
   ]
  },
  {
   "cell_type": "code",
   "execution_count": 73,
   "metadata": {},
   "outputs": [
    {
     "name": "stdout",
     "output_type": "stream",
     "text": [
      "   Ohio  Texas  California\n",
      "a     0      1           2\n",
      "c     3      4           5\n",
      "d     6      7           8\n",
      "\n",
      "   Ohio  Texas  California\n",
      "a     0      1           2\n",
      "b     0      1           2\n",
      "c     3      4           5\n",
      "d     6      7           8\n",
      "\n",
      "   Ohio  Texas  California\n",
      "a     0      1           2\n",
      "b     0      1           2\n",
      "c     3      4           5\n",
      "d     6      7           8\n"
     ]
    }
   ],
   "source": [
    "states=pd.DataFrame(np.arange(9).reshape((3,3)),index=['a','c','d'],columns=['Ohio','Texas','California'])\n",
    "print(states)\n",
    "print()   \n",
    "states=states.reindex(['a','b','c','d'],method='ffill')\n",
    "print(states)\n",
    "print()\n",
    "states=states.reindex(['a','b','c','d'],method='bfill') #bfil indicated backword fill it takes the  value from next row\n",
    "print(states)\n",
    "#if we dont give any method it generates NaN value in the new row\n"
   ]
  },
  {
   "cell_type": "code",
   "execution_count": 77,
   "metadata": {},
   "outputs": [
    {
     "name": "stdout",
     "output_type": "stream",
     "text": [
      "   Ohio  Texas  California\n",
      "a     0      1           2\n",
      "c     3      4           5\n",
      "d     6      7           8\n",
      "   Texas  Utah  California  Ohio\n",
      "a      1   NaN           2     0\n",
      "c      4   NaN           5     3\n",
      "d      7   NaN           8     6\n"
     ]
    }
   ],
   "source": [
    "#Column wise Reindexing\n",
    "states=pd.DataFrame(np.arange(9).reshape((3,3)),index=['a','c','d'],columns=['Ohio','Texas','California'])\n",
    "print(states)\n",
    "state_name=['Texas','Utah','California','Ohio']\n",
    "state=states.reindex(columns=state_name)\n",
    "print(state)"
   ]
  },
  {
   "cell_type": "markdown",
   "metadata": {},
   "source": [
    "# Creating and Saving Files in Pandas dataframe"
   ]
  },
  {
   "cell_type": "code",
   "execution_count": 13,
   "metadata": {},
   "outputs": [
    {
     "name": "stdout",
     "output_type": "stream",
     "text": [
      "  studentid         name   chimestry   physics   english   math\n",
      "0       A01     arif ali          20        30        40     50\n",
      "1       A02  kamran khan          30        40        50     60\n",
      "2       A03   imran ali           40        50        60     70\n",
      "3       A04  kashif khan          50        60        70     80\n",
      "\n",
      "           0            1           2         3         4      5\n",
      "0  studentid         name   chimestry   physics   english   math\n",
      "1        A01     arif ali          20        30        40     50\n",
      "2        A02  kamran khan          30        40        50     60\n",
      "3        A03   imran ali           40        50        60     70\n",
      "4        A04  kashif khan          50        60        70     80\n",
      "\n",
      "    id         name  che  phy  eng  math\n",
      "0  A01     arif ali   20   30   40    50\n",
      "1  A02  kamran khan   30   40   50    60\n",
      "2  A03   imran ali    40   50   60    70\n",
      "3  A04  kashif khan   50   60   70    80\n"
     ]
    }
   ],
   "source": [
    "import pandas as pd\n",
    "sample_df=pd.read_csv('examples/sample.csv')\n",
    "print(sample_df)\n",
    "print()\n",
    "\n",
    "#we can change  the column names while loading data\n",
    "sample_df=pd.read_csv('examples/sample.csv',header=None) #it cannot take ur first row as a header if you put this command header=None\n",
    "print(sample_df)\n",
    "print()\n",
    "sample_df=pd.read_csv('examples/sample.csv',skiprows=1, names=['id','name','che','phy','eng','math']) #When you dont give header it takes first row as a header ,, and skiprows=1 skips the first row of data\n",
    "print(sample_df)"
   ]
  },
  {
   "cell_type": "markdown",
   "metadata": {},
   "source": [
    "# Hierarchical Index"
   ]
  },
  {
   "cell_type": "code",
   "execution_count": 18,
   "metadata": {},
   "outputs": [
    {
     "name": "stdout",
     "output_type": "stream",
     "text": [
      "  key1 key2  value1  value2\n",
      "0  one    a       1       2\n",
      "1  one    b       3       4\n",
      "2  one    c       5       6\n",
      "3  one    d       7       8\n",
      "4  two    a       9      10\n",
      "5  two    b      11      12\n",
      "6  two    c      13      14\n",
      "7  two    d      15      16\n",
      "           value1  value2\n",
      "key1 key2                \n",
      "one  a          1       2\n",
      "     b          3       4\n",
      "     c          5       6\n",
      "     d          7       8\n",
      "two  a          9      10\n",
      "     b         11      12\n",
      "     c         13      14\n",
      "     d         15      16\n"
     ]
    }
   ],
   "source": [
    "sample_df=pd.read_csv('examples/sample2.csv')\n",
    "print(sample_df)\n",
    "samp2=pd.read_csv('examples/sample2.csv',index_col=['key1','key2']) #used more than 1 column for index\n",
    "print(samp2)"
   ]
  },
  {
   "cell_type": "markdown",
   "metadata": {},
   "source": [
    "# Handling Missing Values"
   ]
  },
  {
   "cell_type": "code",
   "execution_count": 27,
   "metadata": {},
   "outputs": [
    {
     "name": "stdout",
     "output_type": "stream",
     "text": [
      "  something  a   b     c   d message\n",
      "0       one  1   2   3.0   4     NaN\n",
      "1       two  5   6   NaN   8   world\n",
      "2     three  9  10  11.0  12     foo\n"
     ]
    },
    {
     "data": {
      "text/html": [
       "<div>\n",
       "<style scoped>\n",
       "    .dataframe tbody tr th:only-of-type {\n",
       "        vertical-align: middle;\n",
       "    }\n",
       "\n",
       "    .dataframe tbody tr th {\n",
       "        vertical-align: top;\n",
       "    }\n",
       "\n",
       "    .dataframe thead th {\n",
       "        text-align: right;\n",
       "    }\n",
       "</style>\n",
       "<table border=\"1\" class=\"dataframe\">\n",
       "  <thead>\n",
       "    <tr style=\"text-align: right;\">\n",
       "      <th></th>\n",
       "      <th>something</th>\n",
       "      <th>a</th>\n",
       "      <th>b</th>\n",
       "      <th>c</th>\n",
       "      <th>d</th>\n",
       "      <th>message</th>\n",
       "    </tr>\n",
       "  </thead>\n",
       "  <tbody>\n",
       "    <tr>\n",
       "      <td>0</td>\n",
       "      <td>one</td>\n",
       "      <td>1</td>\n",
       "      <td>2</td>\n",
       "      <td>3.0</td>\n",
       "      <td>4</td>\n",
       "      <td>NaN</td>\n",
       "    </tr>\n",
       "    <tr>\n",
       "      <td>1</td>\n",
       "      <td>two</td>\n",
       "      <td>5</td>\n",
       "      <td>6</td>\n",
       "      <td>NaN</td>\n",
       "      <td>8</td>\n",
       "      <td>world</td>\n",
       "    </tr>\n",
       "    <tr>\n",
       "      <td>2</td>\n",
       "      <td>three</td>\n",
       "      <td>9</td>\n",
       "      <td>10</td>\n",
       "      <td>11.0</td>\n",
       "      <td>12</td>\n",
       "      <td>NaN</td>\n",
       "    </tr>\n",
       "  </tbody>\n",
       "</table>\n",
       "</div>"
      ],
      "text/plain": [
       "  something  a   b     c   d message\n",
       "0       one  1   2   3.0   4     NaN\n",
       "1       two  5   6   NaN   8   world\n",
       "2     three  9  10  11.0  12     NaN"
      ]
     },
     "execution_count": 27,
     "metadata": {},
     "output_type": "execute_result"
    }
   ],
   "source": [
    "sample_df=pd.read_csv('examples/sample3.csv')\n",
    "print(sample_df)\n",
    "sentinals={'message':['foo','NA']}  #Convert missing value to NaN  'foo' is a missing value and we replace it \n",
    "pd.read_csv('examples/sample3.csv',na_values=sentinals) # na_values=replacing value to Nan\n"
   ]
  },
  {
   "cell_type": "markdown",
   "metadata": {},
   "source": [
    "# Reading and Text Files in Pieces"
   ]
  },
  {
   "cell_type": "code",
   "execution_count": 17,
   "metadata": {},
   "outputs": [
    {
     "name": "stdout",
     "output_type": "stream",
     "text": [
      "<pandas.io.parsers.TextFileReader object at 0x0000006D5D4E3FC8>\n",
      "<class 'pandas.io.parsers.TextFileReader'> None\n"
     ]
    },
    {
     "data": {
      "text/html": [
       "<div>\n",
       "<style scoped>\n",
       "    .dataframe tbody tr th:only-of-type {\n",
       "        vertical-align: middle;\n",
       "    }\n",
       "\n",
       "    .dataframe tbody tr th {\n",
       "        vertical-align: top;\n",
       "    }\n",
       "\n",
       "    .dataframe thead th {\n",
       "        text-align: right;\n",
       "    }\n",
       "</style>\n",
       "<table border=\"1\" class=\"dataframe\">\n",
       "  <thead>\n",
       "    <tr style=\"text-align: right;\">\n",
       "      <th></th>\n",
       "      <th>battery_power</th>\n",
       "      <th>blue</th>\n",
       "      <th>clock_speed</th>\n",
       "      <th>dual_sim</th>\n",
       "      <th>fc</th>\n",
       "      <th>four_g</th>\n",
       "      <th>int_memory</th>\n",
       "      <th>m_dep</th>\n",
       "      <th>mobile_wt</th>\n",
       "      <th>n_cores</th>\n",
       "      <th>...</th>\n",
       "      <th>px_height</th>\n",
       "      <th>px_width</th>\n",
       "      <th>ram</th>\n",
       "      <th>sc_h</th>\n",
       "      <th>sc_w</th>\n",
       "      <th>talk_time</th>\n",
       "      <th>three_g</th>\n",
       "      <th>touch_screen</th>\n",
       "      <th>wifi</th>\n",
       "      <th>price_range</th>\n",
       "    </tr>\n",
       "  </thead>\n",
       "  <tbody>\n",
       "    <tr>\n",
       "      <td>400</td>\n",
       "      <td>1266</td>\n",
       "      <td>0</td>\n",
       "      <td>1.9</td>\n",
       "      <td>1</td>\n",
       "      <td>0</td>\n",
       "      <td>1</td>\n",
       "      <td>7</td>\n",
       "      <td>0.2</td>\n",
       "      <td>184</td>\n",
       "      <td>3</td>\n",
       "      <td>...</td>\n",
       "      <td>346</td>\n",
       "      <td>1468</td>\n",
       "      <td>2532</td>\n",
       "      <td>10</td>\n",
       "      <td>5</td>\n",
       "      <td>4</td>\n",
       "      <td>1</td>\n",
       "      <td>1</td>\n",
       "      <td>1</td>\n",
       "      <td>2</td>\n",
       "    </tr>\n",
       "    <tr>\n",
       "      <td>401</td>\n",
       "      <td>1042</td>\n",
       "      <td>0</td>\n",
       "      <td>2.7</td>\n",
       "      <td>1</td>\n",
       "      <td>16</td>\n",
       "      <td>1</td>\n",
       "      <td>50</td>\n",
       "      <td>0.8</td>\n",
       "      <td>93</td>\n",
       "      <td>7</td>\n",
       "      <td>...</td>\n",
       "      <td>727</td>\n",
       "      <td>1705</td>\n",
       "      <td>3215</td>\n",
       "      <td>18</td>\n",
       "      <td>0</td>\n",
       "      <td>20</td>\n",
       "      <td>1</td>\n",
       "      <td>1</td>\n",
       "      <td>1</td>\n",
       "      <td>3</td>\n",
       "    </tr>\n",
       "    <tr>\n",
       "      <td>402</td>\n",
       "      <td>1479</td>\n",
       "      <td>0</td>\n",
       "      <td>0.5</td>\n",
       "      <td>0</td>\n",
       "      <td>8</td>\n",
       "      <td>0</td>\n",
       "      <td>19</td>\n",
       "      <td>0.6</td>\n",
       "      <td>156</td>\n",
       "      <td>3</td>\n",
       "      <td>...</td>\n",
       "      <td>180</td>\n",
       "      <td>1476</td>\n",
       "      <td>3323</td>\n",
       "      <td>13</td>\n",
       "      <td>12</td>\n",
       "      <td>6</td>\n",
       "      <td>1</td>\n",
       "      <td>0</td>\n",
       "      <td>1</td>\n",
       "      <td>3</td>\n",
       "    </tr>\n",
       "    <tr>\n",
       "      <td>403</td>\n",
       "      <td>1476</td>\n",
       "      <td>1</td>\n",
       "      <td>1.2</td>\n",
       "      <td>1</td>\n",
       "      <td>0</td>\n",
       "      <td>1</td>\n",
       "      <td>55</td>\n",
       "      <td>0.1</td>\n",
       "      <td>171</td>\n",
       "      <td>4</td>\n",
       "      <td>...</td>\n",
       "      <td>1641</td>\n",
       "      <td>1666</td>\n",
       "      <td>1529</td>\n",
       "      <td>13</td>\n",
       "      <td>8</td>\n",
       "      <td>3</td>\n",
       "      <td>1</td>\n",
       "      <td>0</td>\n",
       "      <td>1</td>\n",
       "      <td>2</td>\n",
       "    </tr>\n",
       "    <tr>\n",
       "      <td>404</td>\n",
       "      <td>1552</td>\n",
       "      <td>1</td>\n",
       "      <td>2.2</td>\n",
       "      <td>0</td>\n",
       "      <td>6</td>\n",
       "      <td>1</td>\n",
       "      <td>13</td>\n",
       "      <td>0.2</td>\n",
       "      <td>123</td>\n",
       "      <td>6</td>\n",
       "      <td>...</td>\n",
       "      <td>269</td>\n",
       "      <td>1026</td>\n",
       "      <td>2403</td>\n",
       "      <td>9</td>\n",
       "      <td>2</td>\n",
       "      <td>9</td>\n",
       "      <td>1</td>\n",
       "      <td>1</td>\n",
       "      <td>1</td>\n",
       "      <td>2</td>\n",
       "    </tr>\n",
       "  </tbody>\n",
       "</table>\n",
       "<p>5 rows × 21 columns</p>\n",
       "</div>"
      ],
      "text/plain": [
       "     battery_power  blue  clock_speed  dual_sim  fc  four_g  int_memory  \\\n",
       "400           1266     0          1.9         1   0       1           7   \n",
       "401           1042     0          2.7         1  16       1          50   \n",
       "402           1479     0          0.5         0   8       0          19   \n",
       "403           1476     1          1.2         1   0       1          55   \n",
       "404           1552     1          2.2         0   6       1          13   \n",
       "\n",
       "     m_dep  mobile_wt  n_cores  ...  px_height  px_width   ram  sc_h  sc_w  \\\n",
       "400    0.2        184        3  ...        346      1468  2532    10     5   \n",
       "401    0.8         93        7  ...        727      1705  3215    18     0   \n",
       "402    0.6        156        3  ...        180      1476  3323    13    12   \n",
       "403    0.1        171        4  ...       1641      1666  1529    13     8   \n",
       "404    0.2        123        6  ...        269      1026  2403     9     2   \n",
       "\n",
       "     talk_time  three_g  touch_screen  wifi  price_range  \n",
       "400          4        1             1     1            2  \n",
       "401         20        1             1     1            3  \n",
       "402          6        1             0     1            3  \n",
       "403          3        1             0     1            2  \n",
       "404          9        1             1     1            2  \n",
       "\n",
       "[5 rows x 21 columns]"
      ]
     },
     "execution_count": 17,
     "metadata": {},
     "output_type": "execute_result"
    }
   ],
   "source": [
    "import pandas as pd\n",
    "chunks=pd.read_csv('datasets/train.csv',chunksize=100) #we divide our data in chunks and we can access it through loop\n",
    "print(type(chunks),print(chunks))\n",
    "\n",
    "chunkList=[]\n",
    "for chunk in chunks:\n",
    "    chunkList.append(chunk)\n",
    "    \n",
    "df=chunkList[4]  #we call chunk 4 \n",
    "df.head()  #first five rows of chunk 4"
   ]
  },
  {
   "cell_type": "code",
   "execution_count": 18,
   "metadata": {},
   "outputs": [
    {
     "data": {
      "text/html": [
       "<div>\n",
       "<style scoped>\n",
       "    .dataframe tbody tr th:only-of-type {\n",
       "        vertical-align: middle;\n",
       "    }\n",
       "\n",
       "    .dataframe tbody tr th {\n",
       "        vertical-align: top;\n",
       "    }\n",
       "\n",
       "    .dataframe thead th {\n",
       "        text-align: right;\n",
       "    }\n",
       "</style>\n",
       "<table border=\"1\" class=\"dataframe\">\n",
       "  <thead>\n",
       "    <tr style=\"text-align: right;\">\n",
       "      <th></th>\n",
       "      <th>A</th>\n",
       "      <th>B</th>\n",
       "      <th>C</th>\n",
       "    </tr>\n",
       "  </thead>\n",
       "  <tbody>\n",
       "    <tr>\n",
       "      <td>aaa</td>\n",
       "      <td>-0.264438</td>\n",
       "      <td>-1.026059</td>\n",
       "      <td>-0.619500</td>\n",
       "    </tr>\n",
       "    <tr>\n",
       "      <td>bbb</td>\n",
       "      <td>0.927272</td>\n",
       "      <td>0.302904</td>\n",
       "      <td>-0.032399</td>\n",
       "    </tr>\n",
       "    <tr>\n",
       "      <td>ccc</td>\n",
       "      <td>-0.264273</td>\n",
       "      <td>-0.386314</td>\n",
       "      <td>-0.217601</td>\n",
       "    </tr>\n",
       "    <tr>\n",
       "      <td>ddd</td>\n",
       "      <td>-0.871858</td>\n",
       "      <td>-0.348382</td>\n",
       "      <td>1.100491</td>\n",
       "    </tr>\n",
       "  </tbody>\n",
       "</table>\n",
       "</div>"
      ],
      "text/plain": [
       "            A         B         C\n",
       "aaa -0.264438 -1.026059 -0.619500\n",
       "bbb  0.927272  0.302904 -0.032399\n",
       "ccc -0.264273 -0.386314 -0.217601\n",
       "ddd -0.871858 -0.348382  1.100491"
      ]
     },
     "execution_count": 18,
     "metadata": {},
     "output_type": "execute_result"
    }
   ],
   "source": [
    "list(open('examples/ex3.txt')) #in txt file elements must be separated by space instead of comma ful stop\n",
    "#use spaces as a delimeter\n",
    "result = pd.read_table('examples/ex3.txt',sep='\\s+')  #\\s+ means if space is double triple or tatra it can convert it a general space and use it as a separator\n",
    "result"
   ]
  },
  {
   "cell_type": "code",
   "execution_count": 28,
   "metadata": {},
   "outputs": [
    {
     "data": {
      "text/html": [
       "<div>\n",
       "<style scoped>\n",
       "    .dataframe tbody tr th:only-of-type {\n",
       "        vertical-align: middle;\n",
       "    }\n",
       "\n",
       "    .dataframe tbody tr th {\n",
       "        vertical-align: top;\n",
       "    }\n",
       "\n",
       "    .dataframe thead th {\n",
       "        text-align: right;\n",
       "    }\n",
       "</style>\n",
       "<table border=\"1\" class=\"dataframe\">\n",
       "  <thead>\n",
       "    <tr style=\"text-align: right;\">\n",
       "      <th></th>\n",
       "      <th>a</th>\n",
       "      <th>b</th>\n",
       "      <th>c</th>\n",
       "      <th>d</th>\n",
       "      <th>message</th>\n",
       "    </tr>\n",
       "  </thead>\n",
       "  <tbody>\n",
       "    <tr>\n",
       "      <td>0</td>\n",
       "      <td>1</td>\n",
       "      <td>2</td>\n",
       "      <td>3</td>\n",
       "      <td>4</td>\n",
       "      <td>hello</td>\n",
       "    </tr>\n",
       "    <tr>\n",
       "      <td>1</td>\n",
       "      <td>5</td>\n",
       "      <td>6</td>\n",
       "      <td>7</td>\n",
       "      <td>8</td>\n",
       "      <td>world</td>\n",
       "    </tr>\n",
       "    <tr>\n",
       "      <td>2</td>\n",
       "      <td>9</td>\n",
       "      <td>10</td>\n",
       "      <td>11</td>\n",
       "      <td>12</td>\n",
       "      <td>foo</td>\n",
       "    </tr>\n",
       "  </tbody>\n",
       "</table>\n",
       "</div>"
      ],
      "text/plain": [
       "   a   b   c   d message\n",
       "0  1   2   3   4   hello\n",
       "1  5   6   7   8   world\n",
       "2  9  10  11  12     foo"
      ]
     },
     "execution_count": 28,
     "metadata": {},
     "output_type": "execute_result"
    }
   ],
   "source": [
    "pd.read_csv('examples/ex4.csv',skiprows=[0,2,3]) # skip 0 2 3 rows"
   ]
  },
  {
   "cell_type": "markdown",
   "metadata": {},
   "source": [
    "# Writing Data to text Format"
   ]
  },
  {
   "cell_type": "code",
   "execution_count": 35,
   "metadata": {},
   "outputs": [
    {
     "name": "stdout",
     "output_type": "stream",
     "text": [
      "  something  a   b     c   d message\n",
      "0       one  1   2   3.0   4     NaN\n",
      "1       two  5   6   NaN   8   world\n",
      "2     three  9  10  11.0  12     foo\n"
     ]
    }
   ],
   "source": [
    "data=pd.read_csv('examples/ex5.csv')\n",
    "print(data)\n",
    "data.to_csv('examples/outt.csv') # create new file ,, use this command to_csv"
   ]
  },
  {
   "cell_type": "markdown",
   "metadata": {},
   "source": [
    "# Working with Delimited Formats"
   ]
  },
  {
   "cell_type": "code",
   "execution_count": 38,
   "metadata": {},
   "outputs": [
    {
     "name": "stdout",
     "output_type": "stream",
     "text": [
      "['a', 'b', 'c']\n",
      "['1', '2', '3']\n",
      "['1', '2', '3']\n"
     ]
    }
   ],
   "source": [
    "import csv\n",
    "f=open('examples/ex7.csv')\n",
    "reader=csv.reader(f)\n",
    "for line in reader:\n",
    "    print(line)"
   ]
  },
  {
   "cell_type": "markdown",
   "metadata": {},
   "source": [
    "# JSON File"
   ]
  },
  {
   "cell_type": "code",
   "execution_count": 39,
   "metadata": {},
   "outputs": [
    {
     "data": {
      "text/html": [
       "<div>\n",
       "<style scoped>\n",
       "    .dataframe tbody tr th:only-of-type {\n",
       "        vertical-align: middle;\n",
       "    }\n",
       "\n",
       "    .dataframe tbody tr th {\n",
       "        vertical-align: top;\n",
       "    }\n",
       "\n",
       "    .dataframe thead th {\n",
       "        text-align: right;\n",
       "    }\n",
       "</style>\n",
       "<table border=\"1\" class=\"dataframe\">\n",
       "  <thead>\n",
       "    <tr style=\"text-align: right;\">\n",
       "      <th></th>\n",
       "      <th>a</th>\n",
       "      <th>b</th>\n",
       "      <th>c</th>\n",
       "    </tr>\n",
       "  </thead>\n",
       "  <tbody>\n",
       "    <tr>\n",
       "      <td>0</td>\n",
       "      <td>1</td>\n",
       "      <td>2</td>\n",
       "      <td>3</td>\n",
       "    </tr>\n",
       "    <tr>\n",
       "      <td>1</td>\n",
       "      <td>4</td>\n",
       "      <td>5</td>\n",
       "      <td>6</td>\n",
       "    </tr>\n",
       "    <tr>\n",
       "      <td>2</td>\n",
       "      <td>7</td>\n",
       "      <td>8</td>\n",
       "      <td>9</td>\n",
       "    </tr>\n",
       "  </tbody>\n",
       "</table>\n",
       "</div>"
      ],
      "text/plain": [
       "   a  b  c\n",
       "0  1  2  3\n",
       "1  4  5  6\n",
       "2  7  8  9"
      ]
     },
     "execution_count": 39,
     "metadata": {},
     "output_type": "execute_result"
    }
   ],
   "source": [
    "import json\n",
    "data=pd.read_json('examples/example.json') #jason data file\n",
    "data"
   ]
  },
  {
   "cell_type": "markdown",
   "metadata": {},
   "source": [
    "# Web Data loading in dataFrame (XML and HTML)"
   ]
  },
  {
   "cell_type": "code",
   "execution_count": 41,
   "metadata": {},
   "outputs": [
    {
     "name": "stdout",
     "output_type": "stream",
     "text": [
      "<class 'list'>\n",
      "1\n",
      "<class 'pandas.core.frame.DataFrame'>\n",
      "(547, 7)\n",
      "Index(['Bank Name', 'City', 'ST', 'CERT', 'Acquiring Institution',\n",
      "       'Closing Date', 'Updated Date'],\n",
      "      dtype='object')\n",
      "\n",
      "0           Mulberry\n",
      "1           Woodbury\n",
      "2    King of Prussia\n",
      "3            Memphis\n",
      "4          Milwaukee\n",
      "Name: City, dtype: object\n",
      "0                     Allied Bank\n",
      "1    The Woodbury Banking Company\n",
      "2          First CornerStone Bank\n",
      "3              Trust Company Bank\n",
      "4      North Milwaukee State Bank\n",
      "Name: Bank Name, dtype: object\n",
      "                      Bank Name             City  ST   CERT  \\\n",
      "0                   Allied Bank         Mulberry  AR     91   \n",
      "1  The Woodbury Banking Company         Woodbury  GA  11297   \n",
      "2        First CornerStone Bank  King of Prussia  PA  35312   \n",
      "3            Trust Company Bank          Memphis  TN   9956   \n",
      "4    North Milwaukee State Bank        Milwaukee  WI  20364   \n",
      "\n",
      "                 Acquiring Institution        Closing Date       Updated Date  \n",
      "0                         Today's Bank  September 23, 2016  November 17, 2016  \n",
      "1                          United Bank     August 19, 2016  November 17, 2016  \n",
      "2  First-Citizens Bank & Trust Company         May 6, 2016  September 6, 2016  \n",
      "3           The Bank of Fayette County      April 29, 2016  September 6, 2016  \n",
      "4  First-Citizens Bank & Trust Company      March 11, 2016      June 16, 2016  \n"
     ]
    }
   ],
   "source": [
    "#HTML data is for human reading\n",
    "#read HTML is a function which finds the Tag of HTML\n",
    "table=pd.read_html('examples/fdic_failed_bank_list.html')\n",
    "print(type(table))\n",
    "print(len(table))\n",
    "failure_df=table[0] # table is a list in which a dataframe in zero element . On zero element [0] first tabular data stored and on one element[1] 2nd tabular data store\n",
    "print(type(failure_df))\n",
    "print(failure_df.shape)\n",
    "print(failure_df.columns) #Names of the column\n",
    "len(failure_df)\n",
    "print()\n",
    "print(failure_df['City'].head()) #to generate first five rows of column City\n",
    "print(failure_df['Bank Name'].head())\n",
    "print(failure_df.head())\n"
   ]
  },
  {
   "cell_type": "code",
   "execution_count": 44,
   "metadata": {},
   "outputs": [
    {
     "name": "stdout",
     "output_type": "stream",
     "text": [
      "<class 'pandas.core.series.Series'> 0     2016-09-23\n",
      "1     2016-08-19\n",
      "2     2016-05-06\n",
      "3     2016-04-29\n",
      "4     2016-03-11\n",
      "         ...    \n",
      "542   2001-07-27\n",
      "543   2001-05-03\n",
      "544   2001-02-02\n",
      "545   2000-12-14\n",
      "546   2000-10-13\n",
      "Name: Closing Date, Length: 547, dtype: datetime64[ns]\n"
     ]
    }
   ],
   "source": [
    "c=pd.to_datetime(failure_df['Closing Date']) #to display closing date\n",
    "print(type(c), c)"
   ]
  },
  {
   "cell_type": "markdown",
   "metadata": {},
   "source": [
    "# Binary Data"
   ]
  },
  {
   "cell_type": "code",
   "execution_count": 45,
   "metadata": {},
   "outputs": [
    {
     "data": {
      "text/html": [
       "<div>\n",
       "<style scoped>\n",
       "    .dataframe tbody tr th:only-of-type {\n",
       "        vertical-align: middle;\n",
       "    }\n",
       "\n",
       "    .dataframe tbody tr th {\n",
       "        vertical-align: top;\n",
       "    }\n",
       "\n",
       "    .dataframe thead th {\n",
       "        text-align: right;\n",
       "    }\n",
       "</style>\n",
       "<table border=\"1\" class=\"dataframe\">\n",
       "  <thead>\n",
       "    <tr style=\"text-align: right;\">\n",
       "      <th></th>\n",
       "      <th>a</th>\n",
       "      <th>b</th>\n",
       "      <th>c</th>\n",
       "      <th>d</th>\n",
       "      <th>message</th>\n",
       "    </tr>\n",
       "  </thead>\n",
       "  <tbody>\n",
       "    <tr>\n",
       "      <td>0</td>\n",
       "      <td>1</td>\n",
       "      <td>2</td>\n",
       "      <td>3</td>\n",
       "      <td>4</td>\n",
       "      <td>hello</td>\n",
       "    </tr>\n",
       "    <tr>\n",
       "      <td>1</td>\n",
       "      <td>5</td>\n",
       "      <td>6</td>\n",
       "      <td>7</td>\n",
       "      <td>8</td>\n",
       "      <td>world</td>\n",
       "    </tr>\n",
       "    <tr>\n",
       "      <td>2</td>\n",
       "      <td>9</td>\n",
       "      <td>10</td>\n",
       "      <td>11</td>\n",
       "      <td>12</td>\n",
       "      <td>foo</td>\n",
       "    </tr>\n",
       "  </tbody>\n",
       "</table>\n",
       "</div>"
      ],
      "text/plain": [
       "   a   b   c   d message\n",
       "0  1   2   3   4   hello\n",
       "1  5   6   7   8   world\n",
       "2  9  10  11  12     foo"
      ]
     },
     "execution_count": 45,
     "metadata": {},
     "output_type": "execute_result"
    }
   ],
   "source": [
    "frame=pd.read_csv('examples/ex1.csv')\n",
    "frame.to_pickle('examples/frame_pickle')\n",
    "pd.read_pickle('examples/frame_pickle')\n",
    "#Binary is less portable we cannot move it easily\n",
    "#Binary data cover less space then other data\n",
    "#if we convert our csv or txt file to binary then no one will see and edit our data, it shows binary numbers only not show proper data"
   ]
  },
  {
   "cell_type": "markdown",
   "metadata": {},
   "source": [
    "# HDF (Hierarchical DafaFrame)"
   ]
  },
  {
   "cell_type": "code",
   "execution_count": 5,
   "metadata": {},
   "outputs": [
    {
     "name": "stdout",
     "output_type": "stream",
     "text": [
      "<class 'pandas.io.pytables.HDFStore'>\n",
      "File path: mydata.h5\n",
      "\n",
      "<class 'pandas.core.frame.DataFrame'>\n",
      "          a\n",
      "0 -0.041892\n",
      "1  1.268414\n",
      "2 -0.648667\n",
      "3  0.777490\n",
      "4  1.172326\n",
      "\n"
     ]
    }
   ],
   "source": [
    "import numpy as np\n",
    "import pandas as pd\n",
    "frame=pd.DataFrame({'a': np.random.randn(100)})\n",
    "store=pd.HDFStore('mydata.h5')  # Create database\n",
    "store['obj1']=frame\n",
    "store['obj1_col']=frame['a']\n",
    "print(store)\n",
    "x=store.obj1\n",
    "print(type(x))\n",
    "print(x.head())\n",
    "print()\n",
    "store.put('obj2',frame, format='table') #save data in table format\n",
    "store.select('obj2',where=['index>=10 and index<=15'] ) \n",
    "#In Data base we retrieved data through condtion but it cannot posible in csv . in data base table we can extract and filter data ata a same time this is speciality\n",
    "store.close()\n",
    "\n",
    "frame.to_hdf('mydata.h5','obj3',format='table') # Data Write\n",
    "#frame=pd.read_hdf('mydata.h5','obj3',where=['index<5'])  #Data read \n",
    "#you will not execute these two commands at same time  . you can execute 1 comand at a time\n"
   ]
  },
  {
   "cell_type": "markdown",
   "metadata": {},
   "source": [
    "# Reading Microsoft Excel file"
   ]
  },
  {
   "cell_type": "code",
   "execution_count": 7,
   "metadata": {},
   "outputs": [],
   "source": [
    "#reading\n",
    "xlsx=pd.ExcelFile('examples/ex1.xlsx')\n",
    "frame=pd.read_excel('examples/ex1.xlsx','Sheet1')  #reading data in excel file sheet 1\n",
    "\n",
    "#writing\n",
    "writer=pd.ExcelWriter('examples/ex2.xlsx') #writing data in excel file sheet 1\n",
    "frame.to_excel(writer,\"Sheet1\")\n",
    "writer.save()\n",
    "\n",
    "#alternate option for single sheet\n",
    "frame.to_excel('examples/ex2.xlsx') #if we have only one sheet in a file  then use this method"
   ]
  },
  {
   "cell_type": "markdown",
   "metadata": {},
   "source": [
    "# WEB API"
   ]
  },
  {
   "cell_type": "code",
   "execution_count": 10,
   "metadata": {},
   "outputs": [
    {
     "name": "stdout",
     "output_type": "stream",
     "text": [
      "<Response [200]>\n",
      "<class 'list'>\n",
      "[{'url': 'https://api.github.com/repos/pandas-dev/pandas/issues/30275', 'repository_url': 'https://api.github.com/repos/pandas-dev/pandas', 'labels_url': 'https://api.github.com/repos/pandas-dev/pandas/issues/30275/labels{/name}', 'comments_url': 'https://api.github.com/repos/pandas-dev/pandas/issues/30275/comments', 'events_url': 'https://api.github.com/repos/pandas-dev/pandas/issues/30275/events', 'html_url': 'https://github.com/pandas-dev/pandas/issues/30275', 'id': 537896363, 'node_id': 'MDU6SXNzdWU1Mzc4OTYzNjM=', 'number': 30275, 'title': 'Very frustrating not to be able to apply per-column date formats exporting to Excel', 'user': {'login': 'stevecj', 'id': 388671, 'node_id': 'MDQ6VXNlcjM4ODY3MQ==', 'avatar_url': 'https://avatars3.githubusercontent.com/u/388671?v=4', 'gravatar_id': '', 'url': 'https://api.github.com/users/stevecj', 'html_url': 'https://github.com/stevecj', 'followers_url': 'https://api.github.com/users/stevecj/followers', 'following_url': 'https://api.github.com/users/stevecj/following{/other_user}', 'gists_url': 'https://api.github.com/users/stevecj/gists{/gist_id}', 'starred_url': 'https://api.github.com/users/stevecj/starred{/owner}{/repo}', 'subscriptions_url': 'https://api.github.com/users/stevecj/subscriptions', 'organizations_url': 'https://api.github.com/users/stevecj/orgs', 'repos_url': 'https://api.github.com/users/stevecj/repos', 'events_url': 'https://api.github.com/users/stevecj/events{/privacy}', 'received_events_url': 'https://api.github.com/users/stevecj/received_events', 'type': 'User', 'site_admin': False}, 'labels': [], 'state': 'open', 'locked': False, 'assignee': None, 'assignees': [], 'milestone': None, 'comments': 0, 'created_at': '2019-12-14T10:25:53Z', 'updated_at': '2019-12-14T10:25:53Z', 'closed_at': None, 'author_association': 'NONE', 'body': 'When exporting to Excel, it is possible to add multiple number formats and then use `set_column` to apply any desired numeric format to any column. Attempting to do the same for date or date-time columns has no effect however.\\r\\n\\r\\nIt is possible to set a format for all date columns or all date-time columns using the `date_format` and `datetime_format` arguments to `ExcelWriter()`, but that applies a single format to all dates and a single format to all date-time values.\\r\\n\\r\\nIn my particular case, I have a column that is intended to represent a whole month, and I want to format it as such in the exported data, and I have other date columns that represent specific dates. There is apparently no way to accomplish that. Why?\\r\\n\\r\\nWhy not simply allow applying date formats to columns just as one can apply numeric formats to columns? '}, {'url': 'https://api.github.com/repos/pandas-dev/pandas/issues/30274', 'repository_url': 'https://api.github.com/repos/pandas-dev/pandas', 'labels_url': 'https://api.github.com/repos/pandas-dev/pandas/issues/30274/labels{/name}', 'comments_url': 'https://api.github.com/repos/pandas-dev/pandas/issues/30274/comments', 'events_url': 'https://api.github.com/repos/pandas-dev/pandas/issues/30274/events', 'html_url': 'https://github.com/pandas-dev/pandas/pull/30274', 'id': 537884628, 'node_id': 'MDExOlB1bGxSZXF1ZXN0MzUzMTU1MDM4', 'number': 30274, 'title': 'plt is missing import', 'user': {'login': 'Koki-kobe', 'id': 58871316, 'node_id': 'MDQ6VXNlcjU4ODcxMzE2', 'avatar_url': 'https://avatars2.githubusercontent.com/u/58871316?v=4', 'gravatar_id': '', 'url': 'https://api.github.com/users/Koki-kobe', 'html_url': 'https://github.com/Koki-kobe', 'followers_url': 'https://api.github.com/users/Koki-kobe/followers', 'following_url': 'https://api.github.com/users/Koki-kobe/following{/other_user}', 'gists_url': 'https://api.github.com/users/Koki-kobe/gists{/gist_id}', 'starred_url': 'https://api.github.com/users/Koki-kobe/starred{/owner}{/repo}', 'subscriptions_url': 'https://api.github.com/users/Koki-kobe/subscriptions', 'organizations_url': 'https://api.github.com/users/Koki-kobe/orgs', 'repos_url': 'https://api.github.com/users/Koki-kobe/repos', 'events_url': 'https://api.github.com/users/Koki-kobe/events{/privacy}', 'received_events_url': 'https://api.github.com/users/Koki-kobe/received_events', 'type': 'User', 'site_admin': False}, 'labels': [{'id': 134699, 'node_id': 'MDU6TGFiZWwxMzQ2OTk=', 'url': 'https://api.github.com/repos/pandas-dev/pandas/labels/Docs', 'name': 'Docs', 'color': '3465A4', 'default': False, 'description': None}], 'state': 'open', 'locked': False, 'assignee': None, 'assignees': [], 'milestone': None, 'comments': 0, 'created_at': '2019-12-14T08:25:07Z', 'updated_at': '2019-12-14T09:32:51Z', 'closed_at': None, 'author_association': 'NONE', 'pull_request': {'url': 'https://api.github.com/repos/pandas-dev/pandas/pulls/30274', 'html_url': 'https://github.com/pandas-dev/pandas/pull/30274', 'diff_url': 'https://github.com/pandas-dev/pandas/pull/30274.diff', 'patch_url': 'https://github.com/pandas-dev/pandas/pull/30274.patch'}, 'body': '- [ ] closes #xxxx\\r\\n- [ ] tests added / passed\\r\\n- [ ] passes `black pandas`\\r\\n- [ ] passes `git diff upstream/master -u -- \"*.py\" | flake8 --diff`\\r\\n- [ ] whatsnew entry\\r\\n'}, {'url': 'https://api.github.com/repos/pandas-dev/pandas/issues/30273', 'repository_url': 'https://api.github.com/repos/pandas-dev/pandas', 'labels_url': 'https://api.github.com/repos/pandas-dev/pandas/issues/30273/labels{/name}', 'comments_url': 'https://api.github.com/repos/pandas-dev/pandas/issues/30273/comments', 'events_url': 'https://api.github.com/repos/pandas-dev/pandas/issues/30273/events', 'html_url': 'https://github.com/pandas-dev/pandas/pull/30273', 'id': 537880683, 'node_id': 'MDExOlB1bGxSZXF1ZXN0MzUzMTUyMTgx', 'number': 30273, 'title': 'CLN: changed .format to f-string in pandas/core/indexes', 'user': {'login': 'makeajourney', 'id': 10672804, 'node_id': 'MDQ6VXNlcjEwNjcyODA0', 'avatar_url': 'https://avatars3.githubusercontent.com/u/10672804?v=4', 'gravatar_id': '', 'url': 'https://api.github.com/users/makeajourney', 'html_url': 'https://github.com/makeajourney', 'followers_url': 'https://api.github.com/users/makeajourney/followers', 'following_url': 'https://api.github.com/users/makeajourney/following{/other_user}', 'gists_url': 'https://api.github.com/users/makeajourney/gists{/gist_id}', 'starred_url': 'https://api.github.com/users/makeajourney/starred{/owner}{/repo}', 'subscriptions_url': 'https://api.github.com/users/makeajourney/subscriptions', 'organizations_url': 'https://api.github.com/users/makeajourney/orgs', 'repos_url': 'https://api.github.com/users/makeajourney/repos', 'events_url': 'https://api.github.com/users/makeajourney/events{/privacy}', 'received_events_url': 'https://api.github.com/users/makeajourney/received_events', 'type': 'User', 'site_admin': False}, 'labels': [{'id': 106935113, 'node_id': 'MDU6TGFiZWwxMDY5MzUxMTM=', 'url': 'https://api.github.com/repos/pandas-dev/pandas/labels/Style', 'name': 'Style', 'color': 'eb6420', 'default': False, 'description': 'Code style, linting, code_checks'}], 'state': 'open', 'locked': False, 'assignee': None, 'assignees': [], 'milestone': {'url': 'https://api.github.com/repos/pandas-dev/pandas/milestones/16', 'html_url': 'https://github.com/pandas-dev/pandas/milestone/16', 'labels_url': 'https://api.github.com/repos/pandas-dev/pandas/milestones/16/labels', 'id': 174211, 'node_id': 'MDk6TWlsZXN0b25lMTc0MjEx', 'number': 16, 'title': '1.0', 'description': '', 'creator': {'login': 'wesm', 'id': 329591, 'node_id': 'MDQ6VXNlcjMyOTU5MQ==', 'avatar_url': 'https://avatars2.githubusercontent.com/u/329591?v=4', 'gravatar_id': '', 'url': 'https://api.github.com/users/wesm', 'html_url': 'https://github.com/wesm', 'followers_url': 'https://api.github.com/users/wesm/followers', 'following_url': 'https://api.github.com/users/wesm/following{/other_user}', 'gists_url': 'https://api.github.com/users/wesm/gists{/gist_id}', 'starred_url': 'https://api.github.com/users/wesm/starred{/owner}{/repo}', 'subscriptions_url': 'https://api.github.com/users/wesm/subscriptions', 'organizations_url': 'https://api.github.com/users/wesm/orgs', 'repos_url': 'https://api.github.com/users/wesm/repos', 'events_url': 'https://api.github.com/users/wesm/events{/privacy}', 'received_events_url': 'https://api.github.com/users/wesm/received_events', 'type': 'User', 'site_admin': False}, 'open_issues': 130, 'closed_issues': 1516, 'state': 'open', 'created_at': '2012-09-13T02:13:00Z', 'updated_at': '2019-12-14T08:42:37Z', 'due_on': '2020-01-01T08:00:00Z', 'closed_at': None}, 'comments': 0, 'created_at': '2019-12-14T07:43:41Z', 'updated_at': '2019-12-14T12:34:54Z', 'closed_at': None, 'author_association': 'CONTRIBUTOR', 'pull_request': {'url': 'https://api.github.com/repos/pandas-dev/pandas/pulls/30273', 'html_url': 'https://github.com/pandas-dev/pandas/pull/30273', 'diff_url': 'https://github.com/pandas-dev/pandas/pull/30273.diff', 'patch_url': 'https://github.com/pandas-dev/pandas/pull/30273.patch'}, 'body': 'towards #29547\\r\\n\\r\\n- [ ] closes  \\r\\n- [x] tests passed\\r\\n- [x] passes `black pandas`\\r\\n- [x] passes `git diff upstream/master -u -- \"*.py\" | flake8 --diff`\\r\\n- [ ] whatsnew entry\\r\\n'}, {'url': 'https://api.github.com/repos/pandas-dev/pandas/issues/30272', 'repository_url': 'https://api.github.com/repos/pandas-dev/pandas', 'labels_url': 'https://api.github.com/repos/pandas-dev/pandas/issues/30272/labels{/name}', 'comments_url': 'https://api.github.com/repos/pandas-dev/pandas/issues/30272/comments', 'events_url': 'https://api.github.com/repos/pandas-dev/pandas/issues/30272/events', 'html_url': 'https://github.com/pandas-dev/pandas/issues/30272', 'id': 537870588, 'node_id': 'MDU6SXNzdWU1Mzc4NzA1ODg=', 'number': 30272, 'title': 'Unable to read number_format with pandas / openpyxl (engine)', 'user': {'login': 'mithunmo', 'id': 5292670, 'node_id': 'MDQ6VXNlcjUyOTI2NzA=', 'avatar_url': 'https://avatars0.githubusercontent.com/u/5292670?v=4', 'gravatar_id': '', 'url': 'https://api.github.com/users/mithunmo', 'html_url': 'https://github.com/mithunmo', 'followers_url': 'https://api.github.com/users/mithunmo/followers', 'following_url': 'https://api.github.com/users/mithunmo/following{/other_user}', 'gists_url': 'https://api.github.com/users/mithunmo/gists{/gist_id}', 'starred_url': 'https://api.github.com/users/mithunmo/starred{/owner}{/repo}', 'subscriptions_url': 'https://api.github.com/users/mithunmo/subscriptions', 'organizations_url': 'https://api.github.com/users/mithunmo/orgs', 'repos_url': 'https://api.github.com/users/mithunmo/repos', 'events_url': 'https://api.github.com/users/mithunmo/events{/privacy}', 'received_events_url': 'https://api.github.com/users/mithunmo/received_events', 'type': 'User', 'site_admin': False}, 'labels': [], 'state': 'open', 'locked': False, 'assignee': None, 'assignees': [], 'milestone': None, 'comments': 0, 'created_at': '2019-12-14T05:33:13Z', 'updated_at': '2019-12-14T05:40:40Z', 'closed_at': None, 'author_association': 'NONE', 'body': '#### Code Sample\\r\\n\\r\\n```python\\r\\n# Your code here\\r\\nimport pandas as pd\\r\\ndata = pd.read_excel(\\'temp.xlsx\\', engine=\"openpyxl\")\\r\\nprint(data.iloc[0][4].number_format)\\r\\n\\r\\n######Via openpyxl\\r\\nfrom openpyxl import load_workbook\\r\\nwb = load_workbook(\\'temp.xlsx\\')\\r\\nws = wb.worksheets[0]\\r\\n\\r\\ncol_d = ws.cell(row=2, column=5)\\r\\nprint(col_d.value)\\r\\ncol_nf = col_d.number_format\\r\\nprint(col_nf)\\r\\n\\r\\n```\\r\\n\\r\\n#### Problem description\\r\\n\\r\\nUnable to access number_format in pandas dataframe using engine openpyxl. \\r\\nBut i am able to acccess the number_format in plain openoyxl via above code.\\r\\n\\r\\n\\r\\n\\r\\n#### Expected Output\\r\\n\"$\"#,##0\\r\\n#### Output of ``pd.show_versions()``\\r\\n\\r\\n<details>\\r\\n\\r\\n[paste the output of ``pd.show_versions()`` here below this line]\\r\\nINSTALLED VERSIONS\\r\\n------------------\\r\\ncommit           : None\\r\\npython           : 3.6.8.final.0\\r\\npython-bits      : 64\\r\\nOS               : Windows\\r\\nOS-release       : 10\\r\\nmachine          : AMD64\\r\\nprocessor        : Intel64 Family 6 Model 142 Stepping 9, GenuineIntel\\r\\nbyteorder        : little\\r\\nLC_ALL           : None\\r\\nLANG             : None\\r\\nLOCALE           : None.None\\r\\n\\r\\npandas           : 0.25.2\\r\\nnumpy            : 1.17.3\\r\\npytz             : 2019.2\\r\\ndateutil         : 2.8.0\\r\\npip              : 19.3.1\\r\\nsetuptools       : 41.6.0\\r\\nCython           : None\\r\\npytest           : None\\r\\nhypothesis       : None\\r\\nsphinx           : None\\r\\nblosc            : None\\r\\nfeather          : None\\r\\nxlsxwriter       : None\\r\\nlxml.etree       : None\\r\\nhtml5lib         : None\\r\\npymysql          : 0.9.3\\r\\npsycopg2         : None\\r\\njinja2           : None\\r\\nIPython          : None\\r\\npandas_datareader: None\\r\\nbs4              : None\\r\\nbottleneck       : None\\r\\nfastparquet      : None\\r\\ngcsfs            : None\\r\\nlxml.etree       : None\\r\\nmatplotlib       : None\\r\\nnumexpr          : None\\r\\nodfpy            : None\\r\\nopenpyxl         : 3.0.2\\r\\npandas_gbq       : None\\r\\npyarrow          : None\\r\\npytables         : None\\r\\ns3fs             : None\\r\\nscipy            : None\\r\\nsqlalchemy       : 1.3.10\\r\\ntables           : None\\r\\nxarray           : None\\r\\nxlrd             : 1.2.0\\r\\nxlwt             : None\\r\\nxlsxwriter       : None\\r\\nNone\\r\\n\\r\\n</details>\\r\\n'}, {'url': 'https://api.github.com/repos/pandas-dev/pandas/issues/30271', 'repository_url': 'https://api.github.com/repos/pandas-dev/pandas', 'labels_url': 'https://api.github.com/repos/pandas-dev/pandas/issues/30271/labels{/name}', 'comments_url': 'https://api.github.com/repos/pandas-dev/pandas/issues/30271/comments', 'events_url': 'https://api.github.com/repos/pandas-dev/pandas/issues/30271/events', 'html_url': 'https://github.com/pandas-dev/pandas/pull/30271', 'id': 537859643, 'node_id': 'MDExOlB1bGxSZXF1ZXN0MzUzMTM3OTcw', 'number': 30271, 'title': 'Simplified objToJSON signatures', 'user': {'login': 'WillAyd', 'id': 609873, 'node_id': 'MDQ6VXNlcjYwOTg3Mw==', 'avatar_url': 'https://avatars0.githubusercontent.com/u/609873?v=4', 'gravatar_id': '', 'url': 'https://api.github.com/users/WillAyd', 'html_url': 'https://github.com/WillAyd', 'followers_url': 'https://api.github.com/users/WillAyd/followers', 'following_url': 'https://api.github.com/users/WillAyd/following{/other_user}', 'gists_url': 'https://api.github.com/users/WillAyd/gists{/gist_id}', 'starred_url': 'https://api.github.com/users/WillAyd/starred{/owner}{/repo}', 'subscriptions_url': 'https://api.github.com/users/WillAyd/subscriptions', 'organizations_url': 'https://api.github.com/users/WillAyd/orgs', 'repos_url': 'https://api.github.com/users/WillAyd/repos', 'events_url': 'https://api.github.com/users/WillAyd/events{/privacy}', 'received_events_url': 'https://api.github.com/users/WillAyd/received_events', 'type': 'User', 'site_admin': False}, 'labels': [{'id': 49379259, 'node_id': 'MDU6TGFiZWw0OTM3OTI1OQ==', 'url': 'https://api.github.com/repos/pandas-dev/pandas/labels/IO%20JSON', 'name': 'IO JSON', 'color': '207de5', 'default': False, 'description': None}], 'state': 'open', 'locked': False, 'assignee': None, 'assignees': [], 'milestone': None, 'comments': 0, 'created_at': '2019-12-14T03:33:15Z', 'updated_at': '2019-12-14T04:28:10Z', 'closed_at': None, 'author_association': 'MEMBER', 'pull_request': {'url': 'https://api.github.com/repos/pandas-dev/pandas/pulls/30271', 'html_url': 'https://github.com/pandas-dev/pandas/pull/30271', 'diff_url': 'https://github.com/pandas-dev/pandas/pull/30271.diff', 'patch_url': 'https://github.com/pandas-dev/pandas/pull/30271.patch'}, 'body': 'Pre-cursor to a change that splits datetime functions that return `char *` off from datetime functions that return int.  Right now these are intermixed in functions that return void pointers, which makes type checking and grokking more difficult than they need to be'}, {'url': 'https://api.github.com/repos/pandas-dev/pandas/issues/30270', 'repository_url': 'https://api.github.com/repos/pandas-dev/pandas', 'labels_url': 'https://api.github.com/repos/pandas-dev/pandas/issues/30270/labels{/name}', 'comments_url': 'https://api.github.com/repos/pandas-dev/pandas/issues/30270/comments', 'events_url': 'https://api.github.com/repos/pandas-dev/pandas/issues/30270/events', 'html_url': 'https://github.com/pandas-dev/pandas/pull/30270', 'id': 537827226, 'node_id': 'MDExOlB1bGxSZXF1ZXN0MzUzMTE0MTY3', 'number': 30270, 'title': 'Parquet schema', 'user': {'login': 'ieaves', 'id': 7785207, 'node_id': 'MDQ6VXNlcjc3ODUyMDc=', 'avatar_url': 'https://avatars0.githubusercontent.com/u/7785207?v=4', 'gravatar_id': '', 'url': 'https://api.github.com/users/ieaves', 'html_url': 'https://github.com/ieaves', 'followers_url': 'https://api.github.com/users/ieaves/followers', 'following_url': 'https://api.github.com/users/ieaves/following{/other_user}', 'gists_url': 'https://api.github.com/users/ieaves/gists{/gist_id}', 'starred_url': 'https://api.github.com/users/ieaves/starred{/owner}{/repo}', 'subscriptions_url': 'https://api.github.com/users/ieaves/subscriptions', 'organizations_url': 'https://api.github.com/users/ieaves/orgs', 'repos_url': 'https://api.github.com/users/ieaves/repos', 'events_url': 'https://api.github.com/users/ieaves/events{/privacy}', 'received_events_url': 'https://api.github.com/users/ieaves/received_events', 'type': 'User', 'site_admin': False}, 'labels': [{'id': 685114413, 'node_id': 'MDU6TGFiZWw2ODUxMTQ0MTM=', 'url': 'https://api.github.com/repos/pandas-dev/pandas/labels/IO%20Parquet', 'name': 'IO Parquet', 'color': '5319e7', 'default': False, 'description': 'parquet, feather, pyarrow'}], 'state': 'open', 'locked': False, 'assignee': None, 'assignees': [], 'milestone': None, 'comments': 0, 'created_at': '2019-12-13T23:47:53Z', 'updated_at': '2019-12-14T00:30:46Z', 'closed_at': None, 'author_association': 'NONE', 'pull_request': {'url': 'https://api.github.com/repos/pandas-dev/pandas/pulls/30270', 'html_url': 'https://github.com/pandas-dev/pandas/pull/30270', 'diff_url': 'https://github.com/pandas-dev/pandas/pull/30270.diff', 'patch_url': 'https://github.com/pandas-dev/pandas/pull/30270.patch'}, 'body': '- [X] closes #30189 \\r\\n- [ ] tests added / passed\\r\\n- [X] passes `black pandas`\\r\\n- [ ] passes `git diff upstream/master -u -- \"*.py\" | flake8 --diff`\\r\\n- [ ] whatsnew entry\\r\\n'}, {'url': 'https://api.github.com/repos/pandas-dev/pandas/issues/30268', 'repository_url': 'https://api.github.com/repos/pandas-dev/pandas', 'labels_url': 'https://api.github.com/repos/pandas-dev/pandas/issues/30268/labels{/name}', 'comments_url': 'https://api.github.com/repos/pandas-dev/pandas/issues/30268/comments', 'events_url': 'https://api.github.com/repos/pandas-dev/pandas/issues/30268/events', 'html_url': 'https://github.com/pandas-dev/pandas/issues/30268', 'id': 537809512, 'node_id': 'MDU6SXNzdWU1Mzc4MDk1MTI=', 'number': 30268, 'title': 'Int64 with null value mangles large-ish integers', 'user': {'login': 'craigdsthompson', 'id': 6002755, 'node_id': 'MDQ6VXNlcjYwMDI3NTU=', 'avatar_url': 'https://avatars0.githubusercontent.com/u/6002755?v=4', 'gravatar_id': '', 'url': 'https://api.github.com/users/craigdsthompson', 'html_url': 'https://github.com/craigdsthompson', 'followers_url': 'https://api.github.com/users/craigdsthompson/followers', 'following_url': 'https://api.github.com/users/craigdsthompson/following{/other_user}', 'gists_url': 'https://api.github.com/users/craigdsthompson/gists{/gist_id}', 'starred_url': 'https://api.github.com/users/craigdsthompson/starred{/owner}{/repo}', 'subscriptions_url': 'https://api.github.com/users/craigdsthompson/subscriptions', 'organizations_url': 'https://api.github.com/users/craigdsthompson/orgs', 'repos_url': 'https://api.github.com/users/craigdsthompson/repos', 'events_url': 'https://api.github.com/users/craigdsthompson/events{/privacy}', 'received_events_url': 'https://api.github.com/users/craigdsthompson/received_events', 'type': 'User', 'site_admin': False}, 'labels': [{'id': 76811, 'node_id': 'MDU6TGFiZWw3NjgxMQ==', 'url': 'https://api.github.com/repos/pandas-dev/pandas/labels/Bug', 'name': 'Bug', 'color': 'e10c02', 'default': False, 'description': None}, {'id': 849023693, 'node_id': 'MDU6TGFiZWw4NDkwMjM2OTM=', 'url': 'https://api.github.com/repos/pandas-dev/pandas/labels/ExtensionArray', 'name': 'ExtensionArray', 'color': '6138b5', 'default': False, 'description': 'Extending pandas with custom dtypes or arrays.'}], 'state': 'open', 'locked': False, 'assignee': None, 'assignees': [], 'milestone': {'url': 'https://api.github.com/repos/pandas-dev/pandas/milestones/32', 'html_url': 'https://github.com/pandas-dev/pandas/milestone/32', 'labels_url': 'https://api.github.com/repos/pandas-dev/pandas/milestones/32/labels', 'id': 933188, 'node_id': 'MDk6TWlsZXN0b25lOTMzMTg4', 'number': 32, 'title': 'Contributions Welcome', 'description': 'Changes that would be nice to have in the next release. These issues are not blocking. They will be pushed to the next release if no one has time to fix them.', 'creator': {'login': 'jreback', 'id': 953992, 'node_id': 'MDQ6VXNlcjk1Mzk5Mg==', 'avatar_url': 'https://avatars2.githubusercontent.com/u/953992?v=4', 'gravatar_id': '', 'url': 'https://api.github.com/users/jreback', 'html_url': 'https://github.com/jreback', 'followers_url': 'https://api.github.com/users/jreback/followers', 'following_url': 'https://api.github.com/users/jreback/following{/other_user}', 'gists_url': 'https://api.github.com/users/jreback/gists{/gist_id}', 'starred_url': 'https://api.github.com/users/jreback/starred{/owner}{/repo}', 'subscriptions_url': 'https://api.github.com/users/jreback/subscriptions', 'organizations_url': 'https://api.github.com/users/jreback/orgs', 'repos_url': 'https://api.github.com/users/jreback/repos', 'events_url': 'https://api.github.com/users/jreback/events{/privacy}', 'received_events_url': 'https://api.github.com/users/jreback/received_events', 'type': 'User', 'site_admin': False}, 'open_issues': 1228, 'closed_issues': 501, 'state': 'open', 'created_at': '2015-01-13T10:53:19Z', 'updated_at': '2019-12-14T03:43:16Z', 'due_on': None, 'closed_at': None}, 'comments': 1, 'created_at': '2019-12-13T22:40:04Z', 'updated_at': '2019-12-14T03:43:16Z', 'closed_at': None, 'author_association': 'NONE', 'body': '#### Code Sample, a copy-pastable example if possible\\r\\n\\r\\n```python\\r\\nimport pandas as pd\\r\\nimport numpy as np\\r\\n\\r\\nx = 9999999999999999\\r\\ny = 123123123123123123\\r\\nz = 10000000000000543\\r\\ns = pd.Series([1, 2, 3, x, y, z], dtype=\"Int64\")\\r\\ns[3] == x  # True\\r\\ns\\r\\ns2 = pd.Series([1, 2, 3, x, y, z, np.nan], dtype=\"Int64\")\\r\\ns2[3] == x  # False\\r\\ns2\\r\\nnp.iinfo(np.int64).max\\r\\n```\\r\\n\\r\\nWith interpreter output:\\r\\n```python\\r\\n>>> import pandas as pd\\r\\n>>> import numpy as np\\r\\n>>> \\r\\n>>> x = 9999999999999999\\r\\n>>> y = 123123123123123123\\r\\n>>> z = 10000000000000543\\r\\n>>> s = pd.Series([1, 2, 3, x, y, z], dtype=\"Int64\")\\r\\n>>> s[3] == x  # True\\r\\nTrue\\r\\n>>> s\\r\\n0                     1\\r\\n1                     2\\r\\n2                     3\\r\\n3      9999999999999999\\r\\n4    123123123123123123\\r\\n5     10000000000000543\\r\\ndtype: Int64\\r\\n>>> s2 = pd.Series([1, 2, 3, x, y, z, np.nan], dtype=\"Int64\")\\r\\n>>> s2[3] == x  # False\\r\\nFalse\\r\\n>>> s2\\r\\n0                     1\\r\\n1                     2\\r\\n2                     3\\r\\n3     10000000000000000\\r\\n4    123123123123123120\\r\\n5     10000000000000544\\r\\n6                   NaN\\r\\ndtype: Int64\\r\\n>>> np.iinfo(np.int64).max\\r\\n9223372036854775807\\r\\n```\\r\\n#### Problem description\\r\\n\\r\\nIt seams that the presence of `np.nan` values in a column being typed as `Int64` causes some non-null values to be mangled. This seems to happen with large-ish values (but still below the max int limit).\\r\\n\\r\\nGiven that Int64 is the \"Nullable integer\" data type, null values should be allowed, and should certainly not silently change the values of other elements in the data frame.\\r\\n\\r\\n#### Expected Output\\r\\n```python\\r\\n>>> import pandas as pd\\r\\n>>> import numpy as np\\r\\n>>> \\r\\n>>> x = 9999999999999999\\r\\n>>> y = 123123123123123123\\r\\n>>> z = 10000000000000543\\r\\n>>> s = pd.Series([1, 2, 3, x, y, z], dtype=\"Int64\")\\r\\n>>> s[3] == x  # True\\r\\nTrue\\r\\n>>> s\\r\\n0                     1\\r\\n1                     2\\r\\n2                     3\\r\\n3      9999999999999999\\r\\n4    123123123123123123\\r\\n5     10000000000000543\\r\\ndtype: Int64\\r\\n>>> s2 = pd.Series([1, 2, 3, x, y, z, np.nan], dtype=\"Int64\")\\r\\n>>> s2[3] == x  # True (was False above)\\r\\nTrue\\r\\n>>> s2\\r\\n0                     1\\r\\n1                     2\\r\\n2                     3\\r\\n3      9999999999999999\\r\\n4    123123123123123123\\r\\n5     10000000000000543\\r\\n6                   NaN\\r\\ndtype: Int64\\r\\n>>> np.iinfo(np.int64).max\\r\\n9223372036854775807\\r\\n```\\r\\n\\r\\n\\r\\n#### Output of ``pd.show_versions()``\\r\\n\\r\\n<details>\\r\\n\\r\\nINSTALLED VERSIONS\\r\\n------------------\\r\\ncommit           : None\\r\\npython           : 3.7.1.final.0\\r\\npython-bits      : 64\\r\\nOS               : Darwin\\r\\nOS-release       : 19.0.0\\r\\nmachine          : x86_64\\r\\nprocessor        : i386\\r\\nbyteorder        : little\\r\\nLC_ALL           : None\\r\\nLANG             : en_CA.UTF-8\\r\\nLOCALE           : en_CA.UTF-8\\r\\n\\r\\npandas           : 0.25.3\\r\\nnumpy            : 1.17.4\\r\\npytz             : 2019.3\\r\\ndateutil         : 2.8.1\\r\\npip              : 10.0.1\\r\\nsetuptools       : 39.0.1\\r\\nCython           : None\\r\\npytest           : None\\r\\nhypothesis       : None\\r\\nsphinx           : None\\r\\nblosc            : None\\r\\nfeather          : None\\r\\nxlsxwriter       : None\\r\\nlxml.etree       : None\\r\\nhtml5lib         : None\\r\\npymysql          : None\\r\\npsycopg2         : None\\r\\njinja2           : None\\r\\nIPython          : None\\r\\npandas_datareader: None\\r\\nbs4              : None\\r\\nbottleneck       : None\\r\\nfastparquet      : None\\r\\ngcsfs            : None\\r\\nlxml.etree       : None\\r\\nmatplotlib       : None\\r\\nnumexpr          : None\\r\\nodfpy            : None\\r\\nopenpyxl         : None\\r\\npandas_gbq       : None\\r\\npyarrow          : None\\r\\npytables         : None\\r\\ns3fs             : None\\r\\nscipy            : None\\r\\nsqlalchemy       : None\\r\\ntables           : None\\r\\nxarray           : None\\r\\nxlrd             : None\\r\\nxlwt             : None\\r\\nxlsxwriter       : None\\r\\n</details>\\r\\n'}, {'url': 'https://api.github.com/repos/pandas-dev/pandas/issues/30266', 'repository_url': 'https://api.github.com/repos/pandas-dev/pandas', 'labels_url': 'https://api.github.com/repos/pandas-dev/pandas/issues/30266/labels{/name}', 'comments_url': 'https://api.github.com/repos/pandas-dev/pandas/issues/30266/comments', 'events_url': 'https://api.github.com/repos/pandas-dev/pandas/issues/30266/events', 'html_url': 'https://github.com/pandas-dev/pandas/pull/30266', 'id': 537799379, 'node_id': 'MDExOlB1bGxSZXF1ZXN0MzUzMDkyMTA5', 'number': 30266, 'title': 'Made date time sources usage more explicit in setup.py', 'user': {'login': 'WillAyd', 'id': 609873, 'node_id': 'MDQ6VXNlcjYwOTg3Mw==', 'avatar_url': 'https://avatars0.githubusercontent.com/u/609873?v=4', 'gravatar_id': '', 'url': 'https://api.github.com/users/WillAyd', 'html_url': 'https://github.com/WillAyd', 'followers_url': 'https://api.github.com/users/WillAyd/followers', 'following_url': 'https://api.github.com/users/WillAyd/following{/other_user}', 'gists_url': 'https://api.github.com/users/WillAyd/gists{/gist_id}', 'starred_url': 'https://api.github.com/users/WillAyd/starred{/owner}{/repo}', 'subscriptions_url': 'https://api.github.com/users/WillAyd/subscriptions', 'organizations_url': 'https://api.github.com/users/WillAyd/orgs', 'repos_url': 'https://api.github.com/users/WillAyd/repos', 'events_url': 'https://api.github.com/users/WillAyd/events{/privacy}', 'received_events_url': 'https://api.github.com/users/WillAyd/received_events', 'type': 'User', 'site_admin': False}, 'labels': [{'id': 48070600, 'node_id': 'MDU6TGFiZWw0ODA3MDYwMA==', 'url': 'https://api.github.com/repos/pandas-dev/pandas/labels/CI', 'name': 'CI', 'color': 'a2bca7', 'default': False, 'description': None}], 'state': 'open', 'locked': False, 'assignee': None, 'assignees': [], 'milestone': None, 'comments': 1, 'created_at': '2019-12-13T22:08:24Z', 'updated_at': '2019-12-13T22:11:36Z', 'closed_at': None, 'author_association': 'MEMBER', 'pull_request': {'url': 'https://api.github.com/repos/pandas-dev/pandas/pulls/30266', 'html_url': 'https://github.com/pandas-dev/pandas/pull/30266', 'diff_url': 'https://github.com/pandas-dev/pandas/pull/30266.diff', 'patch_url': 'https://github.com/pandas-dev/pandas/pull/30266.patch'}, 'body': \"Not sure this fully solves #30236 but doesn't hurt and makes things more explicit\"}, {'url': 'https://api.github.com/repos/pandas-dev/pandas/issues/30265', 'repository_url': 'https://api.github.com/repos/pandas-dev/pandas', 'labels_url': 'https://api.github.com/repos/pandas-dev/pandas/issues/30265/labels{/name}', 'comments_url': 'https://api.github.com/repos/pandas-dev/pandas/issues/30265/comments', 'events_url': 'https://api.github.com/repos/pandas-dev/pandas/issues/30265/events', 'html_url': 'https://github.com/pandas-dev/pandas/pull/30265', 'id': 537770745, 'node_id': 'MDExOlB1bGxSZXF1ZXN0MzUzMDY4MjM4', 'number': 30265, 'title': '[WIP]: Indexing with BooleanArray', 'user': {'login': 'TomAugspurger', 'id': 1312546, 'node_id': 'MDQ6VXNlcjEzMTI1NDY=', 'avatar_url': 'https://avatars3.githubusercontent.com/u/1312546?v=4', 'gravatar_id': '', 'url': 'https://api.github.com/users/TomAugspurger', 'html_url': 'https://github.com/TomAugspurger', 'followers_url': 'https://api.github.com/users/TomAugspurger/followers', 'following_url': 'https://api.github.com/users/TomAugspurger/following{/other_user}', 'gists_url': 'https://api.github.com/users/TomAugspurger/gists{/gist_id}', 'starred_url': 'https://api.github.com/users/TomAugspurger/starred{/owner}{/repo}', 'subscriptions_url': 'https://api.github.com/users/TomAugspurger/subscriptions', 'organizations_url': 'https://api.github.com/users/TomAugspurger/orgs', 'repos_url': 'https://api.github.com/users/TomAugspurger/repos', 'events_url': 'https://api.github.com/users/TomAugspurger/events{/privacy}', 'received_events_url': 'https://api.github.com/users/TomAugspurger/received_events', 'type': 'User', 'site_admin': False}, 'labels': [], 'state': 'open', 'locked': False, 'assignee': None, 'assignees': [], 'milestone': None, 'comments': 0, 'created_at': '2019-12-13T20:46:44Z', 'updated_at': '2019-12-13T20:48:14Z', 'closed_at': None, 'author_association': 'CONTRIBUTOR', 'pull_request': {'url': 'https://api.github.com/repos/pandas-dev/pandas/pulls/30265', 'html_url': 'https://github.com/pandas-dev/pandas/pull/30265', 'diff_url': 'https://github.com/pandas-dev/pandas/pull/30265.diff', 'patch_url': 'https://github.com/pandas-dev/pandas/pull/30265.patch'}, 'body': 'This implements indexing a Series with a BooleanArray for some\\r\\ndtypes. NA values in the mask propagate.\\r\\n\\r\\nThis required updating each EA\\'s `__getitem__` to correctly propagate\\r\\nNA. Doing the same for ndarray-backed Series is possible, but will require\\r\\nsome additional hacking and we first need to determine the result dtype.\\r\\n\\r\\nNo need to review in detail. The primary motivation for pushing this up\\r\\nis to better understand what indexing with NA values will look like in\\r\\npractice.\\r\\n\\r\\nxref https://github.com/pandas-dev/pandas/issues/28778, and https://github.com/pandas-dev/pandas/issues/28778#issuecomment-565538145 in particular.\\r\\n\\r\\n---\\r\\n\\r\\n(copied from https://github.com/pandas-dev/pandas/issues/28778#issuecomment-565538145)\\r\\n\\r\\nOn indexing, propagating NAs presents some challenging dtype casting issues. For example, what is the dtype on the output of\\r\\n\\r\\n```python\\r\\nIn [3]: s = pd.Series([1, 2, 3])\\r\\n\\r\\nIn [4]: mask = pd.array([True, False, None])\\r\\n\\r\\nIn [5]: s[mask]\\r\\n```\\r\\n\\r\\nWould that be an Int64 dtype, with the last value being NA? Would we cast to float64 and use `np.nan`? object-dtype?\\r\\n\\r\\nAnd what if the original series was float dtype? A float-dtype with NaN is about the only option we have right now, since we lack a float64 array that can hold NA.\\r\\n\\r\\nI don\\'t think that an indexing operation that introduces missing values should change the dtype of the array. I don\\'t think anyone would realistically want that. So... do we just raise for now?\\r\\n\\r\\nWhat about cases when we are able to index without changing the dtype? Those would be\\r\\n\\r\\n1. Indexing with a BooleanArray with no missing values.\\r\\n2. Indexing a dtype that supports missing values (datetime, timedelta, string, object, Int64, boolean...). Basically anything but NumPy\\'s bool, int float.\\r\\n\\r\\nIMO, which shouldn\\'t have value-dependent behavior, so if\\r\\n\\r\\n```python\\r\\n>>> pd.Series([1, 2])[pd.array([True, None])\\r\\n```\\r\\n\\r\\nraises, then so should `pd.Series([1, 2])[pd.array([True, False])` (no missing values).\\r\\n\\r\\nI think supporting 2 is fine, since it just depends on the dtypes.\\r\\n\\r\\n```python\\r\\n>>> pd.Series([1, 2], dtype=\"Int64\")[pd.array([True, None])]\\r\\nSeries([1, NA], dtype=\"Int64\")\\r\\n>>> pd.Series([1, 2], dtype=\"Int64\")[pd.array([True, False])]\\r\\nSeries([1], dtype=\"Int64\")\\r\\n```'}, {'url': 'https://api.github.com/repos/pandas-dev/pandas/issues/30264', 'repository_url': 'https://api.github.com/repos/pandas-dev/pandas', 'labels_url': 'https://api.github.com/repos/pandas-dev/pandas/issues/30264/labels{/name}', 'comments_url': 'https://api.github.com/repos/pandas-dev/pandas/issues/30264/comments', 'events_url': 'https://api.github.com/repos/pandas-dev/pandas/issues/30264/events', 'html_url': 'https://github.com/pandas-dev/pandas/pull/30264', 'id': 537769353, 'node_id': 'MDExOlB1bGxSZXF1ZXN0MzUzMDY3MDg5', 'number': 30264, 'title': 'WIP/ERR: raise consistent errors for non-existent files', 'user': {'login': 'jbrockmendel', 'id': 8078968, 'node_id': 'MDQ6VXNlcjgwNzg5Njg=', 'avatar_url': 'https://avatars1.githubusercontent.com/u/8078968?v=4', 'gravatar_id': '', 'url': 'https://api.github.com/users/jbrockmendel', 'html_url': 'https://github.com/jbrockmendel', 'followers_url': 'https://api.github.com/users/jbrockmendel/followers', 'following_url': 'https://api.github.com/users/jbrockmendel/following{/other_user}', 'gists_url': 'https://api.github.com/users/jbrockmendel/gists{/gist_id}', 'starred_url': 'https://api.github.com/users/jbrockmendel/starred{/owner}{/repo}', 'subscriptions_url': 'https://api.github.com/users/jbrockmendel/subscriptions', 'organizations_url': 'https://api.github.com/users/jbrockmendel/orgs', 'repos_url': 'https://api.github.com/users/jbrockmendel/repos', 'events_url': 'https://api.github.com/users/jbrockmendel/events{/privacy}', 'received_events_url': 'https://api.github.com/users/jbrockmendel/received_events', 'type': 'User', 'site_admin': False}, 'labels': [{'id': 42670965, 'node_id': 'MDU6TGFiZWw0MjY3MDk2NQ==', 'url': 'https://api.github.com/repos/pandas-dev/pandas/labels/Error%20Reporting', 'name': 'Error Reporting', 'color': 'ffa0ff', 'default': False, 'description': None}], 'state': 'open', 'locked': False, 'assignee': None, 'assignees': [], 'milestone': None, 'comments': 0, 'created_at': '2019-12-13T20:42:47Z', 'updated_at': '2019-12-14T09:44:10Z', 'closed_at': None, 'author_association': 'MEMBER', 'pull_request': {'url': 'https://api.github.com/repos/pandas-dev/pandas/pulls/30264', 'html_url': 'https://github.com/pandas-dev/pandas/pull/30264', 'diff_url': 'https://github.com/pandas-dev/pandas/pull/30264.diff', 'patch_url': 'https://github.com/pandas-dev/pandas/pull/30264.patch'}, 'body': '- [x] closes #29125\\r\\n- [x] closes #13872\\r\\n- [ ] closes #17918  <-- needs tests and double-checking\\r\\n- [x] tests added / passed\\r\\n- [x] passes `black pandas`\\r\\n- [x] passes `git diff upstream/master -u -- \"*.py\" | flake8 --diff`\\r\\n- [ ] whatsnew entry\\r\\n\\r\\nxref #29102 the json case is xfailed here.\\r\\n'}, {'url': 'https://api.github.com/repos/pandas-dev/pandas/issues/30263', 'repository_url': 'https://api.github.com/repos/pandas-dev/pandas', 'labels_url': 'https://api.github.com/repos/pandas-dev/pandas/issues/30263/labels{/name}', 'comments_url': 'https://api.github.com/repos/pandas-dev/pandas/issues/30263/comments', 'events_url': 'https://api.github.com/repos/pandas-dev/pandas/issues/30263/events', 'html_url': 'https://github.com/pandas-dev/pandas/issues/30263', 'id': 537761647, 'node_id': 'MDU6SXNzdWU1Mzc3NjE2NDc=', 'number': 30263, 'title': 'iloc erroneously truncates underlying data for timestamps with timezone', 'user': {'login': 'jakevdp', 'id': 781659, 'node_id': 'MDQ6VXNlcjc4MTY1OQ==', 'avatar_url': 'https://avatars0.githubusercontent.com/u/781659?v=4', 'gravatar_id': '', 'url': 'https://api.github.com/users/jakevdp', 'html_url': 'https://github.com/jakevdp', 'followers_url': 'https://api.github.com/users/jakevdp/followers', 'following_url': 'https://api.github.com/users/jakevdp/following{/other_user}', 'gists_url': 'https://api.github.com/users/jakevdp/gists{/gist_id}', 'starred_url': 'https://api.github.com/users/jakevdp/starred{/owner}{/repo}', 'subscriptions_url': 'https://api.github.com/users/jakevdp/subscriptions', 'organizations_url': 'https://api.github.com/users/jakevdp/orgs', 'repos_url': 'https://api.github.com/users/jakevdp/repos', 'events_url': 'https://api.github.com/users/jakevdp/events{/privacy}', 'received_events_url': 'https://api.github.com/users/jakevdp/received_events', 'type': 'User', 'site_admin': False}, 'labels': [{'id': 76811, 'node_id': 'MDU6TGFiZWw3NjgxMQ==', 'url': 'https://api.github.com/repos/pandas-dev/pandas/labels/Bug', 'name': 'Bug', 'color': 'e10c02', 'default': False, 'description': None}, {'id': 2822098, 'node_id': 'MDU6TGFiZWwyODIyMDk4', 'url': 'https://api.github.com/repos/pandas-dev/pandas/labels/Indexing', 'name': 'Indexing', 'color': '0b02e1', 'default': False, 'description': 'Related to indexing on series/frames, not to indexes themselves'}], 'state': 'open', 'locked': False, 'assignee': None, 'assignees': [], 'milestone': None, 'comments': 2, 'created_at': '2019-12-13T20:22:05Z', 'updated_at': '2019-12-13T21:15:07Z', 'closed_at': None, 'author_association': 'CONTRIBUTOR', 'body': 'This is a strange one... Here\\'s a short repro of the error, which I can reproduce in pandas 0.21-0.25 and numpy 0.15-0.17 (I didn\\'t try further back than that):\\r\\n```python-traceback\\r\\n>>> import pandas as pd\\r\\n>>> df = pd.DataFrame({\\'x\\': pd.date_range(\\'2019\\', periods=10, tz=\\'UTC\\')})\\r\\n>>> df = df.iloc[:, :5]\\r\\n>>> df._repr_html_()\\r\\n---------------------------------------------------------------------------\\r\\nIndexError                                Traceback (most recent call last)\\r\\n<ipython-input-3-f6e53eba0a8f> in <module>()\\r\\n      2 df = pd.DataFrame({\\'x\\': pd.date_range(\\'2019\\', periods=10, tz=\\'UTC\\')})\\r\\n      3 df = df.iloc[:, :5]\\r\\n----> 4 df._repr_html_()\\r\\n\\r\\n/usr/local/lib/python3.6/dist-packages/pandas/core/frame.py in _repr_html_(self)\\r\\n    667             buf = StringIO(\"\")\\r\\n    668             self.info(buf=buf)\\r\\n--> 669             # need to escape the <class>, should be the first line.\\r\\n    670             val = buf.getvalue().replace(\"<\", r\"&lt;\", 1)\\r\\n    671             val = val.replace(\">\", r\"&gt;\", 1)\\r\\n\\r\\n/usr/local/lib/python3.6/dist-packages/pandas/core/frame.py in to_html(self, buf, columns, col_space, header, index, na_rep, formatters, float_format, sparsify, index_names, justify, bold_rows, classes, escape, max_rows, max_cols, show_dimensions, notebook, decimal, border)\\r\\n   1732 \\r\\n   1733         >>> df.to_records(column_dtypes={\"A\": \"int32\"})\\r\\n-> 1734         rec.array([(\\'a\\', 1, 0.5 ), (\\'b\\', 2, 0.75)],\\r\\n   1735                   dtype=[(\\'I\\', \\'O\\'), (\\'A\\', \\'<i4\\'), (\\'B\\', \\'<f8\\')])\\r\\n   1736 \\r\\n\\r\\n/usr/local/lib/python3.6/dist-packages/pandas/io/formats/format.py in to_html(self, classes, notebook, border)\\r\\n    732                 )\\r\\n    733             )\\r\\n--> 734 \\r\\n    735     def _join_multiline(self, *strcols):\\r\\n    736         lwidth = self.line_width\\r\\n\\r\\n/usr/local/lib/python3.6/dist-packages/pandas/io/formats/format.py in write_result(self, buf)\\r\\n   1206         else:\\r\\n   1207             threshold = None\\r\\n-> 1208 \\r\\n   1209         # if we have a fixed_width, we\\'ll need to try different float_format\\r\\n   1210         def format_values_with(float_format):\\r\\n\\r\\n/usr/local/lib/python3.6/dist-packages/pandas/io/formats/format.py in _write_body(self, indent)\\r\\n   1369 \\r\\n   1370     Examples\\r\\n-> 1371     --------\\r\\n   1372     Keeps all entries different after rounding:\\r\\n   1373 \\r\\n\\r\\n/usr/local/lib/python3.6/dist-packages/pandas/io/formats/format.py in _write_regular_rows(self, fmt_values, indent)\\r\\n   1403     to_begin = unique_pcts[0] if unique_pcts[0] > 0 else None\\r\\n   1404     to_end = 100 - unique_pcts[-1] if unique_pcts[-1] < 100 else None\\r\\n-> 1405 \\r\\n   1406     # Least precision that keeps percentiles unique after rounding\\r\\n   1407     prec = -np.floor(\\r\\n\\r\\n/usr/local/lib/python3.6/dist-packages/pandas/io/formats/format.py in <genexpr>(.0)\\r\\n   1403     to_begin = unique_pcts[0] if unique_pcts[0] > 0 else None\\r\\n   1404     to_end = 100 - unique_pcts[-1] if unique_pcts[-1] < 100 else None\\r\\n-> 1405 \\r\\n   1406     # Least precision that keeps percentiles unique after rounding\\r\\n   1407     prec = -np.floor(\\r\\n\\r\\nIndexError: list index out of range\\r\\n```\\r\\nIt seems that somehow, the second argument of iloc is truncating the underlying data along the wrong axis:\\r\\n```python-traceback\\r\\n>>> df.shape\\r\\n(10, 1)\\r\\n\\r\\n>>> df.values.shape\\r\\n(5, 1)\\r\\n\\r\\n>>> print(df)\\r\\n                          x\\r\\n0 2019-01-01 00:00:00+00:00\\r\\n1 2019-01-02 00:00:00+00:00\\r\\n2 2019-01-03 00:00:00+00:00\\r\\n3 2019-01-04 00:00:00+00:00\\r\\n4 2019-01-05 00:00:00+00:00\\r\\n5                          \\r\\n6                          \\r\\n7                          \\r\\n8                          \\r\\n9       \\r\\n```\\r\\nThis only appears to happen if the data contains timestamps with a timezone specified. If I remove ``tz=\\'UTC\\'`` above, everything works properly.'}, {'url': 'https://api.github.com/repos/pandas-dev/pandas/issues/30262', 'repository_url': 'https://api.github.com/repos/pandas-dev/pandas', 'labels_url': 'https://api.github.com/repos/pandas-dev/pandas/issues/30262/labels{/name}', 'comments_url': 'https://api.github.com/repos/pandas-dev/pandas/issues/30262/comments', 'events_url': 'https://api.github.com/repos/pandas-dev/pandas/issues/30262/events', 'html_url': 'https://github.com/pandas-dev/pandas/issues/30262', 'id': 537761094, 'node_id': 'MDU6SXNzdWU1Mzc3NjEwOTQ=', 'number': 30262, 'title': 'Builtin loading of files from multi-file zip archives', 'user': {'login': 'abmyii', 'id': 52673001, 'node_id': 'MDQ6VXNlcjUyNjczMDAx', 'avatar_url': 'https://avatars0.githubusercontent.com/u/52673001?v=4', 'gravatar_id': '', 'url': 'https://api.github.com/users/abmyii', 'html_url': 'https://github.com/abmyii', 'followers_url': 'https://api.github.com/users/abmyii/followers', 'following_url': 'https://api.github.com/users/abmyii/following{/other_user}', 'gists_url': 'https://api.github.com/users/abmyii/gists{/gist_id}', 'starred_url': 'https://api.github.com/users/abmyii/starred{/owner}{/repo}', 'subscriptions_url': 'https://api.github.com/users/abmyii/subscriptions', 'organizations_url': 'https://api.github.com/users/abmyii/orgs', 'repos_url': 'https://api.github.com/users/abmyii/repos', 'events_url': 'https://api.github.com/users/abmyii/events{/privacy}', 'received_events_url': 'https://api.github.com/users/abmyii/received_events', 'type': 'User', 'site_admin': False}, 'labels': [{'id': 35818298, 'node_id': 'MDU6TGFiZWwzNTgxODI5OA==', 'url': 'https://api.github.com/repos/pandas-dev/pandas/labels/API%20Design', 'name': 'API Design', 'color': 'AD7FA8', 'default': False, 'description': None}, {'id': 2301354, 'node_id': 'MDU6TGFiZWwyMzAxMzU0', 'url': 'https://api.github.com/repos/pandas-dev/pandas/labels/IO%20Data', 'name': 'IO Data', 'color': '06909A', 'default': False, 'description': \"IO issues that don't fit into a more specific label\"}, {'id': 219960758, 'node_id': 'MDU6TGFiZWwyMTk5NjA3NTg=', 'url': 'https://api.github.com/repos/pandas-dev/pandas/labels/Needs%20Discussion', 'name': 'Needs Discussion', 'color': '207de5', 'default': False, 'description': None}], 'state': 'open', 'locked': False, 'assignee': None, 'assignees': [], 'milestone': None, 'comments': 3, 'created_at': '2019-12-13T20:20:39Z', 'updated_at': '2019-12-14T11:25:23Z', 'closed_at': None, 'author_association': 'NONE', 'body': \"Could a solution be implemented to simplify loading a dataset from a multi-file zip archive? I know it is a bit insignificant compared to most other issues (especially since there are workarounds), but I'd be happy to implement it myself if I'm given the go-ahead so as to not waste your time.\\r\\nThanks for this amazing library!\"}, {'url': 'https://api.github.com/repos/pandas-dev/pandas/issues/30260', 'repository_url': 'https://api.github.com/repos/pandas-dev/pandas', 'labels_url': 'https://api.github.com/repos/pandas-dev/pandas/issues/30260/labels{/name}', 'comments_url': 'https://api.github.com/repos/pandas-dev/pandas/issues/30260/comments', 'events_url': 'https://api.github.com/repos/pandas-dev/pandas/issues/30260/events', 'html_url': 'https://github.com/pandas-dev/pandas/pull/30260', 'id': 537682034, 'node_id': 'MDExOlB1bGxSZXF1ZXN0MzUyOTkzMTM2', 'number': 30260, 'title': 'CLN: Assorted cleanups', 'user': {'login': 'jbrockmendel', 'id': 8078968, 'node_id': 'MDQ6VXNlcjgwNzg5Njg=', 'avatar_url': 'https://avatars1.githubusercontent.com/u/8078968?v=4', 'gravatar_id': '', 'url': 'https://api.github.com/users/jbrockmendel', 'html_url': 'https://github.com/jbrockmendel', 'followers_url': 'https://api.github.com/users/jbrockmendel/followers', 'following_url': 'https://api.github.com/users/jbrockmendel/following{/other_user}', 'gists_url': 'https://api.github.com/users/jbrockmendel/gists{/gist_id}', 'starred_url': 'https://api.github.com/users/jbrockmendel/starred{/owner}{/repo}', 'subscriptions_url': 'https://api.github.com/users/jbrockmendel/subscriptions', 'organizations_url': 'https://api.github.com/users/jbrockmendel/orgs', 'repos_url': 'https://api.github.com/users/jbrockmendel/repos', 'events_url': 'https://api.github.com/users/jbrockmendel/events{/privacy}', 'received_events_url': 'https://api.github.com/users/jbrockmendel/received_events', 'type': 'User', 'site_admin': False}, 'labels': [{'id': 211029535, 'node_id': 'MDU6TGFiZWwyMTEwMjk1MzU=', 'url': 'https://api.github.com/repos/pandas-dev/pandas/labels/Clean', 'name': 'Clean', 'color': '207de5', 'default': False, 'description': None}, {'id': 1280988427, 'node_id': 'MDU6TGFiZWwxMjgwOTg4NDI3', 'url': 'https://api.github.com/repos/pandas-dev/pandas/labels/Typing', 'name': 'Typing', 'color': 'ea91a4', 'default': False, 'description': ''}], 'state': 'open', 'locked': False, 'assignee': None, 'assignees': [], 'milestone': None, 'comments': 0, 'created_at': '2019-12-13T17:45:36Z', 'updated_at': '2019-12-14T10:14:02Z', 'closed_at': None, 'author_association': 'MEMBER', 'pull_request': {'url': 'https://api.github.com/repos/pandas-dev/pandas/pulls/30260', 'html_url': 'https://github.com/pandas-dev/pandas/pull/30260', 'diff_url': 'https://github.com/pandas-dev/pandas/pull/30260.diff', 'patch_url': 'https://github.com/pandas-dev/pandas/pull/30260.patch'}, 'body': 'Many of these are broken off from #30035.'}, {'url': 'https://api.github.com/repos/pandas-dev/pandas/issues/30259', 'repository_url': 'https://api.github.com/repos/pandas-dev/pandas', 'labels_url': 'https://api.github.com/repos/pandas-dev/pandas/issues/30259/labels{/name}', 'comments_url': 'https://api.github.com/repos/pandas-dev/pandas/issues/30259/comments', 'events_url': 'https://api.github.com/repos/pandas-dev/pandas/issues/30259/events', 'html_url': 'https://github.com/pandas-dev/pandas/pull/30259', 'id': 537661884, 'node_id': 'MDExOlB1bGxSZXF1ZXN0MzUyOTc2NTg1', 'number': 30259, 'title': 'CLN: more lgtm.com cleanups', 'user': {'login': 'simonjayhawkins', 'id': 13159005, 'node_id': 'MDQ6VXNlcjEzMTU5MDA1', 'avatar_url': 'https://avatars0.githubusercontent.com/u/13159005?v=4', 'gravatar_id': '', 'url': 'https://api.github.com/users/simonjayhawkins', 'html_url': 'https://github.com/simonjayhawkins', 'followers_url': 'https://api.github.com/users/simonjayhawkins/followers', 'following_url': 'https://api.github.com/users/simonjayhawkins/following{/other_user}', 'gists_url': 'https://api.github.com/users/simonjayhawkins/gists{/gist_id}', 'starred_url': 'https://api.github.com/users/simonjayhawkins/starred{/owner}{/repo}', 'subscriptions_url': 'https://api.github.com/users/simonjayhawkins/subscriptions', 'organizations_url': 'https://api.github.com/users/simonjayhawkins/orgs', 'repos_url': 'https://api.github.com/users/simonjayhawkins/repos', 'events_url': 'https://api.github.com/users/simonjayhawkins/events{/privacy}', 'received_events_url': 'https://api.github.com/users/simonjayhawkins/received_events', 'type': 'User', 'site_admin': False}, 'labels': [{'id': 211029535, 'node_id': 'MDU6TGFiZWwyMTEwMjk1MzU=', 'url': 'https://api.github.com/repos/pandas-dev/pandas/labels/Clean', 'name': 'Clean', 'color': '207de5', 'default': False, 'description': None}], 'state': 'open', 'locked': False, 'assignee': None, 'assignees': [], 'milestone': {'url': 'https://api.github.com/repos/pandas-dev/pandas/milestones/16', 'html_url': 'https://github.com/pandas-dev/pandas/milestone/16', 'labels_url': 'https://api.github.com/repos/pandas-dev/pandas/milestones/16/labels', 'id': 174211, 'node_id': 'MDk6TWlsZXN0b25lMTc0MjEx', 'number': 16, 'title': '1.0', 'description': '', 'creator': {'login': 'wesm', 'id': 329591, 'node_id': 'MDQ6VXNlcjMyOTU5MQ==', 'avatar_url': 'https://avatars2.githubusercontent.com/u/329591?v=4', 'gravatar_id': '', 'url': 'https://api.github.com/users/wesm', 'html_url': 'https://github.com/wesm', 'followers_url': 'https://api.github.com/users/wesm/followers', 'following_url': 'https://api.github.com/users/wesm/following{/other_user}', 'gists_url': 'https://api.github.com/users/wesm/gists{/gist_id}', 'starred_url': 'https://api.github.com/users/wesm/starred{/owner}{/repo}', 'subscriptions_url': 'https://api.github.com/users/wesm/subscriptions', 'organizations_url': 'https://api.github.com/users/wesm/orgs', 'repos_url': 'https://api.github.com/users/wesm/repos', 'events_url': 'https://api.github.com/users/wesm/events{/privacy}', 'received_events_url': 'https://api.github.com/users/wesm/received_events', 'type': 'User', 'site_admin': False}, 'open_issues': 130, 'closed_issues': 1516, 'state': 'open', 'created_at': '2012-09-13T02:13:00Z', 'updated_at': '2019-12-14T08:42:37Z', 'due_on': '2020-01-01T08:00:00Z', 'closed_at': None}, 'comments': 0, 'created_at': '2019-12-13T17:03:49Z', 'updated_at': '2019-12-14T00:34:10Z', 'closed_at': None, 'author_association': 'MEMBER', 'pull_request': {'url': 'https://api.github.com/repos/pandas-dev/pandas/pulls/30259', 'html_url': 'https://github.com/pandas-dev/pandas/pull/30259', 'diff_url': 'https://github.com/pandas-dev/pandas/pull/30259.diff', 'patch_url': 'https://github.com/pandas-dev/pandas/pull/30259.patch'}, 'body': ''}, {'url': 'https://api.github.com/repos/pandas-dev/pandas/issues/30258', 'repository_url': 'https://api.github.com/repos/pandas-dev/pandas', 'labels_url': 'https://api.github.com/repos/pandas-dev/pandas/issues/30258/labels{/name}', 'comments_url': 'https://api.github.com/repos/pandas-dev/pandas/issues/30258/comments', 'events_url': 'https://api.github.com/repos/pandas-dev/pandas/issues/30258/events', 'html_url': 'https://github.com/pandas-dev/pandas/pull/30258', 'id': 537634114, 'node_id': 'MDExOlB1bGxSZXF1ZXN0MzUyOTUzNDIw', 'number': 30258, 'title': 'CLN: various lgtm.com cleanups', 'user': {'login': 'simonjayhawkins', 'id': 13159005, 'node_id': 'MDQ6VXNlcjEzMTU5MDA1', 'avatar_url': 'https://avatars0.githubusercontent.com/u/13159005?v=4', 'gravatar_id': '', 'url': 'https://api.github.com/users/simonjayhawkins', 'html_url': 'https://github.com/simonjayhawkins', 'followers_url': 'https://api.github.com/users/simonjayhawkins/followers', 'following_url': 'https://api.github.com/users/simonjayhawkins/following{/other_user}', 'gists_url': 'https://api.github.com/users/simonjayhawkins/gists{/gist_id}', 'starred_url': 'https://api.github.com/users/simonjayhawkins/starred{/owner}{/repo}', 'subscriptions_url': 'https://api.github.com/users/simonjayhawkins/subscriptions', 'organizations_url': 'https://api.github.com/users/simonjayhawkins/orgs', 'repos_url': 'https://api.github.com/users/simonjayhawkins/repos', 'events_url': 'https://api.github.com/users/simonjayhawkins/events{/privacy}', 'received_events_url': 'https://api.github.com/users/simonjayhawkins/received_events', 'type': 'User', 'site_admin': False}, 'labels': [{'id': 211029535, 'node_id': 'MDU6TGFiZWwyMTEwMjk1MzU=', 'url': 'https://api.github.com/repos/pandas-dev/pandas/labels/Clean', 'name': 'Clean', 'color': '207de5', 'default': False, 'description': None}], 'state': 'open', 'locked': False, 'assignee': None, 'assignees': [], 'milestone': {'url': 'https://api.github.com/repos/pandas-dev/pandas/milestones/16', 'html_url': 'https://github.com/pandas-dev/pandas/milestone/16', 'labels_url': 'https://api.github.com/repos/pandas-dev/pandas/milestones/16/labels', 'id': 174211, 'node_id': 'MDk6TWlsZXN0b25lMTc0MjEx', 'number': 16, 'title': '1.0', 'description': '', 'creator': {'login': 'wesm', 'id': 329591, 'node_id': 'MDQ6VXNlcjMyOTU5MQ==', 'avatar_url': 'https://avatars2.githubusercontent.com/u/329591?v=4', 'gravatar_id': '', 'url': 'https://api.github.com/users/wesm', 'html_url': 'https://github.com/wesm', 'followers_url': 'https://api.github.com/users/wesm/followers', 'following_url': 'https://api.github.com/users/wesm/following{/other_user}', 'gists_url': 'https://api.github.com/users/wesm/gists{/gist_id}', 'starred_url': 'https://api.github.com/users/wesm/starred{/owner}{/repo}', 'subscriptions_url': 'https://api.github.com/users/wesm/subscriptions', 'organizations_url': 'https://api.github.com/users/wesm/orgs', 'repos_url': 'https://api.github.com/users/wesm/repos', 'events_url': 'https://api.github.com/users/wesm/events{/privacy}', 'received_events_url': 'https://api.github.com/users/wesm/received_events', 'type': 'User', 'site_admin': False}, 'open_issues': 130, 'closed_issues': 1516, 'state': 'open', 'created_at': '2012-09-13T02:13:00Z', 'updated_at': '2019-12-14T08:42:37Z', 'due_on': '2020-01-01T08:00:00Z', 'closed_at': None}, 'comments': 0, 'created_at': '2019-12-13T16:11:36Z', 'updated_at': '2019-12-13T20:24:44Z', 'closed_at': None, 'author_association': 'MEMBER', 'pull_request': {'url': 'https://api.github.com/repos/pandas-dev/pandas/pulls/30258', 'html_url': 'https://github.com/pandas-dev/pandas/pull/30258', 'diff_url': 'https://github.com/pandas-dev/pandas/pull/30258.diff', 'patch_url': 'https://github.com/pandas-dev/pandas/pull/30258.patch'}, 'body': '\\r\\n'}, {'url': 'https://api.github.com/repos/pandas-dev/pandas/issues/30257', 'repository_url': 'https://api.github.com/repos/pandas-dev/pandas', 'labels_url': 'https://api.github.com/repos/pandas-dev/pandas/issues/30257/labels{/name}', 'comments_url': 'https://api.github.com/repos/pandas-dev/pandas/issues/30257/comments', 'events_url': 'https://api.github.com/repos/pandas-dev/pandas/issues/30257/events', 'html_url': 'https://github.com/pandas-dev/pandas/pull/30257', 'id': 537563519, 'node_id': 'MDExOlB1bGxSZXF1ZXN0MzUyODk1OTg1', 'number': 30257, 'title': 'DOC: .get_slice_bound in MultiIndex needs documentation.', 'user': {'login': 'proost', 'id': 34047134, 'node_id': 'MDQ6VXNlcjM0MDQ3MTM0', 'avatar_url': 'https://avatars1.githubusercontent.com/u/34047134?v=4', 'gravatar_id': '', 'url': 'https://api.github.com/users/proost', 'html_url': 'https://github.com/proost', 'followers_url': 'https://api.github.com/users/proost/followers', 'following_url': 'https://api.github.com/users/proost/following{/other_user}', 'gists_url': 'https://api.github.com/users/proost/gists{/gist_id}', 'starred_url': 'https://api.github.com/users/proost/starred{/owner}{/repo}', 'subscriptions_url': 'https://api.github.com/users/proost/subscriptions', 'organizations_url': 'https://api.github.com/users/proost/orgs', 'repos_url': 'https://api.github.com/users/proost/repos', 'events_url': 'https://api.github.com/users/proost/events{/privacy}', 'received_events_url': 'https://api.github.com/users/proost/received_events', 'type': 'User', 'site_admin': False}, 'labels': [{'id': 134699, 'node_id': 'MDU6TGFiZWwxMzQ2OTk=', 'url': 'https://api.github.com/repos/pandas-dev/pandas/labels/Docs', 'name': 'Docs', 'color': '3465A4', 'default': False, 'description': None}, {'id': 1280988427, 'node_id': 'MDU6TGFiZWwxMjgwOTg4NDI3', 'url': 'https://api.github.com/repos/pandas-dev/pandas/labels/Typing', 'name': 'Typing', 'color': 'ea91a4', 'default': False, 'description': ''}], 'state': 'open', 'locked': False, 'assignee': None, 'assignees': [], 'milestone': {'url': 'https://api.github.com/repos/pandas-dev/pandas/milestones/16', 'html_url': 'https://github.com/pandas-dev/pandas/milestone/16', 'labels_url': 'https://api.github.com/repos/pandas-dev/pandas/milestones/16/labels', 'id': 174211, 'node_id': 'MDk6TWlsZXN0b25lMTc0MjEx', 'number': 16, 'title': '1.0', 'description': '', 'creator': {'login': 'wesm', 'id': 329591, 'node_id': 'MDQ6VXNlcjMyOTU5MQ==', 'avatar_url': 'https://avatars2.githubusercontent.com/u/329591?v=4', 'gravatar_id': '', 'url': 'https://api.github.com/users/wesm', 'html_url': 'https://github.com/wesm', 'followers_url': 'https://api.github.com/users/wesm/followers', 'following_url': 'https://api.github.com/users/wesm/following{/other_user}', 'gists_url': 'https://api.github.com/users/wesm/gists{/gist_id}', 'starred_url': 'https://api.github.com/users/wesm/starred{/owner}{/repo}', 'subscriptions_url': 'https://api.github.com/users/wesm/subscriptions', 'organizations_url': 'https://api.github.com/users/wesm/orgs', 'repos_url': 'https://api.github.com/users/wesm/repos', 'events_url': 'https://api.github.com/users/wesm/events{/privacy}', 'received_events_url': 'https://api.github.com/users/wesm/received_events', 'type': 'User', 'site_admin': False}, 'open_issues': 130, 'closed_issues': 1516, 'state': 'open', 'created_at': '2012-09-13T02:13:00Z', 'updated_at': '2019-12-14T08:42:37Z', 'due_on': '2020-01-01T08:00:00Z', 'closed_at': None}, 'comments': 1, 'created_at': '2019-12-13T13:56:19Z', 'updated_at': '2019-12-14T04:36:59Z', 'closed_at': None, 'author_association': 'CONTRIBUTOR', 'pull_request': {'url': 'https://api.github.com/repos/pandas-dev/pandas/pulls/30257', 'html_url': 'https://github.com/pandas-dev/pandas/pull/30257', 'diff_url': 'https://github.com/pandas-dev/pandas/pull/30257.diff', 'patch_url': 'https://github.com/pandas-dev/pandas/pull/30257.patch'}, 'body': '- [ ] closes #29967\\r\\n- [ ] tests added / passed\\r\\n- [x] passes `black pandas`\\r\\n- [x] passes `git diff upstream/master -u -- \"*.py\" | flake8 --diff`\\r\\n- [ ] whatsnew entry\\r\\n\\r\\nI\\'m not good at English. So if there are wrong sentences or awkward sentences, please let me know.\\r\\n'}, {'url': 'https://api.github.com/repos/pandas-dev/pandas/issues/30253', 'repository_url': 'https://api.github.com/repos/pandas-dev/pandas', 'labels_url': 'https://api.github.com/repos/pandas-dev/pandas/issues/30253/labels{/name}', 'comments_url': 'https://api.github.com/repos/pandas-dev/pandas/issues/30253/comments', 'events_url': 'https://api.github.com/repos/pandas-dev/pandas/issues/30253/events', 'html_url': 'https://github.com/pandas-dev/pandas/issues/30253', 'id': 537447388, 'node_id': 'MDU6SXNzdWU1Mzc0NDczODg=', 'number': 30253, 'title': 'Groupby agg works with pd.Series.nunique, but groupby nunique fails', 'user': {'login': 'nlepleux', 'id': 22445142, 'node_id': 'MDQ6VXNlcjIyNDQ1MTQy', 'avatar_url': 'https://avatars2.githubusercontent.com/u/22445142?v=4', 'gravatar_id': '', 'url': 'https://api.github.com/users/nlepleux', 'html_url': 'https://github.com/nlepleux', 'followers_url': 'https://api.github.com/users/nlepleux/followers', 'following_url': 'https://api.github.com/users/nlepleux/following{/other_user}', 'gists_url': 'https://api.github.com/users/nlepleux/gists{/gist_id}', 'starred_url': 'https://api.github.com/users/nlepleux/starred{/owner}{/repo}', 'subscriptions_url': 'https://api.github.com/users/nlepleux/subscriptions', 'organizations_url': 'https://api.github.com/users/nlepleux/orgs', 'repos_url': 'https://api.github.com/users/nlepleux/repos', 'events_url': 'https://api.github.com/users/nlepleux/events{/privacy}', 'received_events_url': 'https://api.github.com/users/nlepleux/received_events', 'type': 'User', 'site_admin': False}, 'labels': [], 'state': 'open', 'locked': False, 'assignee': None, 'assignees': [], 'milestone': None, 'comments': 2, 'created_at': '2019-12-13T09:43:47Z', 'updated_at': '2019-12-13T10:39:43Z', 'closed_at': None, 'author_association': 'CONTRIBUTOR', 'body': '#### Code Sample, a copy-pastable example if possible\\r\\n\\r\\n```python\\r\\ndf = pd.DataFrame({\\r\\n    (\\'A\\', \\'B\\'): [1, 2],\\r\\n    (\\'A\\', \\'C\\'): [1, 3],\\r\\n    (\\'D\\', \\'B\\'): [0, 0]\\r\\n}, index=pd.bdate_range(\\'20191212\\', \\'20191213\\'))\\r\\n\\r\\n# DOESNT CRASH\\r\\ndf.groupby(axis=1, level=0).agg(pd.Series.nunique)\\r\\n\\r\\n# CRASH\\r\\ndf.groupby(axis=1, level=0).nunique()\\r\\n\\r\\n```\\r\\n#### Problem description\\r\\n\\r\\nThe groupby nunique crashes with error \"ValueError: all keys need to be the same shape\", whereas the groupby agg with pd.Series.nunique does not crash\\r\\n\\r\\n#### Expected Output\\r\\n\\r\\npd.DataFrame({\\r\\n    \\'A\\': [1, 2],\\r\\n    \\'D\\': [1, 1]\\r\\n}, index=pd.bdate_range(\\'20191212\\', \\'20191213\\'))\\r\\n\\r\\n\\r\\n#### Output of ``pd.show_versions()``\\r\\n\\r\\n<details>\\r\\n\\r\\nINSTALLED VERSIONS\\r\\n------------------\\r\\ncommit: None\\r\\npython: 3.6.8.final.0\\r\\npython-bits: 64\\r\\nOS: Linux\\r\\nOS-release: 2.6.32-642.6.2.el6.x86_64\\r\\nmachine: x86_64\\r\\nprocessor: x86_64\\r\\nbyteorder: little\\r\\nLC_ALL: None\\r\\nLANG: en_US.UTF-8\\r\\nLOCALE: en_US.UTF-8\\r\\n\\r\\npandas: 0.21.1\\r\\npytest: 4.4.1\\r\\npip: 18.1\\r\\nsetuptools: 40.8.0.post20190628\\r\\nCython: 0.27.3\\r\\nnumpy: 1.13.3\\r\\nscipy: 0.19.1\\r\\npyarrow: None\\r\\nxarray: 0.8.2\\r\\nIPython: 5.1.0\\r\\nsphinx: 1.8.5\\r\\npatsy: 0.4.1\\r\\ndateutil: 2.6.1\\r\\npytz: 2017.2\\r\\nblosc: None\\r\\nbottleneck: None\\r\\ntables: 3.4.4\\r\\nnumexpr: 2.6.5\\r\\nfeather: None\\r\\nmatplotlib: 2.1.2\\r\\nopenpyxl: None\\r\\nxlrd: None\\r\\nxlwt: None\\r\\nxlsxwriter: None\\r\\nlxml: None\\r\\nbs4: None\\r\\nhtml5lib: 0.9999999\\r\\nsqlalchemy: None\\r\\npymysql: None\\r\\npsycopg2: None\\r\\njinja2: 2.8\\r\\ns3fs: None\\r\\nfastparquet: None\\r\\npandas_gbq: None\\r\\npandas_datareader: None\\r\\n\\r\\n</details>\\r\\n'}, {'url': 'https://api.github.com/repos/pandas-dev/pandas/issues/30252', 'repository_url': 'https://api.github.com/repos/pandas-dev/pandas', 'labels_url': 'https://api.github.com/repos/pandas-dev/pandas/issues/30252/labels{/name}', 'comments_url': 'https://api.github.com/repos/pandas-dev/pandas/issues/30252/comments', 'events_url': 'https://api.github.com/repos/pandas-dev/pandas/issues/30252/events', 'html_url': 'https://github.com/pandas-dev/pandas/pull/30252', 'id': 537347593, 'node_id': 'MDExOlB1bGxSZXF1ZXN0MzUyNzIwNTM2', 'number': 30252, 'title': 'Make resample documentation better', 'user': {'login': 'anshbansal', 'id': 4127841, 'node_id': 'MDQ6VXNlcjQxMjc4NDE=', 'avatar_url': 'https://avatars1.githubusercontent.com/u/4127841?v=4', 'gravatar_id': '', 'url': 'https://api.github.com/users/anshbansal', 'html_url': 'https://github.com/anshbansal', 'followers_url': 'https://api.github.com/users/anshbansal/followers', 'following_url': 'https://api.github.com/users/anshbansal/following{/other_user}', 'gists_url': 'https://api.github.com/users/anshbansal/gists{/gist_id}', 'starred_url': 'https://api.github.com/users/anshbansal/starred{/owner}{/repo}', 'subscriptions_url': 'https://api.github.com/users/anshbansal/subscriptions', 'organizations_url': 'https://api.github.com/users/anshbansal/orgs', 'repos_url': 'https://api.github.com/users/anshbansal/repos', 'events_url': 'https://api.github.com/users/anshbansal/events{/privacy}', 'received_events_url': 'https://api.github.com/users/anshbansal/received_events', 'type': 'User', 'site_admin': False}, 'labels': [{'id': 134699, 'node_id': 'MDU6TGFiZWwxMzQ2OTk=', 'url': 'https://api.github.com/repos/pandas-dev/pandas/labels/Docs', 'name': 'Docs', 'color': '3465A4', 'default': False, 'description': None}], 'state': 'open', 'locked': False, 'assignee': None, 'assignees': [], 'milestone': None, 'comments': 1, 'created_at': '2019-12-13T04:51:57Z', 'updated_at': '2019-12-13T13:10:14Z', 'closed_at': None, 'author_association': 'NONE', 'pull_request': {'url': 'https://api.github.com/repos/pandas-dev/pandas/pulls/30252', 'html_url': 'https://github.com/pandas-dev/pandas/pull/30252', 'diff_url': 'https://github.com/pandas-dev/pandas/pull/30252.diff', 'patch_url': 'https://github.com/pandas-dev/pandas/pull/30252.patch'}, 'body': 'I removed the checkboxes because they were not relevant. This is a docstring update. I found the answer in https://stackoverflow.com/questions/17001389/pandas-resample-documentation but it should have been present in the docs'}, {'url': 'https://api.github.com/repos/pandas-dev/pandas/issues/30251', 'repository_url': 'https://api.github.com/repos/pandas-dev/pandas', 'labels_url': 'https://api.github.com/repos/pandas-dev/pandas/issues/30251/labels{/name}', 'comments_url': 'https://api.github.com/repos/pandas-dev/pandas/issues/30251/comments', 'events_url': 'https://api.github.com/repos/pandas-dev/pandas/issues/30251/events', 'html_url': 'https://github.com/pandas-dev/pandas/pull/30251', 'id': 537296786, 'node_id': 'MDExOlB1bGxSZXF1ZXN0MzUyNjgwMTcw', 'number': 30251, 'title': 'DEPR: change DataFrame.append default sort kwarg', 'user': {'login': 'jbrockmendel', 'id': 8078968, 'node_id': 'MDQ6VXNlcjgwNzg5Njg=', 'avatar_url': 'https://avatars1.githubusercontent.com/u/8078968?v=4', 'gravatar_id': '', 'url': 'https://api.github.com/users/jbrockmendel', 'html_url': 'https://github.com/jbrockmendel', 'followers_url': 'https://api.github.com/users/jbrockmendel/followers', 'following_url': 'https://api.github.com/users/jbrockmendel/following{/other_user}', 'gists_url': 'https://api.github.com/users/jbrockmendel/gists{/gist_id}', 'starred_url': 'https://api.github.com/users/jbrockmendel/starred{/owner}{/repo}', 'subscriptions_url': 'https://api.github.com/users/jbrockmendel/subscriptions', 'organizations_url': 'https://api.github.com/users/jbrockmendel/orgs', 'repos_url': 'https://api.github.com/users/jbrockmendel/repos', 'events_url': 'https://api.github.com/users/jbrockmendel/events{/privacy}', 'received_events_url': 'https://api.github.com/users/jbrockmendel/received_events', 'type': 'User', 'site_admin': False}, 'labels': [{'id': 87485152, 'node_id': 'MDU6TGFiZWw4NzQ4NTE1Mg==', 'url': 'https://api.github.com/repos/pandas-dev/pandas/labels/Deprecate', 'name': 'Deprecate', 'color': '5319e7', 'default': False, 'description': None}], 'state': 'open', 'locked': False, 'assignee': None, 'assignees': [], 'milestone': {'url': 'https://api.github.com/repos/pandas-dev/pandas/milestones/16', 'html_url': 'https://github.com/pandas-dev/pandas/milestone/16', 'labels_url': 'https://api.github.com/repos/pandas-dev/pandas/milestones/16/labels', 'id': 174211, 'node_id': 'MDk6TWlsZXN0b25lMTc0MjEx', 'number': 16, 'title': '1.0', 'description': '', 'creator': {'login': 'wesm', 'id': 329591, 'node_id': 'MDQ6VXNlcjMyOTU5MQ==', 'avatar_url': 'https://avatars2.githubusercontent.com/u/329591?v=4', 'gravatar_id': '', 'url': 'https://api.github.com/users/wesm', 'html_url': 'https://github.com/wesm', 'followers_url': 'https://api.github.com/users/wesm/followers', 'following_url': 'https://api.github.com/users/wesm/following{/other_user}', 'gists_url': 'https://api.github.com/users/wesm/gists{/gist_id}', 'starred_url': 'https://api.github.com/users/wesm/starred{/owner}{/repo}', 'subscriptions_url': 'https://api.github.com/users/wesm/subscriptions', 'organizations_url': 'https://api.github.com/users/wesm/orgs', 'repos_url': 'https://api.github.com/users/wesm/repos', 'events_url': 'https://api.github.com/users/wesm/events{/privacy}', 'received_events_url': 'https://api.github.com/users/wesm/received_events', 'type': 'User', 'site_admin': False}, 'open_issues': 130, 'closed_issues': 1516, 'state': 'open', 'created_at': '2012-09-13T02:13:00Z', 'updated_at': '2019-12-14T08:42:37Z', 'due_on': '2020-01-01T08:00:00Z', 'closed_at': None}, 'comments': 2, 'created_at': '2019-12-13T01:15:27Z', 'updated_at': '2019-12-14T02:38:05Z', 'closed_at': None, 'author_association': 'MEMBER', 'pull_request': {'url': 'https://api.github.com/repos/pandas-dev/pandas/pulls/30251', 'html_url': 'https://github.com/pandas-dev/pandas/pull/30251', 'diff_url': 'https://github.com/pandas-dev/pandas/pull/30251.diff', 'patch_url': 'https://github.com/pandas-dev/pandas/pull/30251.patch'}, 'body': \"xref #20613\\r\\n\\r\\nAFAICT this doesn't break any tests, was this supposed to have been changed along with the default in `concat` #29786 ?\"}, {'url': 'https://api.github.com/repos/pandas-dev/pandas/issues/30245', 'repository_url': 'https://api.github.com/repos/pandas-dev/pandas', 'labels_url': 'https://api.github.com/repos/pandas-dev/pandas/issues/30245/labels{/name}', 'comments_url': 'https://api.github.com/repos/pandas-dev/pandas/issues/30245/comments', 'events_url': 'https://api.github.com/repos/pandas-dev/pandas/issues/30245/events', 'html_url': 'https://github.com/pandas-dev/pandas/pull/30245', 'id': 537231558, 'node_id': 'MDExOlB1bGxSZXF1ZXN0MzUyNjI2MDE0', 'number': 30245, 'title': 'Implement NA.__array_ufunc__', 'user': {'login': 'TomAugspurger', 'id': 1312546, 'node_id': 'MDQ6VXNlcjEzMTI1NDY=', 'avatar_url': 'https://avatars3.githubusercontent.com/u/1312546?v=4', 'gravatar_id': '', 'url': 'https://api.github.com/users/TomAugspurger', 'html_url': 'https://github.com/TomAugspurger', 'followers_url': 'https://api.github.com/users/TomAugspurger/followers', 'following_url': 'https://api.github.com/users/TomAugspurger/following{/other_user}', 'gists_url': 'https://api.github.com/users/TomAugspurger/gists{/gist_id}', 'starred_url': 'https://api.github.com/users/TomAugspurger/starred{/owner}{/repo}', 'subscriptions_url': 'https://api.github.com/users/TomAugspurger/subscriptions', 'organizations_url': 'https://api.github.com/users/TomAugspurger/orgs', 'repos_url': 'https://api.github.com/users/TomAugspurger/repos', 'events_url': 'https://api.github.com/users/TomAugspurger/events{/privacy}', 'received_events_url': 'https://api.github.com/users/TomAugspurger/received_events', 'type': 'User', 'site_admin': False}, 'labels': [{'id': 849023693, 'node_id': 'MDU6TGFiZWw4NDkwMjM2OTM=', 'url': 'https://api.github.com/repos/pandas-dev/pandas/labels/ExtensionArray', 'name': 'ExtensionArray', 'color': '6138b5', 'default': False, 'description': 'Extending pandas with custom dtypes or arrays.'}, {'id': 2822342, 'node_id': 'MDU6TGFiZWwyODIyMzQy', 'url': 'https://api.github.com/repos/pandas-dev/pandas/labels/Missing-data', 'name': 'Missing-data', 'color': 'd7e102', 'default': False, 'description': None}, {'id': 47223669, 'node_id': 'MDU6TGFiZWw0NzIyMzY2OQ==', 'url': 'https://api.github.com/repos/pandas-dev/pandas/labels/Numeric', 'name': 'Numeric', 'color': '006b75', 'default': False, 'description': 'Arithmetic, Comparison, Logical, and Reduction operations'}], 'state': 'open', 'locked': False, 'assignee': None, 'assignees': [], 'milestone': None, 'comments': 1, 'created_at': '2019-12-12T21:48:00Z', 'updated_at': '2019-12-13T16:24:03Z', 'closed_at': None, 'author_association': 'CONTRIBUTOR', 'pull_request': {'url': 'https://api.github.com/repos/pandas-dev/pandas/pulls/30245', 'html_url': 'https://github.com/pandas-dev/pandas/pull/30245', 'diff_url': 'https://github.com/pandas-dev/pandas/pull/30245.diff', 'patch_url': 'https://github.com/pandas-dev/pandas/pull/30245.patch'}, 'body': \"This gives us consistent comparisons with NumPy scalars.\\r\\n\\r\\nI have a few implementation questions:\\r\\n\\r\\n1. I wanted to reuse `maybe_dispatch_ufunc_to_dunder_op`. That was in `core/ops/dispatch.py`, but NA is defend in `_libs/missing.pyx`. For now I just moved it to `_libs/missing.pyx`, is there a better home for it? I don't think `_libs/ops.pyx` is an option, as it imports missing.\\r\\n2. How should we handle comparisons with ndarrays? I see a few options:\\r\\n\\r\\n  a. Return an `ndarray[object]`, where each element is NA\\r\\n  b. Really take over and return our extension arrays. So `np.array([1, 2]) == pd.NA` would return an `IntegerArray([NA, NA])`. Boolean results would return a BooleanArray. And float results would return a ... PandasArray? (so maybe this isn't a good idea. But worth considering)\\r\\n3. What scalars should we handle (in `__array_ufunc__` and in the regular methods)? Any of date time, Timestamp, time delta, Period, Interval? \\r\\n\\r\\n\\r\\nOne item 2, I seem to have messed something up, as we return just a scalar `NA` right now. Will want to sort that out.\"}, {'url': 'https://api.github.com/repos/pandas-dev/pandas/issues/30242', 'repository_url': 'https://api.github.com/repos/pandas-dev/pandas', 'labels_url': 'https://api.github.com/repos/pandas-dev/pandas/issues/30242/labels{/name}', 'comments_url': 'https://api.github.com/repos/pandas-dev/pandas/issues/30242/comments', 'events_url': 'https://api.github.com/repos/pandas-dev/pandas/issues/30242/events', 'html_url': 'https://github.com/pandas-dev/pandas/pull/30242', 'id': 537210539, 'node_id': 'MDExOlB1bGxSZXF1ZXN0MzUyNjA4Mzk2', 'number': 30242, 'title': 'TST: Add message checks to tests/arrays/categorical/', 'user': {'login': 'simonjayhawkins', 'id': 13159005, 'node_id': 'MDQ6VXNlcjEzMTU5MDA1', 'avatar_url': 'https://avatars0.githubusercontent.com/u/13159005?v=4', 'gravatar_id': '', 'url': 'https://api.github.com/users/simonjayhawkins', 'html_url': 'https://github.com/simonjayhawkins', 'followers_url': 'https://api.github.com/users/simonjayhawkins/followers', 'following_url': 'https://api.github.com/users/simonjayhawkins/following{/other_user}', 'gists_url': 'https://api.github.com/users/simonjayhawkins/gists{/gist_id}', 'starred_url': 'https://api.github.com/users/simonjayhawkins/starred{/owner}{/repo}', 'subscriptions_url': 'https://api.github.com/users/simonjayhawkins/subscriptions', 'organizations_url': 'https://api.github.com/users/simonjayhawkins/orgs', 'repos_url': 'https://api.github.com/users/simonjayhawkins/repos', 'events_url': 'https://api.github.com/users/simonjayhawkins/events{/privacy}', 'received_events_url': 'https://api.github.com/users/simonjayhawkins/received_events', 'type': 'User', 'site_admin': False}, 'labels': [{'id': 127685, 'node_id': 'MDU6TGFiZWwxMjc2ODU=', 'url': 'https://api.github.com/repos/pandas-dev/pandas/labels/Testing', 'name': 'Testing', 'color': 'C4A000', 'default': False, 'description': None}], 'state': 'open', 'locked': False, 'assignee': None, 'assignees': [], 'milestone': {'url': 'https://api.github.com/repos/pandas-dev/pandas/milestones/16', 'html_url': 'https://github.com/pandas-dev/pandas/milestone/16', 'labels_url': 'https://api.github.com/repos/pandas-dev/pandas/milestones/16/labels', 'id': 174211, 'node_id': 'MDk6TWlsZXN0b25lMTc0MjEx', 'number': 16, 'title': '1.0', 'description': '', 'creator': {'login': 'wesm', 'id': 329591, 'node_id': 'MDQ6VXNlcjMyOTU5MQ==', 'avatar_url': 'https://avatars2.githubusercontent.com/u/329591?v=4', 'gravatar_id': '', 'url': 'https://api.github.com/users/wesm', 'html_url': 'https://github.com/wesm', 'followers_url': 'https://api.github.com/users/wesm/followers', 'following_url': 'https://api.github.com/users/wesm/following{/other_user}', 'gists_url': 'https://api.github.com/users/wesm/gists{/gist_id}', 'starred_url': 'https://api.github.com/users/wesm/starred{/owner}{/repo}', 'subscriptions_url': 'https://api.github.com/users/wesm/subscriptions', 'organizations_url': 'https://api.github.com/users/wesm/orgs', 'repos_url': 'https://api.github.com/users/wesm/repos', 'events_url': 'https://api.github.com/users/wesm/events{/privacy}', 'received_events_url': 'https://api.github.com/users/wesm/received_events', 'type': 'User', 'site_admin': False}, 'open_issues': 130, 'closed_issues': 1516, 'state': 'open', 'created_at': '2012-09-13T02:13:00Z', 'updated_at': '2019-12-14T08:42:37Z', 'due_on': '2020-01-01T08:00:00Z', 'closed_at': None}, 'comments': 0, 'created_at': '2019-12-12T21:00:04Z', 'updated_at': '2019-12-13T15:05:40Z', 'closed_at': None, 'author_association': 'MEMBER', 'pull_request': {'url': 'https://api.github.com/repos/pandas-dev/pandas/pulls/30242', 'html_url': 'https://github.com/pandas-dev/pandas/pull/30242', 'diff_url': 'https://github.com/pandas-dev/pandas/pull/30242.diff', 'patch_url': 'https://github.com/pandas-dev/pandas/pull/30242.patch'}, 'body': '- [ ] xref #23922\\r\\n- [ ] tests added / passed\\r\\n- [ ] passes `black pandas`\\r\\n- [ ] passes `git diff upstream/master -u -- \"*.py\" | flake8 --diff`\\r\\n- [ ] whatsnew entry\\r\\n'}, {'url': 'https://api.github.com/repos/pandas-dev/pandas/issues/30241', 'repository_url': 'https://api.github.com/repos/pandas-dev/pandas', 'labels_url': 'https://api.github.com/repos/pandas-dev/pandas/issues/30241/labels{/name}', 'comments_url': 'https://api.github.com/repos/pandas-dev/pandas/issues/30241/comments', 'events_url': 'https://api.github.com/repos/pandas-dev/pandas/issues/30241/events', 'html_url': 'https://github.com/pandas-dev/pandas/pull/30241', 'id': 537184670, 'node_id': 'MDExOlB1bGxSZXF1ZXN0MzUyNTg2NzUw', 'number': 30241, 'title': 'Fix to datetime', 'user': {'login': 'AlexKirko', 'id': 23253999, 'node_id': 'MDQ6VXNlcjIzMjUzOTk5', 'avatar_url': 'https://avatars1.githubusercontent.com/u/23253999?v=4', 'gravatar_id': '', 'url': 'https://api.github.com/users/AlexKirko', 'html_url': 'https://github.com/AlexKirko', 'followers_url': 'https://api.github.com/users/AlexKirko/followers', 'following_url': 'https://api.github.com/users/AlexKirko/following{/other_user}', 'gists_url': 'https://api.github.com/users/AlexKirko/gists{/gist_id}', 'starred_url': 'https://api.github.com/users/AlexKirko/starred{/owner}{/repo}', 'subscriptions_url': 'https://api.github.com/users/AlexKirko/subscriptions', 'organizations_url': 'https://api.github.com/users/AlexKirko/orgs', 'repos_url': 'https://api.github.com/users/AlexKirko/repos', 'events_url': 'https://api.github.com/users/AlexKirko/events{/privacy}', 'received_events_url': 'https://api.github.com/users/AlexKirko/received_events', 'type': 'User', 'site_admin': False}, 'labels': [{'id': 849023693, 'node_id': 'MDU6TGFiZWw4NDkwMjM2OTM=', 'url': 'https://api.github.com/repos/pandas-dev/pandas/labels/ExtensionArray', 'name': 'ExtensionArray', 'color': '6138b5', 'default': False, 'description': 'Extending pandas with custom dtypes or arrays.'}, {'id': 211840, 'node_id': 'MDU6TGFiZWwyMTE4NDA=', 'url': 'https://api.github.com/repos/pandas-dev/pandas/labels/Timeseries', 'name': 'Timeseries', 'color': 'AFEEEE', 'default': False, 'description': None}], 'state': 'open', 'locked': False, 'assignee': None, 'assignees': [], 'milestone': None, 'comments': 0, 'created_at': '2019-12-12T20:01:05Z', 'updated_at': '2019-12-13T19:25:50Z', 'closed_at': None, 'author_association': 'NONE', 'pull_request': {'url': 'https://api.github.com/repos/pandas-dev/pandas/pulls/30241', 'html_url': 'https://github.com/pandas-dev/pandas/pull/30241', 'diff_url': 'https://github.com/pandas-dev/pandas/pull/30241.diff', 'patch_url': 'https://github.com/pandas-dev/pandas/pull/30241.patch'}, 'body': '- [X] closes #30050\\r\\n- [X] tests added 1 / passed 1\\r\\n- [X] passes `black pandas`\\r\\n- [X] passes `git diff upstream/master -u -- \"*.py\" | flake8 --diff`\\r\\n- [X] whatsnew entry\\r\\n\\r\\nTest output:\\r\\n```\\r\\n$ py.test pandas/tests/tools/test_datetime.py\\r\\n============================= test session starts =============================\\r\\nplatform win32 -- Python 3.7.3, pytest-5.3.1, py-1.8.0, pluggy-0.13.0\\r\\nrootdir: C:\\\\git_contrib\\\\pandas\\\\pandas, inifile: setup.cfg\\r\\nplugins: hypothesis-4.50.6, cov-2.8.1, forked-1.1.2, xdist-1.30.0\\r\\ncollected 1 item\\r\\n\\r\\npandas\\\\tests\\\\tools\\\\test_datetime.py .                                    [100%]\\r\\n\\r\\n============================== 1 passed in 0.03s ==============================\\r\\n\\r\\n```\\r\\n\\r\\nNotes: Hello. The fix introduces one additional type check if the Series passed to `to_datetime` stores anything except and IntegerArray. It does nothing else in this case. If we try to pass an IntegerArray, it pulls all the values that aren\\'t NaN into an ndarray, converts that into datetime and adds NaT in the places where NaNs were. No precision is lost.'}, {'url': 'https://api.github.com/repos/pandas-dev/pandas/issues/30239', 'repository_url': 'https://api.github.com/repos/pandas-dev/pandas', 'labels_url': 'https://api.github.com/repos/pandas-dev/pandas/issues/30239/labels{/name}', 'comments_url': 'https://api.github.com/repos/pandas-dev/pandas/issues/30239/comments', 'events_url': 'https://api.github.com/repos/pandas-dev/pandas/issues/30239/events', 'html_url': 'https://github.com/pandas-dev/pandas/pull/30239', 'id': 537104256, 'node_id': 'MDExOlB1bGxSZXF1ZXN0MzUyNTE5NjUx', 'number': 30239, 'title': 'API: Return BoolArray for string ops when backed by StringArray', 'user': {'login': 'TomAugspurger', 'id': 1312546, 'node_id': 'MDQ6VXNlcjEzMTI1NDY=', 'avatar_url': 'https://avatars3.githubusercontent.com/u/1312546?v=4', 'gravatar_id': '', 'url': 'https://api.github.com/users/TomAugspurger', 'html_url': 'https://github.com/TomAugspurger', 'followers_url': 'https://api.github.com/users/TomAugspurger/followers', 'following_url': 'https://api.github.com/users/TomAugspurger/following{/other_user}', 'gists_url': 'https://api.github.com/users/TomAugspurger/gists{/gist_id}', 'starred_url': 'https://api.github.com/users/TomAugspurger/starred{/owner}{/repo}', 'subscriptions_url': 'https://api.github.com/users/TomAugspurger/subscriptions', 'organizations_url': 'https://api.github.com/users/TomAugspurger/orgs', 'repos_url': 'https://api.github.com/users/TomAugspurger/repos', 'events_url': 'https://api.github.com/users/TomAugspurger/events{/privacy}', 'received_events_url': 'https://api.github.com/users/TomAugspurger/received_events', 'type': 'User', 'site_admin': False}, 'labels': [{'id': 35818298, 'node_id': 'MDU6TGFiZWwzNTgxODI5OA==', 'url': 'https://api.github.com/repos/pandas-dev/pandas/labels/API%20Design', 'name': 'API Design', 'color': 'AD7FA8', 'default': False, 'description': None}, {'id': 31404521, 'node_id': 'MDU6TGFiZWwzMTQwNDUyMQ==', 'url': 'https://api.github.com/repos/pandas-dev/pandas/labels/Dtypes', 'name': 'Dtypes', 'color': 'e102d8', 'default': False, 'description': None}, {'id': 849023693, 'node_id': 'MDU6TGFiZWw4NDkwMjM2OTM=', 'url': 'https://api.github.com/repos/pandas-dev/pandas/labels/ExtensionArray', 'name': 'ExtensionArray', 'color': '6138b5', 'default': False, 'description': 'Extending pandas with custom dtypes or arrays.'}, {'id': 13098779, 'node_id': 'MDU6TGFiZWwxMzA5ODc3OQ==', 'url': 'https://api.github.com/repos/pandas-dev/pandas/labels/Reshaping', 'name': 'Reshaping', 'color': '02d7e1', 'default': False, 'description': None}], 'state': 'open', 'locked': False, 'assignee': None, 'assignees': [], 'milestone': {'url': 'https://api.github.com/repos/pandas-dev/pandas/milestones/16', 'html_url': 'https://github.com/pandas-dev/pandas/milestone/16', 'labels_url': 'https://api.github.com/repos/pandas-dev/pandas/milestones/16/labels', 'id': 174211, 'node_id': 'MDk6TWlsZXN0b25lMTc0MjEx', 'number': 16, 'title': '1.0', 'description': '', 'creator': {'login': 'wesm', 'id': 329591, 'node_id': 'MDQ6VXNlcjMyOTU5MQ==', 'avatar_url': 'https://avatars2.githubusercontent.com/u/329591?v=4', 'gravatar_id': '', 'url': 'https://api.github.com/users/wesm', 'html_url': 'https://github.com/wesm', 'followers_url': 'https://api.github.com/users/wesm/followers', 'following_url': 'https://api.github.com/users/wesm/following{/other_user}', 'gists_url': 'https://api.github.com/users/wesm/gists{/gist_id}', 'starred_url': 'https://api.github.com/users/wesm/starred{/owner}{/repo}', 'subscriptions_url': 'https://api.github.com/users/wesm/subscriptions', 'organizations_url': 'https://api.github.com/users/wesm/orgs', 'repos_url': 'https://api.github.com/users/wesm/repos', 'events_url': 'https://api.github.com/users/wesm/events{/privacy}', 'received_events_url': 'https://api.github.com/users/wesm/received_events', 'type': 'User', 'site_admin': False}, 'open_issues': 130, 'closed_issues': 1516, 'state': 'open', 'created_at': '2012-09-13T02:13:00Z', 'updated_at': '2019-12-14T08:42:37Z', 'due_on': '2020-01-01T08:00:00Z', 'closed_at': None}, 'comments': 2, 'created_at': '2019-12-12T17:04:50Z', 'updated_at': '2019-12-13T17:08:27Z', 'closed_at': None, 'author_association': 'CONTRIBUTOR', 'pull_request': {'url': 'https://api.github.com/repos/pandas-dev/pandas/pulls/30239', 'html_url': 'https://github.com/pandas-dev/pandas/pull/30239', 'diff_url': 'https://github.com/pandas-dev/pandas/pull/30239.diff', 'patch_url': 'https://github.com/pandas-dev/pandas/pull/30239.patch'}, 'body': 'ref https://github.com/pandas-dev/pandas/issues/29556'}, {'url': 'https://api.github.com/repos/pandas-dev/pandas/issues/30238', 'repository_url': 'https://api.github.com/repos/pandas-dev/pandas', 'labels_url': 'https://api.github.com/repos/pandas-dev/pandas/issues/30238/labels{/name}', 'comments_url': 'https://api.github.com/repos/pandas-dev/pandas/issues/30238/comments', 'events_url': 'https://api.github.com/repos/pandas-dev/pandas/issues/30238/events', 'html_url': 'https://github.com/pandas-dev/pandas/issues/30238', 'id': 537084515, 'node_id': 'MDU6SXNzdWU1MzcwODQ1MTU=', 'number': 30238, 'title': 'Appending to DataFrame removes the timezone-awareness', 'user': {'login': 'MarcoGorelli', 'id': 33491632, 'node_id': 'MDQ6VXNlcjMzNDkxNjMy', 'avatar_url': 'https://avatars2.githubusercontent.com/u/33491632?v=4', 'gravatar_id': '', 'url': 'https://api.github.com/users/MarcoGorelli', 'html_url': 'https://github.com/MarcoGorelli', 'followers_url': 'https://api.github.com/users/MarcoGorelli/followers', 'following_url': 'https://api.github.com/users/MarcoGorelli/following{/other_user}', 'gists_url': 'https://api.github.com/users/MarcoGorelli/gists{/gist_id}', 'starred_url': 'https://api.github.com/users/MarcoGorelli/starred{/owner}{/repo}', 'subscriptions_url': 'https://api.github.com/users/MarcoGorelli/subscriptions', 'organizations_url': 'https://api.github.com/users/MarcoGorelli/orgs', 'repos_url': 'https://api.github.com/users/MarcoGorelli/repos', 'events_url': 'https://api.github.com/users/MarcoGorelli/events{/privacy}', 'received_events_url': 'https://api.github.com/users/MarcoGorelli/received_events', 'type': 'User', 'site_admin': False}, 'labels': [{'id': 13098779, 'node_id': 'MDU6TGFiZWwxMzA5ODc3OQ==', 'url': 'https://api.github.com/repos/pandas-dev/pandas/labels/Reshaping', 'name': 'Reshaping', 'color': '02d7e1', 'default': False, 'description': None}, {'id': 60458168, 'node_id': 'MDU6TGFiZWw2MDQ1ODE2OA==', 'url': 'https://api.github.com/repos/pandas-dev/pandas/labels/Timezones', 'name': 'Timezones', 'color': '5319e7', 'default': False, 'description': None}], 'state': 'open', 'locked': False, 'assignee': None, 'assignees': [], 'milestone': None, 'comments': 2, 'created_at': '2019-12-12T16:30:04Z', 'updated_at': '2019-12-12T18:56:22Z', 'closed_at': None, 'author_association': 'CONTRIBUTOR', 'body': '#### Code Sample, a copy-pastable example if possible\\r\\n\\r\\n```python\\r\\nimport pytz\\r\\n\\r\\nimport pandas as pd\\r\\n\\r\\ndf = pd.DataFrame(\\r\\n    {\"a\": [pd.Timestamp(\"2019-07-19 07:04:57+0100\", tz=pytz.FixedOffset(60))]}\\r\\n)\\r\\ndf.append(df.iloc[0])\\r\\n```\\r\\n#### Problem description\\r\\n\\r\\nThis returns:\\r\\n```\\r\\n|    | a                         |\\r\\n|---:|:--------------------------|\\r\\n|  0 | 2019-07-19 07:04:57+01:00 |\\r\\n|  0 | 2019-07-19 06:04:57       |\\r\\n```\\r\\nHowever, I was expecting\\r\\n```\\r\\n|    | a                         |\\r\\n|---:|:--------------------------|\\r\\n|  0 | 2019-07-19 07:04:57+01:00 |\\r\\n|  0 | 2019-07-19 07:04:57+01:00 |\\r\\n```\\r\\nwhich indeed is what happens if I instead write\\r\\n```\\r\\ndf.append(df)\\r\\n```\\r\\n\\r\\n#### Output of ``pd.show_versions()``\\r\\n\\r\\n<details>\\r\\n\\r\\nINSTALLED VERSIONS\\r\\n------------------\\r\\ncommit           : None\\r\\npython           : 3.7.5.final.0\\r\\npython-bits      : 64\\r\\nOS               : Linux\\r\\nOS-release       : 4.15.0-72-generic\\r\\nmachine          : x86_64\\r\\nprocessor        : x86_64\\r\\nbyteorder        : little\\r\\nLC_ALL           : None\\r\\nLANG             : en_GB.UTF-8\\r\\nLOCALE           : en_GB.UTF-8\\r\\n\\r\\npandas           : 0.25.3\\r\\nnumpy            : 1.17.4\\r\\npytz             : 2019.3\\r\\ndateutil         : 2.8.0\\r\\npip              : 19.3.1\\r\\nsetuptools       : 41.6.0.post20191030\\r\\nCython           : 0.29.14\\r\\npytest           : 5.3.1\\r\\nhypothesis       : None\\r\\nsphinx           : 2.2.1\\r\\nblosc            : None\\r\\nfeather          : None\\r\\nxlsxwriter       : None\\r\\nlxml.etree       : None\\r\\nhtml5lib         : None\\r\\npymysql          : None\\r\\npsycopg2         : None\\r\\njinja2           : 2.10.3\\r\\nIPython          : 7.9.0\\r\\npandas_datareader: None\\r\\nbs4              : None\\r\\nbottleneck       : None\\r\\nfastparquet      : None\\r\\ngcsfs            : None\\r\\nlxml.etree       : None\\r\\nmatplotlib       : 3.1.1\\r\\nnumexpr          : None\\r\\nodfpy            : None\\r\\nopenpyxl         : None\\r\\npandas_gbq       : None\\r\\npyarrow          : 0.15.1\\r\\npytables         : None\\r\\ns3fs             : 0.4.0\\r\\nscipy            : 1.3.3\\r\\nsqlalchemy       : None\\r\\ntables           : None\\r\\nxarray           : None\\r\\nxlrd             : None\\r\\nxlwt             : None\\r\\nxlsxwriter       : None\\r\\n\\r\\n</details>\\r\\n'}, {'url': 'https://api.github.com/repos/pandas-dev/pandas/issues/30236', 'repository_url': 'https://api.github.com/repos/pandas-dev/pandas', 'labels_url': 'https://api.github.com/repos/pandas-dev/pandas/issues/30236/labels{/name}', 'comments_url': 'https://api.github.com/repos/pandas-dev/pandas/issues/30236/comments', 'events_url': 'https://api.github.com/repos/pandas-dev/pandas/issues/30236/events', 'html_url': 'https://github.com/pandas-dev/pandas/issues/30236', 'id': 537080830, 'node_id': 'MDU6SXNzdWU1MzcwODA4MzA=', 'number': 30236, 'title': 'CI: 32-bit build failing.', 'user': {'login': 'TomAugspurger', 'id': 1312546, 'node_id': 'MDQ6VXNlcjEzMTI1NDY=', 'avatar_url': 'https://avatars3.githubusercontent.com/u/1312546?v=4', 'gravatar_id': '', 'url': 'https://api.github.com/users/TomAugspurger', 'html_url': 'https://github.com/TomAugspurger', 'followers_url': 'https://api.github.com/users/TomAugspurger/followers', 'following_url': 'https://api.github.com/users/TomAugspurger/following{/other_user}', 'gists_url': 'https://api.github.com/users/TomAugspurger/gists{/gist_id}', 'starred_url': 'https://api.github.com/users/TomAugspurger/starred{/owner}{/repo}', 'subscriptions_url': 'https://api.github.com/users/TomAugspurger/subscriptions', 'organizations_url': 'https://api.github.com/users/TomAugspurger/orgs', 'repos_url': 'https://api.github.com/users/TomAugspurger/repos', 'events_url': 'https://api.github.com/users/TomAugspurger/events{/privacy}', 'received_events_url': 'https://api.github.com/users/TomAugspurger/received_events', 'type': 'User', 'site_admin': False}, 'labels': [{'id': 563047854, 'node_id': 'MDU6TGFiZWw1NjMwNDc4NTQ=', 'url': 'https://api.github.com/repos/pandas-dev/pandas/labels/32bit', 'name': '32bit', 'color': '0e8a16', 'default': False, 'description': 'Issues specific to 32-bit systems.'}, {'id': 48070600, 'node_id': 'MDU6TGFiZWw0ODA3MDYwMA==', 'url': 'https://api.github.com/repos/pandas-dev/pandas/labels/CI', 'name': 'CI', 'color': 'a2bca7', 'default': False, 'description': None}], 'state': 'open', 'locked': False, 'assignee': None, 'assignees': [], 'milestone': None, 'comments': 5, 'created_at': '2019-12-12T16:23:36Z', 'updated_at': '2019-12-13T05:14:32Z', 'closed_at': None, 'author_association': 'CONTRIBUTOR', 'body': \"We're failing to compile the C extension on linux 32. See e.g. https://dev.azure.com/pandas-dev/pandas/_build/results?buildId=23011\"}, {'url': 'https://api.github.com/repos/pandas-dev/pandas/issues/30232', 'repository_url': 'https://api.github.com/repos/pandas-dev/pandas', 'labels_url': 'https://api.github.com/repos/pandas-dev/pandas/issues/30232/labels{/name}', 'comments_url': 'https://api.github.com/repos/pandas-dev/pandas/issues/30232/comments', 'events_url': 'https://api.github.com/repos/pandas-dev/pandas/issues/30232/events', 'html_url': 'https://github.com/pandas-dev/pandas/issues/30232', 'id': 537049243, 'node_id': 'MDU6SXNzdWU1MzcwNDkyNDM=', 'number': 30232, 'title': \"Move 'For Developers' content from wiki to contributing docs.\", 'user': {'login': 'simonjayhawkins', 'id': 13159005, 'node_id': 'MDQ6VXNlcjEzMTU5MDA1', 'avatar_url': 'https://avatars0.githubusercontent.com/u/13159005?v=4', 'gravatar_id': '', 'url': 'https://api.github.com/users/simonjayhawkins', 'html_url': 'https://github.com/simonjayhawkins', 'followers_url': 'https://api.github.com/users/simonjayhawkins/followers', 'following_url': 'https://api.github.com/users/simonjayhawkins/following{/other_user}', 'gists_url': 'https://api.github.com/users/simonjayhawkins/gists{/gist_id}', 'starred_url': 'https://api.github.com/users/simonjayhawkins/starred{/owner}{/repo}', 'subscriptions_url': 'https://api.github.com/users/simonjayhawkins/subscriptions', 'organizations_url': 'https://api.github.com/users/simonjayhawkins/orgs', 'repos_url': 'https://api.github.com/users/simonjayhawkins/repos', 'events_url': 'https://api.github.com/users/simonjayhawkins/events{/privacy}', 'received_events_url': 'https://api.github.com/users/simonjayhawkins/received_events', 'type': 'User', 'site_admin': False}, 'labels': [{'id': 134699, 'node_id': 'MDU6TGFiZWwxMzQ2OTk=', 'url': 'https://api.github.com/repos/pandas-dev/pandas/labels/Docs', 'name': 'Docs', 'color': '3465A4', 'default': False, 'description': None}, {'id': 717120670, 'node_id': 'MDU6TGFiZWw3MTcxMjA2NzA=', 'url': 'https://api.github.com/repos/pandas-dev/pandas/labels/good%20first%20issue', 'name': 'good first issue', 'color': '0e8a16', 'default': True, 'description': None}], 'state': 'open', 'locked': False, 'assignee': None, 'assignees': [], 'milestone': {'url': 'https://api.github.com/repos/pandas-dev/pandas/milestones/32', 'html_url': 'https://github.com/pandas-dev/pandas/milestone/32', 'labels_url': 'https://api.github.com/repos/pandas-dev/pandas/milestones/32/labels', 'id': 933188, 'node_id': 'MDk6TWlsZXN0b25lOTMzMTg4', 'number': 32, 'title': 'Contributions Welcome', 'description': 'Changes that would be nice to have in the next release. These issues are not blocking. They will be pushed to the next release if no one has time to fix them.', 'creator': {'login': 'jreback', 'id': 953992, 'node_id': 'MDQ6VXNlcjk1Mzk5Mg==', 'avatar_url': 'https://avatars2.githubusercontent.com/u/953992?v=4', 'gravatar_id': '', 'url': 'https://api.github.com/users/jreback', 'html_url': 'https://github.com/jreback', 'followers_url': 'https://api.github.com/users/jreback/followers', 'following_url': 'https://api.github.com/users/jreback/following{/other_user}', 'gists_url': 'https://api.github.com/users/jreback/gists{/gist_id}', 'starred_url': 'https://api.github.com/users/jreback/starred{/owner}{/repo}', 'subscriptions_url': 'https://api.github.com/users/jreback/subscriptions', 'organizations_url': 'https://api.github.com/users/jreback/orgs', 'repos_url': 'https://api.github.com/users/jreback/repos', 'events_url': 'https://api.github.com/users/jreback/events{/privacy}', 'received_events_url': 'https://api.github.com/users/jreback/received_events', 'type': 'User', 'site_admin': False}, 'open_issues': 1228, 'closed_issues': 501, 'state': 'open', 'created_at': '2015-01-13T10:53:19Z', 'updated_at': '2019-12-14T03:43:16Z', 'due_on': None, 'closed_at': None}, 'comments': 1, 'created_at': '2019-12-12T15:30:16Z', 'updated_at': '2019-12-14T06:22:04Z', 'closed_at': None, 'author_association': 'MEMBER', 'body': \"Content from the 'For Developers' content section of the wiki should be included in the pandas documentation where relevant. \\r\\n\\r\\n- [ ] Code Style and Conventions\\r\\n- [ ] Testing #20501\\r\\n- [ ] Documenting new features and bug fixes\\r\\n- [ ] Using Git\\r\\n- [ ] Choosing Exceptions to Raise\\r\\n- [ ] Tips & Tricks for pandas dev\\r\\n- [ ] A quick overview of pandas.util\\r\\n- [ ] Git Workflows\\r\\n- [ ] Pandas Development FAQ\\r\\n- [ ] Building On Windows\\r\\n\\r\\nPRs welcome for any of the above sections.\"}, {'url': 'https://api.github.com/repos/pandas-dev/pandas/issues/30231', 'repository_url': 'https://api.github.com/repos/pandas-dev/pandas', 'labels_url': 'https://api.github.com/repos/pandas-dev/pandas/issues/30231/labels{/name}', 'comments_url': 'https://api.github.com/repos/pandas-dev/pandas/issues/30231/comments', 'events_url': 'https://api.github.com/repos/pandas-dev/pandas/issues/30231/events', 'html_url': 'https://github.com/pandas-dev/pandas/pull/30231', 'id': 537039679, 'node_id': 'MDExOlB1bGxSZXF1ZXN0MzUyNDY1ODE0', 'number': 30231, 'title': 'StringArray comparisions return BooleanArray', 'user': {'login': 'TomAugspurger', 'id': 1312546, 'node_id': 'MDQ6VXNlcjEzMTI1NDY=', 'avatar_url': 'https://avatars3.githubusercontent.com/u/1312546?v=4', 'gravatar_id': '', 'url': 'https://api.github.com/users/TomAugspurger', 'html_url': 'https://github.com/TomAugspurger', 'followers_url': 'https://api.github.com/users/TomAugspurger/followers', 'following_url': 'https://api.github.com/users/TomAugspurger/following{/other_user}', 'gists_url': 'https://api.github.com/users/TomAugspurger/gists{/gist_id}', 'starred_url': 'https://api.github.com/users/TomAugspurger/starred{/owner}{/repo}', 'subscriptions_url': 'https://api.github.com/users/TomAugspurger/subscriptions', 'organizations_url': 'https://api.github.com/users/TomAugspurger/orgs', 'repos_url': 'https://api.github.com/users/TomAugspurger/repos', 'events_url': 'https://api.github.com/users/TomAugspurger/events{/privacy}', 'received_events_url': 'https://api.github.com/users/TomAugspurger/received_events', 'type': 'User', 'site_admin': False}, 'labels': [{'id': 35818298, 'node_id': 'MDU6TGFiZWwzNTgxODI5OA==', 'url': 'https://api.github.com/repos/pandas-dev/pandas/labels/API%20Design', 'name': 'API Design', 'color': 'AD7FA8', 'default': False, 'description': None}, {'id': 13098779, 'node_id': 'MDU6TGFiZWwxMzA5ODc3OQ==', 'url': 'https://api.github.com/repos/pandas-dev/pandas/labels/Reshaping', 'name': 'Reshaping', 'color': '02d7e1', 'default': False, 'description': None}], 'state': 'open', 'locked': False, 'assignee': None, 'assignees': [], 'milestone': None, 'comments': 8, 'created_at': '2019-12-12T15:14:37Z', 'updated_at': '2019-12-14T07:57:11Z', 'closed_at': None, 'author_association': 'CONTRIBUTOR', 'pull_request': {'url': 'https://api.github.com/repos/pandas-dev/pandas/pulls/30231', 'html_url': 'https://github.com/pandas-dev/pandas/pull/30231', 'diff_url': 'https://github.com/pandas-dev/pandas/pull/30231.diff', 'patch_url': 'https://github.com/pandas-dev/pandas/pull/30231.patch'}, 'body': 'xref https://github.com/pandas-dev/pandas/issues/29556\\r\\n\\r\\ncc @jorisvandenbossche '}, {'url': 'https://api.github.com/repos/pandas-dev/pandas/issues/30228', 'repository_url': 'https://api.github.com/repos/pandas-dev/pandas', 'labels_url': 'https://api.github.com/repos/pandas-dev/pandas/issues/30228/labels{/name}', 'comments_url': 'https://api.github.com/repos/pandas-dev/pandas/issues/30228/comments', 'events_url': 'https://api.github.com/repos/pandas-dev/pandas/issues/30228/events', 'html_url': 'https://github.com/pandas-dev/pandas/issues/30228', 'id': 536947426, 'node_id': 'MDU6SXNzdWU1MzY5NDc0MjY=', 'number': 30228, 'title': 'DEPR: log of deprecations in 1.x (to be removed in 2.0)', 'user': {'login': 'jorisvandenbossche', 'id': 1020496, 'node_id': 'MDQ6VXNlcjEwMjA0OTY=', 'avatar_url': 'https://avatars2.githubusercontent.com/u/1020496?v=4', 'gravatar_id': '', 'url': 'https://api.github.com/users/jorisvandenbossche', 'html_url': 'https://github.com/jorisvandenbossche', 'followers_url': 'https://api.github.com/users/jorisvandenbossche/followers', 'following_url': 'https://api.github.com/users/jorisvandenbossche/following{/other_user}', 'gists_url': 'https://api.github.com/users/jorisvandenbossche/gists{/gist_id}', 'starred_url': 'https://api.github.com/users/jorisvandenbossche/starred{/owner}{/repo}', 'subscriptions_url': 'https://api.github.com/users/jorisvandenbossche/subscriptions', 'organizations_url': 'https://api.github.com/users/jorisvandenbossche/orgs', 'repos_url': 'https://api.github.com/users/jorisvandenbossche/repos', 'events_url': 'https://api.github.com/users/jorisvandenbossche/events{/privacy}', 'received_events_url': 'https://api.github.com/users/jorisvandenbossche/received_events', 'type': 'User', 'site_admin': False}, 'labels': [{'id': 32933285, 'node_id': 'MDU6TGFiZWwzMjkzMzI4NQ==', 'url': 'https://api.github.com/repos/pandas-dev/pandas/labels/Admin', 'name': 'Admin', 'color': 'DDDDDD', 'default': False, 'description': None}, {'id': 87485152, 'node_id': 'MDU6TGFiZWw4NzQ4NTE1Mg==', 'url': 'https://api.github.com/repos/pandas-dev/pandas/labels/Deprecate', 'name': 'Deprecate', 'color': '5319e7', 'default': False, 'description': None}], 'state': 'open', 'locked': False, 'assignee': None, 'assignees': [], 'milestone': {'url': 'https://api.github.com/repos/pandas-dev/pandas/milestones/42', 'html_url': 'https://github.com/pandas-dev/pandas/milestone/42', 'labels_url': 'https://api.github.com/repos/pandas-dev/pandas/milestones/42/labels', 'id': 1945020, 'node_id': 'MDk6TWlsZXN0b25lMTk0NTAyMA==', 'number': 42, 'title': '2.0', 'description': '', 'creator': {'login': 'jreback', 'id': 953992, 'node_id': 'MDQ6VXNlcjk1Mzk5Mg==', 'avatar_url': 'https://avatars2.githubusercontent.com/u/953992?v=4', 'gravatar_id': '', 'url': 'https://api.github.com/users/jreback', 'html_url': 'https://github.com/jreback', 'followers_url': 'https://api.github.com/users/jreback/followers', 'following_url': 'https://api.github.com/users/jreback/following{/other_user}', 'gists_url': 'https://api.github.com/users/jreback/gists{/gist_id}', 'starred_url': 'https://api.github.com/users/jreback/starred{/owner}{/repo}', 'subscriptions_url': 'https://api.github.com/users/jreback/subscriptions', 'organizations_url': 'https://api.github.com/users/jreback/orgs', 'repos_url': 'https://api.github.com/users/jreback/repos', 'events_url': 'https://api.github.com/users/jreback/events{/privacy}', 'received_events_url': 'https://api.github.com/users/jreback/received_events', 'type': 'User', 'site_admin': False}, 'open_issues': 7, 'closed_issues': 3, 'state': 'open', 'created_at': '2016-08-16T13:21:24Z', 'updated_at': '2019-12-12T12:26:34Z', 'due_on': '2021-10-01T07:00:00Z', 'closed_at': None}, 'comments': 2, 'created_at': '2019-12-12T12:25:57Z', 'updated_at': '2019-12-13T07:18:47Z', 'closed_at': None, 'author_association': 'MEMBER', 'body': 'Similar issue as https://github.com/pandas-dev/pandas/issues/6581, but starting a fresh one for keeping a log of the deprecations we do in the 1.x releases.\\r\\n\\r\\n## 1.0.0\\r\\n\\r\\n- [ ] #27929 numeric_only to Categorical.min/max\\r\\n- [ ] #29457 is_extension_type\\r\\n- [ ] #29731 remove `keep_tz` kwarg from `DatetimeIndex.to_series`\\r\\n- [ ] #28621 Index.set_value (presumably also IndexEngine.set_value)\\r\\n- [ ] #29812 Remove truediv kwarg from pd.eval\\r\\n- [ ] #27745 Categorical.take_nd\\r\\n- [ ] #29909 ``str.__iter__``\\r\\n'}, {'url': 'https://api.github.com/repos/pandas-dev/pandas/issues/30227', 'repository_url': 'https://api.github.com/repos/pandas-dev/pandas', 'labels_url': 'https://api.github.com/repos/pandas-dev/pandas/issues/30227/labels{/name}', 'comments_url': 'https://api.github.com/repos/pandas-dev/pandas/issues/30227/comments', 'events_url': 'https://api.github.com/repos/pandas-dev/pandas/issues/30227/events', 'html_url': 'https://github.com/pandas-dev/pandas/pull/30227', 'id': 536923792, 'node_id': 'MDExOlB1bGxSZXF1ZXN0MzUyMzY5MTA3', 'number': 30227, 'title': 'BUG: min/max on empty categorical fails', 'user': {'login': 'OliverHofkens', 'id': 23633993, 'node_id': 'MDQ6VXNlcjIzNjMzOTkz', 'avatar_url': 'https://avatars0.githubusercontent.com/u/23633993?v=4', 'gravatar_id': '', 'url': 'https://api.github.com/users/OliverHofkens', 'html_url': 'https://github.com/OliverHofkens', 'followers_url': 'https://api.github.com/users/OliverHofkens/followers', 'following_url': 'https://api.github.com/users/OliverHofkens/following{/other_user}', 'gists_url': 'https://api.github.com/users/OliverHofkens/gists{/gist_id}', 'starred_url': 'https://api.github.com/users/OliverHofkens/starred{/owner}{/repo}', 'subscriptions_url': 'https://api.github.com/users/OliverHofkens/subscriptions', 'organizations_url': 'https://api.github.com/users/OliverHofkens/orgs', 'repos_url': 'https://api.github.com/users/OliverHofkens/repos', 'events_url': 'https://api.github.com/users/OliverHofkens/events{/privacy}', 'received_events_url': 'https://api.github.com/users/OliverHofkens/received_events', 'type': 'User', 'site_admin': False}, 'labels': [{'id': 76811, 'node_id': 'MDU6TGFiZWw3NjgxMQ==', 'url': 'https://api.github.com/repos/pandas-dev/pandas/labels/Bug', 'name': 'Bug', 'color': 'e10c02', 'default': False, 'description': None}, {'id': 78527356, 'node_id': 'MDU6TGFiZWw3ODUyNzM1Ng==', 'url': 'https://api.github.com/repos/pandas-dev/pandas/labels/Categorical', 'name': 'Categorical', 'color': 'e11d21', 'default': False, 'description': None}], 'state': 'open', 'locked': False, 'assignee': None, 'assignees': [], 'milestone': {'url': 'https://api.github.com/repos/pandas-dev/pandas/milestones/16', 'html_url': 'https://github.com/pandas-dev/pandas/milestone/16', 'labels_url': 'https://api.github.com/repos/pandas-dev/pandas/milestones/16/labels', 'id': 174211, 'node_id': 'MDk6TWlsZXN0b25lMTc0MjEx', 'number': 16, 'title': '1.0', 'description': '', 'creator': {'login': 'wesm', 'id': 329591, 'node_id': 'MDQ6VXNlcjMyOTU5MQ==', 'avatar_url': 'https://avatars2.githubusercontent.com/u/329591?v=4', 'gravatar_id': '', 'url': 'https://api.github.com/users/wesm', 'html_url': 'https://github.com/wesm', 'followers_url': 'https://api.github.com/users/wesm/followers', 'following_url': 'https://api.github.com/users/wesm/following{/other_user}', 'gists_url': 'https://api.github.com/users/wesm/gists{/gist_id}', 'starred_url': 'https://api.github.com/users/wesm/starred{/owner}{/repo}', 'subscriptions_url': 'https://api.github.com/users/wesm/subscriptions', 'organizations_url': 'https://api.github.com/users/wesm/orgs', 'repos_url': 'https://api.github.com/users/wesm/repos', 'events_url': 'https://api.github.com/users/wesm/events{/privacy}', 'received_events_url': 'https://api.github.com/users/wesm/received_events', 'type': 'User', 'site_admin': False}, 'open_issues': 130, 'closed_issues': 1516, 'state': 'open', 'created_at': '2012-09-13T02:13:00Z', 'updated_at': '2019-12-14T08:42:37Z', 'due_on': '2020-01-01T08:00:00Z', 'closed_at': None}, 'comments': 0, 'created_at': '2019-12-12T11:35:26Z', 'updated_at': '2019-12-13T13:52:35Z', 'closed_at': None, 'author_association': 'CONTRIBUTOR', 'pull_request': {'url': 'https://api.github.com/repos/pandas-dev/pandas/pulls/30227', 'html_url': 'https://github.com/pandas-dev/pandas/pull/30227', 'diff_url': 'https://github.com/pandas-dev/pandas/pull/30227.diff', 'patch_url': 'https://github.com/pandas-dev/pandas/pull/30227.patch'}, 'body': '- [x] tests added / passed\\r\\n- [x] passes `black pandas`\\r\\n- [x] passes `git diff upstream/master -u -- \"*.py\" | flake8 --diff`\\r\\n- [x] whatsnew entry\\r\\n\\r\\nCurrently on master, the following fails:\\r\\n```python\\r\\nimport pandas as pd\\r\\n\\r\\n# Empty Dataframe\\r\\ndf = pd.DataFrame({\\r\\n    \"cat\": pd.Categorical([], categories=list(\"ABC\"), ordered=True),\\r\\n    \"val\": pd.Series([], dtype=\"int64\")\\r\\n})\\r\\n\\r\\ndf[\"cat\"].max()\\r\\n```\\r\\n`ValueError: zero-size array to reduction operation maximum which has no identity`\\r\\n\\r\\nOther dtypes return `NaN` when calling `min()` or `max()` on an empty Series. This PR changes the behavior of Categoricals to be the same. \\r\\n\\r\\nNote that current behavior causes a downstream bug in Dask here: https://github.com/dask/dask/issues/5645, so this PR could fix that bug as well.'}, {'url': 'https://api.github.com/repos/pandas-dev/pandas/issues/30224', 'repository_url': 'https://api.github.com/repos/pandas-dev/pandas', 'labels_url': 'https://api.github.com/repos/pandas-dev/pandas/issues/30224/labels{/name}', 'comments_url': 'https://api.github.com/repos/pandas-dev/pandas/issues/30224/comments', 'events_url': 'https://api.github.com/repos/pandas-dev/pandas/issues/30224/events', 'html_url': 'https://github.com/pandas-dev/pandas/issues/30224', 'id': 536846543, 'node_id': 'MDU6SXNzdWU1MzY4NDY1NDM=', 'number': 30224, 'title': 'Feature Request: Convenience method to rename a column', 'user': {'login': 'Khris777', 'id': 7723080, 'node_id': 'MDQ6VXNlcjc3MjMwODA=', 'avatar_url': 'https://avatars1.githubusercontent.com/u/7723080?v=4', 'gravatar_id': '', 'url': 'https://api.github.com/users/Khris777', 'html_url': 'https://github.com/Khris777', 'followers_url': 'https://api.github.com/users/Khris777/followers', 'following_url': 'https://api.github.com/users/Khris777/following{/other_user}', 'gists_url': 'https://api.github.com/users/Khris777/gists{/gist_id}', 'starred_url': 'https://api.github.com/users/Khris777/starred{/owner}{/repo}', 'subscriptions_url': 'https://api.github.com/users/Khris777/subscriptions', 'organizations_url': 'https://api.github.com/users/Khris777/orgs', 'repos_url': 'https://api.github.com/users/Khris777/repos', 'events_url': 'https://api.github.com/users/Khris777/events{/privacy}', 'received_events_url': 'https://api.github.com/users/Khris777/received_events', 'type': 'User', 'site_admin': False}, 'labels': [{'id': 35818298, 'node_id': 'MDU6TGFiZWwzNTgxODI5OA==', 'url': 'https://api.github.com/repos/pandas-dev/pandas/labels/API%20Design', 'name': 'API Design', 'color': 'AD7FA8', 'default': False, 'description': None}, {'id': 76812, 'node_id': 'MDU6TGFiZWw3NjgxMg==', 'url': 'https://api.github.com/repos/pandas-dev/pandas/labels/Enhancement', 'name': 'Enhancement', 'color': '4E9A06', 'default': False, 'description': None}], 'state': 'open', 'locked': False, 'assignee': None, 'assignees': [], 'milestone': None, 'comments': 1, 'created_at': '2019-12-12T09:10:51Z', 'updated_at': '2019-12-12T12:00:05Z', 'closed_at': None, 'author_association': 'NONE', 'body': 'Usually when renaming a column you have to write:\\r\\n\\r\\n```\\r\\ndf.rename(columns={\"old\": \"new\"})\\r\\n```\\r\\n\\r\\nIt would be nice to have a convenience method to rename one column like this:\\r\\n\\r\\n```\\r\\ndf.renamecol(\"old\", \"new\")\\r\\n```'}]\n"
     ]
    }
   ],
   "source": [
    "import requests\n",
    "import numpy as np\n",
    "url='https://api.github.com/repos/pandas-dev/pandas/issues'\n",
    "resp=requests.get(url)\n",
    "print(resp)\n",
    "data=resp.json()\n",
    "print(type(data))\n",
    "print(data)"
   ]
  },
  {
   "cell_type": "code",
   "execution_count": 15,
   "metadata": {},
   "outputs": [
    {
     "name": "stdout",
     "output_type": "stream",
     "text": [
      "   numbers                                              title  label state\n",
      "0      NaN  Very frustrating not to be able to apply per-c...    NaN  open\n",
      "1      NaN                              plt is missing import    NaN  open\n",
      "2      NaN  CLN: changed .format to f-string in pandas/cor...    NaN  open\n",
      "3      NaN  Unable to read number_format with pandas / ope...    NaN  open\n",
      "4      NaN                    Simplified objToJSON signatures    NaN  open\n"
     ]
    }
   ],
   "source": [
    "data_dict=data[0]\n",
    "issues=pd.DataFrame(data,columns=['numbers','title','label','state'])\n",
    "print(issues.head())\n",
    "#print(issues[['number','title']].head())"
   ]
  },
  {
   "cell_type": "markdown",
   "metadata": {},
   "source": [
    "# Handling Missing Values"
   ]
  },
  {
   "cell_type": "code",
   "execution_count": 27,
   "metadata": {},
   "outputs": [
    {
     "name": "stdout",
     "output_type": "stream",
     "text": [
      "     a    b   c\n",
      "0  1.0  6.5 NaN\n",
      "1  1.0  NaN NaN\n",
      "2  NaN  NaN NaN\n",
      "3  NaN  6.5 NaN\n",
      "\n"
     ]
    },
    {
     "data": {
      "text/html": [
       "<div>\n",
       "<style scoped>\n",
       "    .dataframe tbody tr th:only-of-type {\n",
       "        vertical-align: middle;\n",
       "    }\n",
       "\n",
       "    .dataframe tbody tr th {\n",
       "        vertical-align: top;\n",
       "    }\n",
       "\n",
       "    .dataframe thead th {\n",
       "        text-align: right;\n",
       "    }\n",
       "</style>\n",
       "<table border=\"1\" class=\"dataframe\">\n",
       "  <thead>\n",
       "    <tr style=\"text-align: right;\">\n",
       "      <th></th>\n",
       "      <th>a</th>\n",
       "      <th>b</th>\n",
       "      <th>c</th>\n",
       "    </tr>\n",
       "  </thead>\n",
       "  <tbody>\n",
       "  </tbody>\n",
       "</table>\n",
       "</div>"
      ],
      "text/plain": [
       "Empty DataFrame\n",
       "Columns: [a, b, c]\n",
       "Index: []"
      ]
     },
     "metadata": {},
     "output_type": "display_data"
    },
    {
     "data": {
      "text/html": [
       "<div>\n",
       "<style scoped>\n",
       "    .dataframe tbody tr th:only-of-type {\n",
       "        vertical-align: middle;\n",
       "    }\n",
       "\n",
       "    .dataframe tbody tr th {\n",
       "        vertical-align: top;\n",
       "    }\n",
       "\n",
       "    .dataframe thead th {\n",
       "        text-align: right;\n",
       "    }\n",
       "</style>\n",
       "<table border=\"1\" class=\"dataframe\">\n",
       "  <thead>\n",
       "    <tr style=\"text-align: right;\">\n",
       "      <th></th>\n",
       "      <th>a</th>\n",
       "      <th>b</th>\n",
       "    </tr>\n",
       "  </thead>\n",
       "  <tbody>\n",
       "    <tr>\n",
       "      <td>0</td>\n",
       "      <td>1.0</td>\n",
       "      <td>6.5</td>\n",
       "    </tr>\n",
       "    <tr>\n",
       "      <td>1</td>\n",
       "      <td>1.0</td>\n",
       "      <td>NaN</td>\n",
       "    </tr>\n",
       "    <tr>\n",
       "      <td>2</td>\n",
       "      <td>NaN</td>\n",
       "      <td>NaN</td>\n",
       "    </tr>\n",
       "    <tr>\n",
       "      <td>3</td>\n",
       "      <td>NaN</td>\n",
       "      <td>6.5</td>\n",
       "    </tr>\n",
       "  </tbody>\n",
       "</table>\n",
       "</div>"
      ],
      "text/plain": [
       "     a    b\n",
       "0  1.0  6.5\n",
       "1  1.0  NaN\n",
       "2  NaN  NaN\n",
       "3  NaN  6.5"
      ]
     },
     "execution_count": 27,
     "metadata": {},
     "output_type": "execute_result"
    }
   ],
   "source": [
    "from numpy import nan as NA\n",
    "data = pd.DataFrame([[1,6.5,NA],[1,NA,NA],[NA,NA,NA],[NA,6.5,NA]], columns=list('abc'))\n",
    "print(data)\n",
    "\n",
    "cleaned=data.dropna() #remove the row when any one value is NaN\n",
    "print()\n",
    "display(cleaned)\n",
    "\n",
    "#data.dropna(how='all') #remove the whenin which all values are NaN\n",
    "data.dropna(axis=1,how='all') remove he column having all values are NaN"
   ]
  },
  {
   "cell_type": "markdown",
   "metadata": {},
   "source": [
    "# Filling Missing Data"
   ]
  },
  {
   "cell_type": "code",
   "execution_count": 40,
   "metadata": {},
   "outputs": [
    {
     "name": "stdout",
     "output_type": "stream",
     "text": [
      "          0         1         2\n",
      "0 -0.425287  2.060503 -1.758433\n",
      "1  0.146128  1.889210  0.872535\n",
      "2  0.151455 -1.215082 -0.537737\n",
      "3 -0.254914  0.159042  1.055089\n",
      "4 -0.107907 -0.760282  0.500436\n",
      "5 -1.401329 -0.120781 -1.701431\n",
      "6 -0.557065  0.306599 -0.020865\n"
     ]
    },
    {
     "data": {
      "text/html": [
       "<div>\n",
       "<style scoped>\n",
       "    .dataframe tbody tr th:only-of-type {\n",
       "        vertical-align: middle;\n",
       "    }\n",
       "\n",
       "    .dataframe tbody tr th {\n",
       "        vertical-align: top;\n",
       "    }\n",
       "\n",
       "    .dataframe thead th {\n",
       "        text-align: right;\n",
       "    }\n",
       "</style>\n",
       "<table border=\"1\" class=\"dataframe\">\n",
       "  <thead>\n",
       "    <tr style=\"text-align: right;\">\n",
       "      <th></th>\n",
       "      <th>0</th>\n",
       "      <th>1</th>\n",
       "      <th>2</th>\n",
       "    </tr>\n",
       "  </thead>\n",
       "  <tbody>\n",
       "    <tr>\n",
       "      <td>0</td>\n",
       "      <td>-0.425287</td>\n",
       "      <td>NaN</td>\n",
       "      <td>NaN</td>\n",
       "    </tr>\n",
       "    <tr>\n",
       "      <td>1</td>\n",
       "      <td>0.146128</td>\n",
       "      <td>NaN</td>\n",
       "      <td>NaN</td>\n",
       "    </tr>\n",
       "    <tr>\n",
       "      <td>2</td>\n",
       "      <td>0.151455</td>\n",
       "      <td>NaN</td>\n",
       "      <td>-0.537737</td>\n",
       "    </tr>\n",
       "    <tr>\n",
       "      <td>3</td>\n",
       "      <td>-0.254914</td>\n",
       "      <td>NaN</td>\n",
       "      <td>1.055089</td>\n",
       "    </tr>\n",
       "    <tr>\n",
       "      <td>4</td>\n",
       "      <td>-0.107907</td>\n",
       "      <td>-0.760282</td>\n",
       "      <td>0.500436</td>\n",
       "    </tr>\n",
       "    <tr>\n",
       "      <td>5</td>\n",
       "      <td>-1.401329</td>\n",
       "      <td>-0.120781</td>\n",
       "      <td>-1.701431</td>\n",
       "    </tr>\n",
       "    <tr>\n",
       "      <td>6</td>\n",
       "      <td>-0.557065</td>\n",
       "      <td>0.306599</td>\n",
       "      <td>-0.020865</td>\n",
       "    </tr>\n",
       "  </tbody>\n",
       "</table>\n",
       "</div>"
      ],
      "text/plain": [
       "          0         1         2\n",
       "0 -0.425287       NaN       NaN\n",
       "1  0.146128       NaN       NaN\n",
       "2  0.151455       NaN -0.537737\n",
       "3 -0.254914       NaN  1.055089\n",
       "4 -0.107907 -0.760282  0.500436\n",
       "5 -1.401329 -0.120781 -1.701431\n",
       "6 -0.557065  0.306599 -0.020865"
      ]
     },
     "metadata": {},
     "output_type": "display_data"
    },
    {
     "name": "stdout",
     "output_type": "stream",
     "text": [
      "          0         1         2\n",
      "0 -0.425287 -0.425287 -0.425287\n",
      "1  0.146128  0.146128  0.146128\n",
      "2  0.151455  0.151455 -0.537737\n",
      "3 -0.254914 -0.254914  1.055089\n",
      "4 -0.107907 -0.760282  0.500436\n",
      "5 -1.401329 -0.120781 -1.701431\n",
      "6 -0.557065  0.306599 -0.020865\n"
     ]
    }
   ],
   "source": [
    "df=pd.DataFrame(np.random.randn(7,3))\n",
    "print(df)\n",
    "df.iloc[:4,1]=NA\n",
    "df.iloc[:2,2]=NA\n",
    "display(df)\n",
    "#df.fillna(33.3)  #null values replaced with 33.3\n",
    "#a=df.fillna({1:0.55,2:4.55}) #column 1 NA is replace by 1.55 and column 2 NA is replace by 4.55\n",
    "#display(a)\n",
    "df=df.fillna(method='ffill',axis=1)\n",
    "print(df)"
   ]
  },
  {
   "cell_type": "markdown",
   "metadata": {},
   "source": [
    "# Removing Duplicates"
   ]
  },
  {
   "cell_type": "code",
   "execution_count": 5,
   "metadata": {},
   "outputs": [
    {
     "data": {
      "text/html": [
       "<div>\n",
       "<style scoped>\n",
       "    .dataframe tbody tr th:only-of-type {\n",
       "        vertical-align: middle;\n",
       "    }\n",
       "\n",
       "    .dataframe tbody tr th {\n",
       "        vertical-align: top;\n",
       "    }\n",
       "\n",
       "    .dataframe thead th {\n",
       "        text-align: right;\n",
       "    }\n",
       "</style>\n",
       "<table border=\"1\" class=\"dataframe\">\n",
       "  <thead>\n",
       "    <tr style=\"text-align: right;\">\n",
       "      <th></th>\n",
       "      <th>K1</th>\n",
       "      <th>K2</th>\n",
       "    </tr>\n",
       "  </thead>\n",
       "  <tbody>\n",
       "    <tr>\n",
       "      <td>0</td>\n",
       "      <td>one</td>\n",
       "      <td>1</td>\n",
       "    </tr>\n",
       "    <tr>\n",
       "      <td>1</td>\n",
       "      <td>two</td>\n",
       "      <td>1</td>\n",
       "    </tr>\n",
       "    <tr>\n",
       "      <td>2</td>\n",
       "      <td>one</td>\n",
       "      <td>2</td>\n",
       "    </tr>\n",
       "    <tr>\n",
       "      <td>3</td>\n",
       "      <td>two</td>\n",
       "      <td>3</td>\n",
       "    </tr>\n",
       "    <tr>\n",
       "      <td>4</td>\n",
       "      <td>one</td>\n",
       "      <td>3</td>\n",
       "    </tr>\n",
       "    <tr>\n",
       "      <td>5</td>\n",
       "      <td>two</td>\n",
       "      <td>4</td>\n",
       "    </tr>\n",
       "    <tr>\n",
       "      <td>6</td>\n",
       "      <td>two</td>\n",
       "      <td>4</td>\n",
       "    </tr>\n",
       "  </tbody>\n",
       "</table>\n",
       "</div>"
      ],
      "text/plain": [
       "    K1  K2\n",
       "0  one   1\n",
       "1  two   1\n",
       "2  one   2\n",
       "3  two   3\n",
       "4  one   3\n",
       "5  two   4\n",
       "6  two   4"
      ]
     },
     "metadata": {},
     "output_type": "display_data"
    },
    {
     "name": "stdout",
     "output_type": "stream",
     "text": [
      "\n"
     ]
    },
    {
     "data": {
      "text/html": [
       "<div>\n",
       "<style scoped>\n",
       "    .dataframe tbody tr th:only-of-type {\n",
       "        vertical-align: middle;\n",
       "    }\n",
       "\n",
       "    .dataframe tbody tr th {\n",
       "        vertical-align: top;\n",
       "    }\n",
       "\n",
       "    .dataframe thead th {\n",
       "        text-align: right;\n",
       "    }\n",
       "</style>\n",
       "<table border=\"1\" class=\"dataframe\">\n",
       "  <thead>\n",
       "    <tr style=\"text-align: right;\">\n",
       "      <th></th>\n",
       "      <th>K1</th>\n",
       "      <th>K2</th>\n",
       "      <th>V1</th>\n",
       "    </tr>\n",
       "  </thead>\n",
       "  <tbody>\n",
       "    <tr>\n",
       "      <td>0</td>\n",
       "      <td>one</td>\n",
       "      <td>1</td>\n",
       "      <td>one</td>\n",
       "    </tr>\n",
       "    <tr>\n",
       "      <td>1</td>\n",
       "      <td>two</td>\n",
       "      <td>1</td>\n",
       "      <td>one</td>\n",
       "    </tr>\n",
       "    <tr>\n",
       "      <td>2</td>\n",
       "      <td>one</td>\n",
       "      <td>2</td>\n",
       "      <td>two</td>\n",
       "    </tr>\n",
       "    <tr>\n",
       "      <td>3</td>\n",
       "      <td>two</td>\n",
       "      <td>3</td>\n",
       "      <td>three</td>\n",
       "    </tr>\n",
       "    <tr>\n",
       "      <td>4</td>\n",
       "      <td>one</td>\n",
       "      <td>3</td>\n",
       "      <td>three</td>\n",
       "    </tr>\n",
       "    <tr>\n",
       "      <td>5</td>\n",
       "      <td>two</td>\n",
       "      <td>4</td>\n",
       "      <td>four</td>\n",
       "    </tr>\n",
       "    <tr>\n",
       "      <td>6</td>\n",
       "      <td>two</td>\n",
       "      <td>4</td>\n",
       "      <td>four</td>\n",
       "    </tr>\n",
       "  </tbody>\n",
       "</table>\n",
       "</div>"
      ],
      "text/plain": [
       "    K1  K2     V1\n",
       "0  one   1    one\n",
       "1  two   1    one\n",
       "2  one   2    two\n",
       "3  two   3  three\n",
       "4  one   3  three\n",
       "5  two   4   four\n",
       "6  two   4   four"
      ]
     },
     "metadata": {},
     "output_type": "display_data"
    },
    {
     "data": {
      "text/html": [
       "<div>\n",
       "<style scoped>\n",
       "    .dataframe tbody tr th:only-of-type {\n",
       "        vertical-align: middle;\n",
       "    }\n",
       "\n",
       "    .dataframe tbody tr th {\n",
       "        vertical-align: top;\n",
       "    }\n",
       "\n",
       "    .dataframe thead th {\n",
       "        text-align: right;\n",
       "    }\n",
       "</style>\n",
       "<table border=\"1\" class=\"dataframe\">\n",
       "  <thead>\n",
       "    <tr style=\"text-align: right;\">\n",
       "      <th></th>\n",
       "      <th>K1</th>\n",
       "      <th>K2</th>\n",
       "      <th>V1</th>\n",
       "    </tr>\n",
       "  </thead>\n",
       "  <tbody>\n",
       "    <tr>\n",
       "      <td>0</td>\n",
       "      <td>one</td>\n",
       "      <td>1</td>\n",
       "      <td>one</td>\n",
       "    </tr>\n",
       "    <tr>\n",
       "      <td>1</td>\n",
       "      <td>two</td>\n",
       "      <td>1</td>\n",
       "      <td>one</td>\n",
       "    </tr>\n",
       "    <tr>\n",
       "      <td>2</td>\n",
       "      <td>one</td>\n",
       "      <td>2</td>\n",
       "      <td>two</td>\n",
       "    </tr>\n",
       "    <tr>\n",
       "      <td>3</td>\n",
       "      <td>two</td>\n",
       "      <td>3</td>\n",
       "      <td>three</td>\n",
       "    </tr>\n",
       "    <tr>\n",
       "      <td>4</td>\n",
       "      <td>one</td>\n",
       "      <td>3</td>\n",
       "      <td>three</td>\n",
       "    </tr>\n",
       "    <tr>\n",
       "      <td>5</td>\n",
       "      <td>two</td>\n",
       "      <td>4</td>\n",
       "      <td>four</td>\n",
       "    </tr>\n",
       "  </tbody>\n",
       "</table>\n",
       "</div>"
      ],
      "text/plain": [
       "    K1  K2     V1\n",
       "0  one   1    one\n",
       "1  two   1    one\n",
       "2  one   2    two\n",
       "3  two   3  three\n",
       "4  one   3  three\n",
       "5  two   4   four"
      ]
     },
     "execution_count": 5,
     "metadata": {},
     "output_type": "execute_result"
    }
   ],
   "source": [
    "import pandas as pd\n",
    "data=pd.DataFrame({'K1':['one','two']*3 + ['two'],'K2':[1,1,2,3,3,4,4]})\n",
    "display(data)\n",
    "print()\n",
    "#data.drop_duplicates() #it removes the duplicate row\n",
    "#data.duplicated() #it give the boolean output give true on duplicate rows\n",
    "data['V1']=['one','one','two','three','three','four','four']\n",
    "display(data)\n",
    "data=data.drop_duplicates(['K1','V1']) #it checks the duplicate in K1 and V1\n",
    "data\n",
    "\n"
   ]
  },
  {
   "cell_type": "markdown",
   "metadata": {},
   "source": [
    "# Replacing Values"
   ]
  },
  {
   "cell_type": "code",
   "execution_count": 25,
   "metadata": {},
   "outputs": [
    {
     "name": "stdout",
     "output_type": "stream",
     "text": [
      "          0         1         2\n",
      "0  0.674500 -0.251917  1.582586\n",
      "1 -0.679413  0.756876  0.088314\n",
      "2  0.796515  0.840008 -0.481016\n",
      "3  1.445833  0.923197 -0.135894\n",
      "4  0.936411  1.951042  0.086262\n",
      "5  1.255859 -0.581055 -1.945434\n",
      "6 -0.054598  0.864869 -1.360851\n"
     ]
    },
    {
     "data": {
      "text/html": [
       "<div>\n",
       "<style scoped>\n",
       "    .dataframe tbody tr th:only-of-type {\n",
       "        vertical-align: middle;\n",
       "    }\n",
       "\n",
       "    .dataframe tbody tr th {\n",
       "        vertical-align: top;\n",
       "    }\n",
       "\n",
       "    .dataframe thead th {\n",
       "        text-align: right;\n",
       "    }\n",
       "</style>\n",
       "<table border=\"1\" class=\"dataframe\">\n",
       "  <thead>\n",
       "    <tr style=\"text-align: right;\">\n",
       "      <th></th>\n",
       "      <th>0</th>\n",
       "      <th>1</th>\n",
       "      <th>2</th>\n",
       "    </tr>\n",
       "  </thead>\n",
       "  <tbody>\n",
       "    <tr>\n",
       "      <td>0</td>\n",
       "      <td>0.674500</td>\n",
       "      <td>NaN</td>\n",
       "      <td>444.000000</td>\n",
       "    </tr>\n",
       "    <tr>\n",
       "      <td>1</td>\n",
       "      <td>-0.679413</td>\n",
       "      <td>NaN</td>\n",
       "      <td>444.000000</td>\n",
       "    </tr>\n",
       "    <tr>\n",
       "      <td>2</td>\n",
       "      <td>0.796515</td>\n",
       "      <td>NaN</td>\n",
       "      <td>-0.481016</td>\n",
       "    </tr>\n",
       "    <tr>\n",
       "      <td>3</td>\n",
       "      <td>1.445833</td>\n",
       "      <td>NaN</td>\n",
       "      <td>-0.135894</td>\n",
       "    </tr>\n",
       "    <tr>\n",
       "      <td>4</td>\n",
       "      <td>0.936411</td>\n",
       "      <td>1.951042</td>\n",
       "      <td>0.086262</td>\n",
       "    </tr>\n",
       "    <tr>\n",
       "      <td>5</td>\n",
       "      <td>1.255859</td>\n",
       "      <td>-0.581055</td>\n",
       "      <td>-1.945434</td>\n",
       "    </tr>\n",
       "    <tr>\n",
       "      <td>6</td>\n",
       "      <td>-0.054598</td>\n",
       "      <td>0.864869</td>\n",
       "      <td>-1.360851</td>\n",
       "    </tr>\n",
       "  </tbody>\n",
       "</table>\n",
       "</div>"
      ],
      "text/plain": [
       "          0         1           2\n",
       "0  0.674500       NaN  444.000000\n",
       "1 -0.679413       NaN  444.000000\n",
       "2  0.796515       NaN   -0.481016\n",
       "3  1.445833       NaN   -0.135894\n",
       "4  0.936411  1.951042    0.086262\n",
       "5  1.255859 -0.581055   -1.945434\n",
       "6 -0.054598  0.864869   -1.360851"
      ]
     },
     "metadata": {},
     "output_type": "display_data"
    }
   ],
   "source": [
    "from numpy import nan as NA\n",
    "import numpy as np\n",
    "df=pd.DataFrame(np.random.randn(7,3))\n",
    "print(df)\n",
    "df.iloc[:4,1]=NA\n",
    "df.iloc[:2,2]=444\n",
    "display(df)\n",
    "#df=df.replace(np.nan, 502)\n"
   ]
  },
  {
   "cell_type": "code",
   "execution_count": 26,
   "metadata": {},
   "outputs": [
    {
     "data": {
      "text/html": [
       "<div>\n",
       "<style scoped>\n",
       "    .dataframe tbody tr th:only-of-type {\n",
       "        vertical-align: middle;\n",
       "    }\n",
       "\n",
       "    .dataframe tbody tr th {\n",
       "        vertical-align: top;\n",
       "    }\n",
       "\n",
       "    .dataframe thead th {\n",
       "        text-align: right;\n",
       "    }\n",
       "</style>\n",
       "<table border=\"1\" class=\"dataframe\">\n",
       "  <thead>\n",
       "    <tr style=\"text-align: right;\">\n",
       "      <th></th>\n",
       "      <th>0</th>\n",
       "      <th>1</th>\n",
       "      <th>2</th>\n",
       "    </tr>\n",
       "  </thead>\n",
       "  <tbody>\n",
       "    <tr>\n",
       "      <td>0</td>\n",
       "      <td>0.674500</td>\n",
       "      <td>0.000000</td>\n",
       "      <td>300.000000</td>\n",
       "    </tr>\n",
       "    <tr>\n",
       "      <td>1</td>\n",
       "      <td>-0.679413</td>\n",
       "      <td>0.000000</td>\n",
       "      <td>300.000000</td>\n",
       "    </tr>\n",
       "    <tr>\n",
       "      <td>2</td>\n",
       "      <td>0.796515</td>\n",
       "      <td>0.000000</td>\n",
       "      <td>-0.481016</td>\n",
       "    </tr>\n",
       "    <tr>\n",
       "      <td>3</td>\n",
       "      <td>1.445833</td>\n",
       "      <td>0.000000</td>\n",
       "      <td>-0.135894</td>\n",
       "    </tr>\n",
       "    <tr>\n",
       "      <td>4</td>\n",
       "      <td>0.936411</td>\n",
       "      <td>1.951042</td>\n",
       "      <td>0.086262</td>\n",
       "    </tr>\n",
       "    <tr>\n",
       "      <td>5</td>\n",
       "      <td>1.255859</td>\n",
       "      <td>-0.581055</td>\n",
       "      <td>-1.945434</td>\n",
       "    </tr>\n",
       "    <tr>\n",
       "      <td>6</td>\n",
       "      <td>-0.054598</td>\n",
       "      <td>0.864869</td>\n",
       "      <td>-1.360851</td>\n",
       "    </tr>\n",
       "  </tbody>\n",
       "</table>\n",
       "</div>"
      ],
      "text/plain": [
       "          0         1           2\n",
       "0  0.674500  0.000000  300.000000\n",
       "1 -0.679413  0.000000  300.000000\n",
       "2  0.796515  0.000000   -0.481016\n",
       "3  1.445833  0.000000   -0.135894\n",
       "4  0.936411  1.951042    0.086262\n",
       "5  1.255859 -0.581055   -1.945434\n",
       "6 -0.054598  0.864869   -1.360851"
      ]
     },
     "execution_count": 26,
     "metadata": {},
     "output_type": "execute_result"
    }
   ],
   "source": [
    "df1=df.replace([NA,444],[0,300]) #replace([which value u want to replace],[the actual value u want to replace])\n",
    "df1"
   ]
  },
  {
   "cell_type": "markdown",
   "metadata": {},
   "source": [
    "# Mapping"
   ]
  },
  {
   "cell_type": "code",
   "execution_count": 32,
   "metadata": {},
   "outputs": [
    {
     "name": "stdout",
     "output_type": "stream",
     "text": [
      "               a         b         c\n",
      "utah    1.116060  1.559671 -2.064248\n",
      "Ohio   -0.273139 -1.176321 -0.967728\n",
      "Texas  -0.523477 -1.752201 -0.329753\n",
      "oregon  0.891770 -0.081383  0.273960\n"
     ]
    },
    {
     "data": {
      "text/plain": [
       "Index(['UTA', 'OHI', 'TEX', 'ORE'], dtype='object')"
      ]
     },
     "execution_count": 32,
     "metadata": {},
     "output_type": "execute_result"
    }
   ],
   "source": [
    "frame=pd.DataFrame(np.random.randn(4,3),columns=list('abc'),index=['utah','Ohio','Texas','oregon'])\n",
    "print(frame)\n",
    "trans= lambda x:x[0:3].upper()\n",
    "\n",
    "\n",
    "df=frame.index.map(trans)\n",
    "df"
   ]
  },
  {
   "cell_type": "markdown",
   "metadata": {},
   "source": [
    "# Outliers"
   ]
  },
  {
   "cell_type": "code",
   "execution_count": 57,
   "metadata": {},
   "outputs": [
    {
     "data": {
      "text/html": [
       "<div>\n",
       "<style scoped>\n",
       "    .dataframe tbody tr th:only-of-type {\n",
       "        vertical-align: middle;\n",
       "    }\n",
       "\n",
       "    .dataframe tbody tr th {\n",
       "        vertical-align: top;\n",
       "    }\n",
       "\n",
       "    .dataframe thead th {\n",
       "        text-align: right;\n",
       "    }\n",
       "</style>\n",
       "<table border=\"1\" class=\"dataframe\">\n",
       "  <thead>\n",
       "    <tr style=\"text-align: right;\">\n",
       "      <th></th>\n",
       "      <th>0</th>\n",
       "      <th>1</th>\n",
       "      <th>2</th>\n",
       "    </tr>\n",
       "  </thead>\n",
       "  <tbody>\n",
       "    <tr>\n",
       "      <td>0</td>\n",
       "      <td>1.111553</td>\n",
       "      <td>0.276388</td>\n",
       "      <td>0.025132</td>\n",
       "    </tr>\n",
       "    <tr>\n",
       "      <td>1</td>\n",
       "      <td>1.359688</td>\n",
       "      <td>0.193877</td>\n",
       "      <td>2.658462</td>\n",
       "    </tr>\n",
       "    <tr>\n",
       "      <td>2</td>\n",
       "      <td>0.279894</td>\n",
       "      <td>0.662224</td>\n",
       "      <td>0.036825</td>\n",
       "    </tr>\n",
       "    <tr>\n",
       "      <td>3</td>\n",
       "      <td>0.249738</td>\n",
       "      <td>0.833578</td>\n",
       "      <td>1.657207</td>\n",
       "    </tr>\n",
       "  </tbody>\n",
       "</table>\n",
       "</div>"
      ],
      "text/plain": [
       "          0         1         2\n",
       "0  1.111553  0.276388  0.025132\n",
       "1  1.359688  0.193877  2.658462\n",
       "2  0.279894  0.662224  0.036825\n",
       "3  0.249738  0.833578  1.657207"
      ]
     },
     "metadata": {},
     "output_type": "display_data"
    },
    {
     "data": {
      "text/plain": [
       "0    0.025132\n",
       "1    2.658462\n",
       "2    0.036825\n",
       "3    1.657207\n",
       "Name: 2, dtype: float64"
      ]
     },
     "metadata": {},
     "output_type": "display_data"
    },
    {
     "name": "stdout",
     "output_type": "stream",
     "text": [
      "          0         1         2\n",
      "0  1.111553  0.276388  0.025132\n",
      "1  1.359688  0.193877  2.658462\n",
      "3  0.249738  0.833578  1.657207\n",
      "3 4\n"
     ]
    },
    {
     "data": {
      "text/html": [
       "<div>\n",
       "<style scoped>\n",
       "    .dataframe tbody tr th:only-of-type {\n",
       "        vertical-align: middle;\n",
       "    }\n",
       "\n",
       "    .dataframe tbody tr th {\n",
       "        vertical-align: top;\n",
       "    }\n",
       "\n",
       "    .dataframe thead th {\n",
       "        text-align: right;\n",
       "    }\n",
       "</style>\n",
       "<table border=\"1\" class=\"dataframe\">\n",
       "  <thead>\n",
       "    <tr style=\"text-align: right;\">\n",
       "      <th></th>\n",
       "      <th>0</th>\n",
       "      <th>1</th>\n",
       "      <th>2</th>\n",
       "    </tr>\n",
       "  </thead>\n",
       "  <tbody>\n",
       "    <tr>\n",
       "      <td>0</td>\n",
       "      <td>1.111553</td>\n",
       "      <td>NaN</td>\n",
       "      <td>NaN</td>\n",
       "    </tr>\n",
       "    <tr>\n",
       "      <td>1</td>\n",
       "      <td>1.359688</td>\n",
       "      <td>NaN</td>\n",
       "      <td>2.658462</td>\n",
       "    </tr>\n",
       "    <tr>\n",
       "      <td>2</td>\n",
       "      <td>NaN</td>\n",
       "      <td>NaN</td>\n",
       "      <td>NaN</td>\n",
       "    </tr>\n",
       "    <tr>\n",
       "      <td>3</td>\n",
       "      <td>NaN</td>\n",
       "      <td>NaN</td>\n",
       "      <td>1.657207</td>\n",
       "    </tr>\n",
       "  </tbody>\n",
       "</table>\n",
       "</div>"
      ],
      "text/plain": [
       "          0   1         2\n",
       "0  1.111553 NaN       NaN\n",
       "1  1.359688 NaN  2.658462\n",
       "2       NaN NaN       NaN\n",
       "3       NaN NaN  1.657207"
      ]
     },
     "execution_count": 57,
     "metadata": {},
     "output_type": "execute_result"
    }
   ],
   "source": [
    "frame=pd.DataFrame(np.random.randn(4,3))\n",
    "display(frame)\n",
    "#frame.describe()\n",
    "col=frame[2]\n",
    "a=col[np.abs(col)>-1.1]\n",
    "display(a)\n",
    "\n",
    "outliers=frame[(np.abs(frame)>1).any(1)]\n",
    "print(outliers)\n",
    "print(len(outliers),len(frame))  #Len(number of outliers),len(total data set quantity)x`\n",
    "frame[(np.abs(frame)>1)]  #it is a filter data those values which are less than one indicates NaN remaining display\n",
    "               "
   ]
  },
  {
   "cell_type": "code",
   "execution_count": null,
   "metadata": {},
   "outputs": [],
   "source": []
  }
 ],
 "metadata": {
  "kernelspec": {
   "display_name": "Python 3",
   "language": "python",
   "name": "python3"
  },
  "language_info": {
   "codemirror_mode": {
    "name": "ipython",
    "version": 3
   },
   "file_extension": ".py",
   "mimetype": "text/x-python",
   "name": "python",
   "nbconvert_exporter": "python",
   "pygments_lexer": "ipython3",
   "version": "3.7.4"
  }
 },
 "nbformat": 4,
 "nbformat_minor": 2
}
